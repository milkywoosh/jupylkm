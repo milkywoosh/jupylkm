{
 "cells": [
  {
   "cell_type": "code",
   "execution_count": 2,
   "metadata": {},
   "outputs": [],
   "source": [
    "import pandas as pd\n",
    "import numpy as np\n",
    "import matplotlib.pyplot as plt\n",
    "import os\n",
    "import copy\n",
    "# import xlsxwriter\n",
    "from datetime import date"
   ]
  },
  {
   "cell_type": "code",
   "execution_count": 3,
   "metadata": {
    "collapsed": true
   },
   "outputs": [
    {
     "ename": "ParserError",
     "evalue": "Error tokenizing data. C error: Expected 8 fields in line 19, saw 16\n",
     "output_type": "error",
     "traceback": [
      "\u001b[1;31m---------------------------------------------------------------------------\u001b[0m",
      "\u001b[1;31mParserError\u001b[0m                               Traceback (most recent call last)",
      "\u001b[1;32m<ipython-input-3-904a6f53aabd>\u001b[0m in \u001b[0;36m<module>\u001b[1;34m\u001b[0m\n\u001b[1;32m----> 1\u001b[1;33m \u001b[0mapril\u001b[0m \u001b[1;33m=\u001b[0m \u001b[0mpd\u001b[0m\u001b[1;33m.\u001b[0m\u001b[0mread_csv\u001b[0m\u001b[1;33m(\u001b[0m\u001b[1;34m'9 APRIL.csv'\u001b[0m\u001b[1;33m)\u001b[0m\u001b[1;33m\u001b[0m\u001b[1;33m\u001b[0m\u001b[0m\n\u001b[0m",
      "\u001b[1;32mc:\\users\\kartu\\appdata\\local\\programs\\python\\python37-32\\lib\\site-packages\\pandas\\io\\parsers.py\u001b[0m in \u001b[0;36mparser_f\u001b[1;34m(filepath_or_buffer, sep, delimiter, header, names, index_col, usecols, squeeze, prefix, mangle_dupe_cols, dtype, engine, converters, true_values, false_values, skipinitialspace, skiprows, skipfooter, nrows, na_values, keep_default_na, na_filter, verbose, skip_blank_lines, parse_dates, infer_datetime_format, keep_date_col, date_parser, dayfirst, cache_dates, iterator, chunksize, compression, thousands, decimal, lineterminator, quotechar, quoting, doublequote, escapechar, comment, encoding, dialect, error_bad_lines, warn_bad_lines, delim_whitespace, low_memory, memory_map, float_precision)\u001b[0m\n\u001b[0;32m    683\u001b[0m         )\n\u001b[0;32m    684\u001b[0m \u001b[1;33m\u001b[0m\u001b[0m\n\u001b[1;32m--> 685\u001b[1;33m         \u001b[1;32mreturn\u001b[0m \u001b[0m_read\u001b[0m\u001b[1;33m(\u001b[0m\u001b[0mfilepath_or_buffer\u001b[0m\u001b[1;33m,\u001b[0m \u001b[0mkwds\u001b[0m\u001b[1;33m)\u001b[0m\u001b[1;33m\u001b[0m\u001b[1;33m\u001b[0m\u001b[0m\n\u001b[0m\u001b[0;32m    686\u001b[0m \u001b[1;33m\u001b[0m\u001b[0m\n\u001b[0;32m    687\u001b[0m     \u001b[0mparser_f\u001b[0m\u001b[1;33m.\u001b[0m\u001b[0m__name__\u001b[0m \u001b[1;33m=\u001b[0m \u001b[0mname\u001b[0m\u001b[1;33m\u001b[0m\u001b[1;33m\u001b[0m\u001b[0m\n",
      "\u001b[1;32mc:\\users\\kartu\\appdata\\local\\programs\\python\\python37-32\\lib\\site-packages\\pandas\\io\\parsers.py\u001b[0m in \u001b[0;36m_read\u001b[1;34m(filepath_or_buffer, kwds)\u001b[0m\n\u001b[0;32m    461\u001b[0m \u001b[1;33m\u001b[0m\u001b[0m\n\u001b[0;32m    462\u001b[0m     \u001b[1;32mtry\u001b[0m\u001b[1;33m:\u001b[0m\u001b[1;33m\u001b[0m\u001b[1;33m\u001b[0m\u001b[0m\n\u001b[1;32m--> 463\u001b[1;33m         \u001b[0mdata\u001b[0m \u001b[1;33m=\u001b[0m \u001b[0mparser\u001b[0m\u001b[1;33m.\u001b[0m\u001b[0mread\u001b[0m\u001b[1;33m(\u001b[0m\u001b[0mnrows\u001b[0m\u001b[1;33m)\u001b[0m\u001b[1;33m\u001b[0m\u001b[1;33m\u001b[0m\u001b[0m\n\u001b[0m\u001b[0;32m    464\u001b[0m     \u001b[1;32mfinally\u001b[0m\u001b[1;33m:\u001b[0m\u001b[1;33m\u001b[0m\u001b[1;33m\u001b[0m\u001b[0m\n\u001b[0;32m    465\u001b[0m         \u001b[0mparser\u001b[0m\u001b[1;33m.\u001b[0m\u001b[0mclose\u001b[0m\u001b[1;33m(\u001b[0m\u001b[1;33m)\u001b[0m\u001b[1;33m\u001b[0m\u001b[1;33m\u001b[0m\u001b[0m\n",
      "\u001b[1;32mc:\\users\\kartu\\appdata\\local\\programs\\python\\python37-32\\lib\\site-packages\\pandas\\io\\parsers.py\u001b[0m in \u001b[0;36mread\u001b[1;34m(self, nrows)\u001b[0m\n\u001b[0;32m   1152\u001b[0m     \u001b[1;32mdef\u001b[0m \u001b[0mread\u001b[0m\u001b[1;33m(\u001b[0m\u001b[0mself\u001b[0m\u001b[1;33m,\u001b[0m \u001b[0mnrows\u001b[0m\u001b[1;33m=\u001b[0m\u001b[1;32mNone\u001b[0m\u001b[1;33m)\u001b[0m\u001b[1;33m:\u001b[0m\u001b[1;33m\u001b[0m\u001b[1;33m\u001b[0m\u001b[0m\n\u001b[0;32m   1153\u001b[0m         \u001b[0mnrows\u001b[0m \u001b[1;33m=\u001b[0m \u001b[0m_validate_integer\u001b[0m\u001b[1;33m(\u001b[0m\u001b[1;34m\"nrows\"\u001b[0m\u001b[1;33m,\u001b[0m \u001b[0mnrows\u001b[0m\u001b[1;33m)\u001b[0m\u001b[1;33m\u001b[0m\u001b[1;33m\u001b[0m\u001b[0m\n\u001b[1;32m-> 1154\u001b[1;33m         \u001b[0mret\u001b[0m \u001b[1;33m=\u001b[0m \u001b[0mself\u001b[0m\u001b[1;33m.\u001b[0m\u001b[0m_engine\u001b[0m\u001b[1;33m.\u001b[0m\u001b[0mread\u001b[0m\u001b[1;33m(\u001b[0m\u001b[0mnrows\u001b[0m\u001b[1;33m)\u001b[0m\u001b[1;33m\u001b[0m\u001b[1;33m\u001b[0m\u001b[0m\n\u001b[0m\u001b[0;32m   1155\u001b[0m \u001b[1;33m\u001b[0m\u001b[0m\n\u001b[0;32m   1156\u001b[0m         \u001b[1;31m# May alter columns / col_dict\u001b[0m\u001b[1;33m\u001b[0m\u001b[1;33m\u001b[0m\u001b[1;33m\u001b[0m\u001b[0m\n",
      "\u001b[1;32mc:\\users\\kartu\\appdata\\local\\programs\\python\\python37-32\\lib\\site-packages\\pandas\\io\\parsers.py\u001b[0m in \u001b[0;36mread\u001b[1;34m(self, nrows)\u001b[0m\n\u001b[0;32m   2057\u001b[0m     \u001b[1;32mdef\u001b[0m \u001b[0mread\u001b[0m\u001b[1;33m(\u001b[0m\u001b[0mself\u001b[0m\u001b[1;33m,\u001b[0m \u001b[0mnrows\u001b[0m\u001b[1;33m=\u001b[0m\u001b[1;32mNone\u001b[0m\u001b[1;33m)\u001b[0m\u001b[1;33m:\u001b[0m\u001b[1;33m\u001b[0m\u001b[1;33m\u001b[0m\u001b[0m\n\u001b[0;32m   2058\u001b[0m         \u001b[1;32mtry\u001b[0m\u001b[1;33m:\u001b[0m\u001b[1;33m\u001b[0m\u001b[1;33m\u001b[0m\u001b[0m\n\u001b[1;32m-> 2059\u001b[1;33m             \u001b[0mdata\u001b[0m \u001b[1;33m=\u001b[0m \u001b[0mself\u001b[0m\u001b[1;33m.\u001b[0m\u001b[0m_reader\u001b[0m\u001b[1;33m.\u001b[0m\u001b[0mread\u001b[0m\u001b[1;33m(\u001b[0m\u001b[0mnrows\u001b[0m\u001b[1;33m)\u001b[0m\u001b[1;33m\u001b[0m\u001b[1;33m\u001b[0m\u001b[0m\n\u001b[0m\u001b[0;32m   2060\u001b[0m         \u001b[1;32mexcept\u001b[0m \u001b[0mStopIteration\u001b[0m\u001b[1;33m:\u001b[0m\u001b[1;33m\u001b[0m\u001b[1;33m\u001b[0m\u001b[0m\n\u001b[0;32m   2061\u001b[0m             \u001b[1;32mif\u001b[0m \u001b[0mself\u001b[0m\u001b[1;33m.\u001b[0m\u001b[0m_first_chunk\u001b[0m\u001b[1;33m:\u001b[0m\u001b[1;33m\u001b[0m\u001b[1;33m\u001b[0m\u001b[0m\n",
      "\u001b[1;32mpandas/_libs/parsers.pyx\u001b[0m in \u001b[0;36mpandas._libs.parsers.TextReader.read\u001b[1;34m()\u001b[0m\n",
      "\u001b[1;32mpandas/_libs/parsers.pyx\u001b[0m in \u001b[0;36mpandas._libs.parsers.TextReader._read_low_memory\u001b[1;34m()\u001b[0m\n",
      "\u001b[1;32mpandas/_libs/parsers.pyx\u001b[0m in \u001b[0;36mpandas._libs.parsers.TextReader._read_rows\u001b[1;34m()\u001b[0m\n",
      "\u001b[1;32mpandas/_libs/parsers.pyx\u001b[0m in \u001b[0;36mpandas._libs.parsers.TextReader._tokenize_rows\u001b[1;34m()\u001b[0m\n",
      "\u001b[1;32mpandas/_libs/parsers.pyx\u001b[0m in \u001b[0;36mpandas._libs.parsers.raise_parser_error\u001b[1;34m()\u001b[0m\n",
      "\u001b[1;31mParserError\u001b[0m: Error tokenizing data. C error: Expected 8 fields in line 19, saw 16\n"
     ]
    }
   ],
   "source": [
    "april = pd.read_csv('9 APRIL.csv')"
   ]
  },
  {
   "cell_type": "code",
   "execution_count": null,
   "metadata": {},
   "outputs": [],
   "source": [
    "entri_ = df[df['Proses Terakhir'] == 'ENTRI VERIFIED']\n",
    "entri = entri_.groupby(['Pelanggan', 'Tanggal', 'Proses Terakhir'])[['awb']].count()\n",
    "entri.at['Total'] = entri['awb'].sum(axis = 0)\n",
    "entri\n",
    "# entri['awb'].sum(axis=0)\n",
    "# entri_.shape"
   ]
  },
  {
   "cell_type": "markdown",
   "metadata": {},
   "source": [
    "# TARIK FX\n",
    "\n",
    "USE UMUM0684\n",
    "COPY TO D:\\FX0684 FIELDS BARC_,NAMA, STATUS,JONGOS,TELEPON3,REPORT4 TYPE CSV\n"
   ]
  },
  {
   "cell_type": "markdown",
   "metadata": {},
   "source": [
    "# coret coret"
   ]
  },
  {
   "cell_type": "code",
   "execution_count": null,
   "metadata": {},
   "outputs": [],
   "source": [
    "for i in range(0,5):\n",
    "    print(i,'i')\n",
    "    for j in range(0, i):\n",
    "        print('tes',j)"
   ]
  },
  {
   "cell_type": "markdown",
   "metadata": {},
   "source": [
    "# ============================================="
   ]
  },
  {
   "cell_type": "markdown",
   "metadata": {},
   "source": [
    "#  Aplikasi MEGA"
   ]
  },
  {
   "cell_type": "code",
   "execution_count": 7,
   "metadata": {},
   "outputs": [
    {
     "data": {
      "text/html": [
       "<div>\n",
       "<style scoped>\n",
       "    .dataframe tbody tr th:only-of-type {\n",
       "        vertical-align: middle;\n",
       "    }\n",
       "\n",
       "    .dataframe tbody tr th {\n",
       "        vertical-align: top;\n",
       "    }\n",
       "\n",
       "    .dataframe thead th {\n",
       "        text-align: right;\n",
       "    }\n",
       "</style>\n",
       "<table border=\"1\" class=\"dataframe\">\n",
       "  <thead>\n",
       "    <tr style=\"text-align: right;\">\n",
       "      <th></th>\n",
       "      <th>awb</th>\n",
       "    </tr>\n",
       "  </thead>\n",
       "  <tbody>\n",
       "    <tr>\n",
       "      <th>0</th>\n",
       "      <td>CGK8057369200179</td>\n",
       "    </tr>\n",
       "  </tbody>\n",
       "</table>\n",
       "</div>"
      ],
      "text/plain": [
       "                awb\n",
       "0  CGK8057369200179"
      ]
     },
     "execution_count": 7,
     "metadata": {},
     "output_type": "execute_result"
    }
   ],
   "source": [
    "# PUT AWB DIRECTLY\n",
    "apl = pd.DataFrame([\n",
    "\n",
    "\"\"\n",
    "    \n",
    " ], columns = ['awb'])\n",
    "\n",
    "\n",
    "apl"
   ]
  },
  {
   "cell_type": "code",
   "execution_count": 12,
   "metadata": {
    "collapsed": true
   },
   "outputs": [
    {
     "name": "stdout",
     "output_type": "stream",
     "text": [
      "(7, 12)\n"
     ]
    },
    {
     "data": {
      "text/html": [
       "<div>\n",
       "<style scoped>\n",
       "    .dataframe tbody tr th:only-of-type {\n",
       "        vertical-align: middle;\n",
       "    }\n",
       "\n",
       "    .dataframe tbody tr th {\n",
       "        vertical-align: top;\n",
       "    }\n",
       "\n",
       "    .dataframe thead th {\n",
       "        text-align: right;\n",
       "    }\n",
       "</style>\n",
       "<table border=\"1\" class=\"dataframe\">\n",
       "  <thead>\n",
       "    <tr style=\"text-align: right;\">\n",
       "      <th></th>\n",
       "      <th>awb</th>\n",
       "      <th>Penerima</th>\n",
       "      <th>Status Penerima dan Penerima</th>\n",
       "      <th>Fin acc</th>\n",
       "      <th>No. Referensi</th>\n",
       "      <th>Tanggal</th>\n",
       "      <th>Tujuan</th>\n",
       "      <th>Instruksi Khusus</th>\n",
       "      <th>Diterima Oleh</th>\n",
       "      <th>Status</th>\n",
       "      <th>Status Penerima</th>\n",
       "      <th>KTP</th>\n",
       "    </tr>\n",
       "  </thead>\n",
       "  <tbody>\n",
       "    <tr>\n",
       "      <th>0</th>\n",
       "      <td>CGK8055357100224</td>\n",
       "      <td>LIE KIAN</td>\n",
       "      <td>DITERIMA OLEH: LIE KIAN sebagai: PENERIMA LANG...</td>\n",
       "      <td>014167572</td>\n",
       "      <td>41675726022804</td>\n",
       "      <td>2021-04-29</td>\n",
       "      <td>PONTIANAK</td>\n",
       "      <td>APL</td>\n",
       "      <td>LIE KIAN</td>\n",
       "      <td>DITERIMA OLEH</td>\n",
       "      <td>PENERIMA LANGSUNG</td>\n",
       "      <td></td>\n",
       "    </tr>\n",
       "    <tr>\n",
       "      <th>1</th>\n",
       "      <td>CGK8057163705579</td>\n",
       "      <td>YOHANES</td>\n",
       "      <td>DITERIMA OLEH: YOHANES sebagai: PENERIMA LANGSUNG</td>\n",
       "      <td>014232421</td>\n",
       "      <td>42324219812405</td>\n",
       "      <td>2021-05-25</td>\n",
       "      <td>SINTANG</td>\n",
       "      <td>APL</td>\n",
       "      <td>YOHANES</td>\n",
       "      <td>DITERIMA OLEH</td>\n",
       "      <td>PENERIMA LANGSUNG</td>\n",
       "      <td></td>\n",
       "    </tr>\n",
       "    <tr>\n",
       "      <th>2</th>\n",
       "      <td>CGK8057289605539</td>\n",
       "      <td>TB ARIEF ISKANDAR</td>\n",
       "      <td>DITERIMA OLEH: ARIEF sebagai: PENERIMA LANGSUNG</td>\n",
       "      <td>014236481</td>\n",
       "      <td>42364814902505</td>\n",
       "      <td>2021-05-27</td>\n",
       "      <td>MALANG</td>\n",
       "      <td>APL</td>\n",
       "      <td>ARIEF</td>\n",
       "      <td>DITERIMA OLEH</td>\n",
       "      <td>PENERIMA LANGSUNG</td>\n",
       "      <td></td>\n",
       "    </tr>\n",
       "  </tbody>\n",
       "</table>\n",
       "</div>"
      ],
      "text/plain": [
       "                awb           Penerima  \\\n",
       "0  CGK8055357100224           LIE KIAN   \n",
       "1  CGK8057163705579            YOHANES   \n",
       "2  CGK8057289605539  TB ARIEF ISKANDAR   \n",
       "\n",
       "                        Status Penerima dan Penerima    Fin acc  \\\n",
       "0  DITERIMA OLEH: LIE KIAN sebagai: PENERIMA LANG...  014167572   \n",
       "1  DITERIMA OLEH: YOHANES sebagai: PENERIMA LANGSUNG  014232421   \n",
       "2    DITERIMA OLEH: ARIEF sebagai: PENERIMA LANGSUNG  014236481   \n",
       "\n",
       "    No. Referensi    Tanggal     Tujuan Instruksi Khusus Diterima Oleh  \\\n",
       "0  41675726022804 2021-04-29  PONTIANAK              APL      LIE KIAN   \n",
       "1  42324219812405 2021-05-25   SINTANG               APL       YOHANES   \n",
       "2  42364814902505 2021-05-27     MALANG              APL         ARIEF   \n",
       "\n",
       "          Status    Status Penerima KTP  \n",
       "0  DITERIMA OLEH  PENERIMA LANGSUNG      \n",
       "1  DITERIMA OLEH  PENERIMA LANGSUNG      \n",
       "2  DITERIMA OLEH  PENERIMA LANGSUNG      "
      ]
     },
     "execution_count": 12,
     "metadata": {},
     "output_type": "execute_result"
    }
   ],
   "source": [
    "# PUT AWB FROM EXCEL FILE ==> apl.xls\n",
    "\n",
    "apl = pd.read_excel('apl.xlsx')\n",
    "# apl.shape\n",
    "\n",
    "\n",
    "\n",
    "# Merging data file with POD coresys\n",
    "# Merge Tanggal in String Format to make it good form in excel file\n",
    "result = pd.merge(apl,df[['awb', 'Penerima', 'Tlp1', 'No. Referensi', 'Tanggal', 'Tujuan', 'Instruksi Khusus', 'Diterima Oleh', 'Status', 'Status Penerima']],\n",
    "        on='awb', how='left')\n",
    "result['Status Penerima dan Penerima']  = result['Status']+ ': ' + result['Diterima Oleh'] + ' sebagai: ' + result['Status Penerima'] \n",
    "# result.rename(columns={'Instruksi Khusus' : 'KTP'}, inplace=True)\n",
    "\n",
    "result = result[['awb', 'Penerima' ,'Status Penerima dan Penerima', 'Tlp1', 'No. Referensi', 'Tanggal', 'Tujuan', 'Instruksi Khusus', 'Diterima Oleh', 'Status', 'Status Penerima']]\n",
    "\n",
    "result['KTP'] = '';\n",
    "#result = result.sort_values('Penerima', ascending=True)\n",
    "result.rename(columns = {'Tlp1' : 'Fin acc'}, inplace=True)\n",
    "result.to_excel('apl2 cek.xlsx', index=False)\n",
    "print(result.shape)\n",
    "result.head(3)\n",
    "\n",
    "\n",
    "# https://stackoverflow.com/questions/45103927/appending-rows-in-excel-xlswriter"
   ]
  },
  {
   "cell_type": "code",
   "execution_count": 61,
   "metadata": {},
   "outputs": [],
   "source": [
    "dg = pd.DataFrame({'A':[1,2,3], 'B':[4,5,6], 'C':[7,8,9]})\n",
    "\n",
    "with open('out.csv', 'w') as fp:\n",
    "    fp.write('\\n'*1)\n",
    "    dg.to_csv(fp, index=False)"
   ]
  },
  {
   "cell_type": "code",
   "execution_count": 30,
   "metadata": {},
   "outputs": [],
   "source": [
    "import xlsxwriter as xw\n",
    "from openpyxl import load_workbook"
   ]
  },
  {
   "cell_type": "code",
   "execution_count": 22,
   "metadata": {},
   "outputs": [
    {
     "data": {
      "text/plain": [
       "<xlsxwriter.worksheet.Worksheet at 0xc137c70>"
      ]
     },
     "execution_count": 22,
     "metadata": {},
     "output_type": "execute_result"
    }
   ],
   "source": [
    "workbook = xlsxwriter.Workbook('apl2.xlsx')\n",
    "worksheet = workbook.add_worksheet()\n",
    "worksheet\n"
   ]
  },
  {
   "cell_type": "code",
   "execution_count": null,
   "metadata": {},
   "outputs": [],
   "source": [
    "fx['Bulan'] = fx['tgl_pkp'].str.slice(3,5)"
   ]
  },
  {
   "cell_type": "markdown",
   "metadata": {},
   "source": [
    "# PARSING WILAYAH TLC "
   ]
  },
  {
   "cell_type": "code",
   "execution_count": null,
   "metadata": {},
   "outputs": [],
   "source": [
    "nos = pd.read_csv('TLC SAP.csv')"
   ]
  },
  {
   "cell_type": "markdown",
   "metadata": {},
   "source": [
    "# DATA KU DARI PRE RETURN"
   ]
  },
  {
   "cell_type": "code",
   "execution_count": null,
   "metadata": {},
   "outputs": [],
   "source": [
    "path_pre_return = r'D:\\PRE RETURN  2020'\n",
    "file_pre_ret=r'PRE RETURN KK.xls'\n",
    "meg = pd.read_excel(os.path.join(path_pre_return, file_pre_ret), dtype={'Tlp1': str, 'H': str, 'C': str, 'mobile':str, 'TLP C':str,'No. Referensi':str, 'KODE POS':str})\n",
    "\n",
    "meg.fillna('/', inplace=True)\n",
    "\n",
    "# note convert to \"str\" will automatically change empty cell to be \"nan\"\n",
    "meg = meg.astype(str)\n",
    "def strips(to):\n",
    "    x = to.str.strip()\n",
    "    return(x)\n",
    "\n",
    "\n",
    "\n",
    "meg = meg.apply(strips)\n",
    "\n",
    "meg['ALAMAT UPDATE'] = meg['Company name'] + '/' + meg['ADDRES 1']+' ' +meg['ADDRES 2']+' '+meg['ADDRES 3']+' '+meg['ADDRES 4']+' '+meg['ADDRES 5']+' '+meg['KODE POS']+' '+meg['C']+' '+meg['mobile']+' '+meg['Ket']\n",
    "meg['TELP BARU'] = meg['H'] +'/'+ meg['C'] +'/' + meg['mobile']\n",
    "meg.to_excel(os.path.join(path_pre_return, 'PRE RETURN KK 2608_FINAL.xlsx'))\n"
   ]
  },
  {
   "cell_type": "code",
   "execution_count": null,
   "metadata": {},
   "outputs": [],
   "source": [
    "def strips(meg):\n",
    "    for i in meg:\n",
    "        meg[i].str.strip()\n",
    "        return(meg)\n",
    "    \n",
    "strips(meg)"
   ]
  },
  {
   "cell_type": "markdown",
   "metadata": {},
   "source": [
    "# Parsing Data C0resys"
   ]
  },
  {
   "cell_type": "code",
   "execution_count": 2,
   "metadata": {},
   "outputs": [],
   "source": [
    "# IMPORT FILESSS\n",
    "\n",
    "# POD CORESYS\n",
    "\n",
    "# import os\n",
    "import glob\n",
    "\n",
    "path = r'C:\\Users\\kartu\\Downloads\\all client'\n",
    "# path = r'C:\\Users\\kartu\\Downloads\\POD 2020'\n",
    "file = glob.glob(os.path.join(path,\"*.csv\"))\n",
    "\n",
    "for target in file:\n",
    "    pod = pd.concat((pd.read_csv(f, dtype={'Tlp1':str, 'No. Referensi': str}, encoding='utf-8', low_memory=False) for f in file))"
   ]
  },
  {
   "cell_type": "code",
   "execution_count": 3,
   "metadata": {
    "collapsed": true
   },
   "outputs": [
    {
     "data": {
      "text/plain": [
       "['CGKN05163 - BANK MEGA KARTU KREDIT (MEGA FIRST)',\n",
       " 'CGK000504 - BANK MEGA KARTU KREDIT (ONLINE APLIKASI)',\n",
       " 'MEGA18 - MAKASSAR']"
      ]
     },
     "execution_count": 3,
     "metadata": {},
     "output_type": "execute_result"
    }
   ],
   "source": [
    "pod['Pelanggan'].value_counts().index.to_list()"
   ]
  },
  {
   "cell_type": "code",
   "execution_count": 9,
   "metadata": {},
   "outputs": [
    {
     "data": {
      "text/plain": [
       "['1 jan',\n",
       " '2 feb',\n",
       " '3 mar',\n",
       " '4 apr',\n",
       " 'cekaplfraud',\n",
       " 'FINAL DATA',\n",
       " 'REG MEGA 2202.pdf',\n",
       " 'users_20210119_1 1284.cs',\n",
       " 'users_20210225_1 JAN.cs',\n",
       " 'users_20210323_1 feb.cs',\n",
       " 'users_20210419_1 apr.cs',\n",
       " 'users_20210419_1 apr.csv',\n",
       " 'users_20210419_1 mar.cs']"
      ]
     },
     "execution_count": 9,
     "metadata": {},
     "output_type": "execute_result"
    }
   ],
   "source": [
    "import os\n",
    "p = r'C:\\Users\\kartu\\Downloads\\all client'\n",
    "x = [f for f in os.listdir(p)]\n",
    "x"
   ]
  },
  {
   "cell_type": "code",
   "execution_count": 5,
   "metadata": {
    "collapsed": true
   },
   "outputs": [
    {
     "data": {
      "text/plain": [
       "array(['CGKN05163 - BANK MEGA KARTU KREDIT (MEGA FIRST)',\n",
       "       'CGK000504 - BANK MEGA KARTU KREDIT (ONLINE APLIKASI)'],\n",
       "      dtype=object)"
      ]
     },
     "execution_count": 5,
     "metadata": {},
     "output_type": "execute_result"
    }
   ],
   "source": [
    "pod['Pelanggan'].unique()"
   ]
  },
  {
   "cell_type": "code",
   "execution_count": 3,
   "metadata": {},
   "outputs": [],
   "source": [
    "# import copy\n",
    "df = copy.copy(pod)\n",
    "\n",
    "df.rename(columns = {' \"No. AWB\"': 'awb'}, inplace=True)\n",
    "df['No. Referensi']  = df['No. Referensi'].str.replace('#', '')\n",
    "df['awb']  = df['awb'].str.replace('#', '')\n",
    "df['Status POD'].fillna('ON PROSES', inplace=True)\n",
    "dt=['0000-00-00']\n",
    "df = df[~df['Tanggal Terima'].isin(dt)]\n",
    "df['Status'].fillna('NO Status', inplace=True)\n",
    "\n",
    "df['filter_cmi'] = df['No. Incoming'].str.slice(0,6)\n",
    "\n",
    "df['filter_cmo'] = df['No. Manifest Outgoing'].str.slice(0,6)\n",
    "\n",
    "df.shape\n",
    "# nos = pd.read_csv('TLC SAP.csv')\n",
    "\n",
    "# MEGA Client_sap\n",
    "df.loc[df['Pelanggan']== 'CGKN05163 - BANK MEGA KARTU KREDIT (MEGA FIRST)', 'Client_sap'] = 'MEGA'\n",
    "df.loc[df['Pelanggan']== 'CGK000504 - BANK MEGA KARTU KREDIT (ONLINE APLIKASI)', 'Client_sap'] = 'MEGA'\n",
    "df.loc[df['Pelanggan']== 'MEGA18 - BANDUNG', 'Client_sap'] = 'MEGA'\n",
    "# df.loc[df['Pelanggan']== '', 'Client_sap'] = 'MEGA'\n",
    "\n",
    "# Bukopin Client_sap\n",
    "df.loc[df['Pelanggan']== 'CGK018645-MITRA USAHA SARANA TRANSPORTASI PT (KK)', 'Client_sap'] = 'BUKOPIN'\n",
    "df.loc[df['Pelanggan']== 'CGK018645 - MITRA USAHA SARANA TRANSPORTASI PT (KK)', 'Client_sap'] = 'BUKOPIN'\n",
    "\n",
    "# PANIN\n",
    "df.loc[df['Pelanggan']== 'CGKN04622 - PANIN  ( KARTU KREDIT)', 'Client_sap'] = 'PANIN'\n",
    "df.loc[df['Pelanggan']== 'CGKN04249 - PANIN ( KIRIM ULANG )', 'Client_sap'] = 'PANIN'\n",
    "df.loc[df['Pelanggan']== 'CGKN04622-PANIN  ( KARTU KREDIT)', 'Client_sap'] = 'PANIN'\n",
    "df.loc[df['Pelanggan']== 'CGKN04249-PANIN ( KIRIM ULANG )', 'Client_sap'] = 'PANIN'\n",
    "\n",
    "# NIAGA\n",
    "\n",
    "df.loc[df['Pelanggan']== 'CGKN03064 - CIMB NIAGA  ( KARTU KREDIT)', 'Client_sap'] = 'NIAGA'\n",
    "\n",
    "\n"
   ]
  },
  {
   "cell_type": "code",
   "execution_count": 5,
   "metadata": {},
   "outputs": [
    {
     "data": {
      "text/plain": [
       "(11894, 53)"
      ]
     },
     "execution_count": 5,
     "metadata": {},
     "output_type": "execute_result"
    }
   ],
   "source": [
    "df.shape"
   ]
  },
  {
   "cell_type": "markdown",
   "metadata": {},
   "source": [
    "## ADD New Keterangan KK 13 Jan\n",
    "\n",
    "=+ Please README\n",
    "\n",
    " - catatan: Selalu Filter Status POD UNDELIVERED dan ALT2 dari paling KANAN, karena yg kiri akan selalu UNDELIVERED dan ketahuan prosesnya\n",
    " \n",
    " - Harus tarik tiap hari\n",
    " \n",
    " - Selalu COPY field TANGGAL ke FIELD TANGGAL paling KIRI!!! agar filternya enak(opsional)\n",
    " \n",
    " - Filter STATUS POD dari TANGGAL, jadi lebih spesifik karena ada cell yang hilang\n",
    " \n",
    " - Transport dan Filter Undelivered untuk lihat perbedaan Keterangan ALasan\n",
    " \n",
    " - Cara setting KET: alasan 1&2 sideByside: \n",
    " - 1. filter last ALT2 in the last columns\n",
    " - 2. filter last NON-ALT2 in the second last newest date columns"
   ]
  },
  {
   "cell_type": "code",
   "execution_count": 8,
   "metadata": {},
   "outputs": [],
   "source": [
    "# file name tanggal hari ini\n",
    "file = r'users_20210119_1 0184.csv'\n",
    "\n",
    "# read from and save to \n",
    "pathDir = r'C:\\Users\\kartu\\Downloads\\all client\\jan'\n",
    "\n",
    "dbx = pd.read_csv(os.path.join(pathDir, file), dtype={'Tlp1': str, 'No. Referensi':str})\n",
    "\n",
    "# pre process\n",
    "\n",
    "import copy\n",
    "db = copy.copy(dbx)\n",
    "\n",
    "db.rename(columns = {' \"No. AWB\"': 'awb'}, inplace=True)\n",
    "db['No. Referensi']  = db['No. Referensi'].str.replace('#', '')\n",
    "db['awb']  = db['awb'].str.replace('#', '')\n",
    "db['Status POD'].fillna('ON PROSES', inplace=True)\n",
    "# db = db[~db['Tanggal Terima'].isin(dt)]\n",
    "db['Status'].fillna('NO Status', inplace=True)\n",
    "\n",
    "db['filter_cmi'] = db['No. Incoming'].str.slice(0,6)\n",
    "\n",
    "db['filter_cmo'] = db['No. Manifest Outgoing'].str.slice(0,6)\n",
    "\n",
    "db['Today'] = pd.to_datetime('now')\n",
    "db['Today'] = db['Today'].astype('datetime64[D]')\n",
    "db['Tanggal Terima'] =  db['Tanggal Terima'].astype('datetime64[D]')\n",
    "db['Tanggal'] = db['Tanggal'].astype('datetime64[D]')\n",
    "db['Tgl. Incoming'] = db['Tgl. Incoming'].astype('datetime64[D]')\n",
    "db['Tgl. Proses Terakhir'] = db['Tgl. Proses Terakhir'].astype('datetime64[ns]')\n",
    "db['Proses Akhir'] = db['Tgl. Proses Terakhir'].astype(str)\n",
    "db['Tgl. Manifest Outgoing'] = db['Tgl. Manifest Outgoing'].astype('datetime64[D]')\n",
    "db['Tgl. Delivery'] = db['Tgl. Delivery'].astype('datetime64[D]')\n",
    "db['Tanggal Terima'] = db['Tanggal Terima'].astype('datetime64[D]')\n",
    "db['Bulan'] = db['Tanggal'].dt.strftime('%B')\n",
    "db['BulanInt'] = db['Tanggal'].dt.strftime('%m')\n",
    "\n",
    "#=== == === == === == =   ==== === = = = =  = = =  = = = = = = = = = = = = = =\n",
    "# filter to specific columns\n",
    "dbfilter = db[['awb','No. Referensi', 'Tanggal', 'TLC Tujuan', 'Tgl. Proses Terakhir', 'Status POD', 'Status', 'Keterangan', 'Kurir', 'Tgl. Incoming', 'Tgl. Delivery', 'Keterangan Outgoing']]\n",
    "\n",
    "\n",
    "# adding specific date to columns\n",
    "cek = dbfilter.columns\n",
    "cek = cek.to_list()\n",
    "\n",
    "today = str(date.today())[8:10]\n",
    "# today = today\n",
    "tes = [e + '_' + today for e in cek]\n",
    "\n",
    "# tes = [e + '_' + '18' for e in cek]\n",
    "\n",
    "\n",
    "dbfilter.columns = tes\n",
    "\n",
    "# replace awb field\n",
    "dbfilter.rename(columns={dbfilter.columns[0]:'awb'}, inplace=True)\n",
    "\n",
    "# save output to CSV\n",
    "# dbfilter.to_csv(os.path.join(pathDir, file), index=False)\n",
    "\n",
    "#=== == === == === == =   ==== === = = = =  = = =  = = = = = = = = = = = = = =\n",
    "\n",
    "# save output to XLSX\n",
    "# db.head(3).to_excel(os.path.join(pathDir, 'filexxx.xlsx'))\n"
   ]
  },
  {
   "cell_type": "code",
   "execution_count": 9,
   "metadata": {},
   "outputs": [
    {
     "data": {
      "text/plain": [
       "(7123, 12)"
      ]
     },
     "execution_count": 9,
     "metadata": {},
     "output_type": "execute_result"
    }
   ],
   "source": [
    "dbfilter.shape"
   ]
  },
  {
   "cell_type": "markdown",
   "metadata": {},
   "source": [
    "## Merging with Final"
   ]
  },
  {
   "cell_type": "code",
   "execution_count": 10,
   "metadata": {},
   "outputs": [],
   "source": [
    "# parse data FINAL\n",
    "finalDoc_row = r'Final_test.csv' # diTIBAN terus\n",
    "pathFinalDoc = r'C:\\Users\\kartu\\Downloads\\all client\\FINAL DATA'\n",
    "\n",
    "dataFinal = pd.read_csv(os.path.join(pathFinalDoc, finalDoc_row), dtype={'Tlp1': str, 'No. Referensi':str})\n",
    "\n",
    "# merging file FINAL with dbfilter\n",
    "\n",
    "# harus set Outer : agar mengupdate awb baru yang ditanggal sebelumnya tidak ada\n",
    "finalCheck = pd.merge(dataFinal, dbfilter, on='awb', how='outer')\n",
    "\n",
    "\n",
    "# save file in other directory\n",
    "finalDesti = r'C:\\Users\\kartu\\Downloads\\all client\\FINAL DATA'\n",
    "\n",
    "# cookedFIle: last output for analysist\n",
    "cookedFile = r'Final_test.csv'\n",
    "finalCheck.to_csv(os.path.join(finalDesti, cookedFile), index=False)\n",
    "\n"
   ]
  },
  {
   "cell_type": "markdown",
   "metadata": {},
   "source": [
    "## PROJECT BARU DETECT KETERANGAN =============="
   ]
  },
  {
   "cell_type": "code",
   "execution_count": 57,
   "metadata": {
    "collapsed": true
   },
   "outputs": [
    {
     "name": "stdout",
     "output_type": "stream",
     "text": [
      "1 : 32 CGK8045837400339__CH RESIGN INFO SARAS SATPAM\n",
      "2 : 481 CGK8045853704484__RUMAH KOSONG\n",
      "3 : 779 CGK8045890600246__RUMAH KOSONG TDK DI HUNI INFO SATPAM KOMPLEK\n",
      "4 : 839 CGK8045936600200__RUMAH KOSONG TIDAK ADA ORANG\n",
      "5 : 884 CGK8045936600655__RUMAH SLALU KOSONG GK PERNAH ADA ORANG UDA 3 X KIRIM\n",
      "6 : 922 CGK8045936601039__RMH KOSONG\n",
      "7 : 1172 CGK8046041101655__RUMAH KOSONG,DIPANGGIL TDK KELUAR\n",
      "8 : 1340 CGK8046125200179__RUMAH KOSONG\n",
      "9 : 1342 CGK8046125200191__RUMAH KOSONG\n",
      "10 : 1353 CGK8046125200300__KOSONG\n",
      "11 : 1485 CGK8046125201624__RUMAH KOSONG, AU 11-1\n",
      "12 : 1526 CGK8046125202039__2X KUNJUNGAN RMH KOSONG\n",
      "13 : 1635 CGK8046210100539__RUMAH KOSONG DIHUNI\n",
      "14 : 1789 CGK8046245201446__RUMAH KOSONG\n",
      "15 : 1873 CGK8046245202284__RUMAH KOSONG\n",
      "16 : 1891 CGK8046245202466__RMH KOSONG TDK ADA ORG\n",
      "17 : 1904 CGK8046245202591__RUMAH KOSONG\n",
      "18 : 2006 CGK8046245203611__RMH CH KOSONG\n",
      "19 : 2127 CGK8046245204824__RUMAH KOSONG\n",
      "20 : 2856 CGK8043693200079__RUMAH KOSONG TIDAK DI HUNI\n",
      "21 : 3077 CGK8043693202284__RUMAH KOSONG TIDAK DIHUNI\n",
      "22 : 3082 CGK8043693202339__KRN TDK ADA AKSES BUAT MASUK DITELPON DR LOBY SELALU KOSONG CH SDH PINDAH SKRNG PENYEWA INFO RECEPTI\n",
      "23 : 3123 CGK8043693202746__CH SUDAH RESIGN.INFO: UJANG (STAF)\n",
      "24 : 3248 CGK8043768600279__CH RUMAH KOSONG\n",
      "25 : 3290 CGK8043768600691__CH SDH PINDAH RMH SDH KOSONG TDK DIHUNI\n",
      "26 : 3499 CGK8043869600246__RETURN YBS RESIGN INFO RCP\n",
      "27 : 3508 CGK8043869600339__RUMAH KOSONG TIDAK BERPENGHUNI\n",
      "28 : 3602 CGK8043869601279__RUMAH KOSONG\n",
      "29 : 3821 CGK8043897600200__RUMAH KOSONG TIDAK HUNI INPO TETANGGA\n",
      "30 : 4206 CGK8044105700039__RESIGN\n",
      "31 : 4218 CGK8044105700155__RMH SDH LAMA KOSONG\n",
      "32 : 4616 CGK8044145200555__RUMAH / TOKO KOSONG TIDAK DIHUNI ADA SEGEL PLN\n",
      "33 : 4639 CGK8044145200784__RUMAH KOSONG\n",
      "34 : 4640 CGK8044145200791__RUMAH KOSONG TDK DIHUNI\n",
      "35 : 4672 CGK8044145201111__RUMAH KOSONG TIDAK BERPENGHUNI\n",
      "36 : 4673 CGK8044145201124__CH JARANG DITEMPAT&RUMAH SELALU KOSONG TDK ADA ORG DIRUMAH\n",
      "37 : 4832 CGK8044146100046__RUMAH KOSONG\n",
      "38 : 4838 CGK8044146100100__SELALU KOSONG SULIT DIHUBUNGI\n",
      "39 : 4881 CGK8044244400224__RMH SDH KOSONG DAN KOTOR\n",
      "40 : 5123 CGK8044258402211__INFO DEDI SATPAM AREA TOKO SUDAH KOSONG\n",
      "41 : 5376 CGK8044258404746__RESIGN\n",
      "42 : 5464 CGK8044258405624__RUMAH KOSONG TDK DIHUNI, HP TIDAK DIRESPON \n",
      "43 : 5758 CGK8044258408566__RUMAH TUTUP KOSONG DIPANGGIL TIDAK ADA ORANG.\n",
      "44 : 5902 CGK8044258410000__KOSONG\n",
      "45 : 5916 CGK8044258410146__RUMAH KOSONG DI PANGGIL GK ADA YANG KELUAR NO HP  GAK BISA DI HUBUNGIN DAN GAK TERDAFTAR DI WHATSSAP\n",
      "46 : 6050 CGK8044335400891__ALAMAT 1 CH SUDAH 3 TAHUN RISEN KERJA. ALAMAT 2 RUMAH KOSONG\n",
      "47 : 6110 CGK8044335401491__RUMAH KOSONG, DI BELL TDK ADA ORANG\n",
      "48 : 6194 CGK8044335402339__SUDAH 3X ANTAR RUMAH SELALU KOSONG INFO SATPAM CH SULIT DI TEMUI\n",
      "49 : 6249 CGK8044335402884__RMH KOSONG\n",
      "50 : 6382 CGK8044335404211__BANGUNAN KOSONG TOTAL TDK PERNAH ADA ORANG\n",
      "51 : 6442 CGK8044335404811__RESIGN.FU NO RESPO INFO CS RETURN\n",
      "52 : 6620 CGK8044335406591__RUMAH KOSONG/SEPI\n",
      "53 : 6793 CGK8044335408324__RESIGN\n",
      "54 : 6911 CGK8044335409500__RUMAH KOSONG TIDAK DIHUNI DIJUAL \n",
      "55 : 6979 CGK8044335410184__CH SUDAH RESIGN.INFO BPAK EDI\n",
      "56 : 7227 CGK8044385001766__3XKIRIM PD HARI,JAM TGL YG BERBEDA RMH SELALU KOSONG D WA TDK RESPON\n",
      "57 : 7358 CGK8044385003079__RUMAH SELALU KOSONG\n",
      "58 : 7481 CGK8044385004300__CH SUDAH RESIGN( INFO SECURITY)\n",
      "59 : 8065 CGK8044491600011__RUMAH KOSONG TIDAK DIHUNI\n",
      "60 : 8201 CGK8044517901146__RUMAH KOSONG TDK DI HUNI\n",
      "61 : 8207 CGK8044517901200__RUMAH KOSONG TDK DI HUNI\n",
      "62 : 8241 CGK8044517901546__SUDAH 4 KALI KUNJUNGAN RUMAH SELALU KOSONG\n",
      "63 : 8606 CGK8044596800079__RUMAH SUDAH KOSONG INFO SATPAM HERI\n",
      "64 : 9256 CGK8044712202100__RUMAH KOSONG\n",
      "65 : 9276 CGK8044712202300__RUMAH TUTUP KOSONG DIPANGGIL TIDAK ADA ORANG.\n",
      "66 : 9420 CGK8044730700266__RUMAH KOSONG TDK D HUNI\n",
      "67 : 9906 CGK8044887900179__RMH KOSONG.CH JARANG DITEMPAT.\n",
      "68 : 9979 CGK8044887900900__YBS SUDH PINDH TDK D LOKASI INI LG RUMAH SKRNG KOSONG TAK BERPENGHUNI KUMUH\n",
      "69 : 10256 CGK8045031600091__CH RESIGN. INFO STAF.DONI\n",
      "70 : 10299 CGK8045048500266__YBS SUDAH RESIGN\n",
      "71 : 10479 CGK8045048502066__RUMAH KOSONG/ PINDAH KE ALAMAT KEDUA\n",
      "72 : 10736 CGK8045143600184__RUKO KOSONG TERUS\n",
      "73 : 10743 CGK8045143600255__CH. SDH RESIGN BEKERJA. RETUR\n",
      "74 : 10810 CGK8045143600924__RUMAH KOSONG TIDAK DIHUNI\n",
      "75 : 10887 CGK8045143601691__CH SUDAH LAMA RESIGN INFO STAFF KANTOR\n",
      "76 : 10890 CGK8045143601724__CH SUDAH RESIGN.INFO SATPAM\n",
      "77 : 10989 CGK8045143602711__KET SECURITY YBS RESIGN\n",
      "78 : 11343 CGK8045143606255__SUDAH RESIGN\n",
      "79 : 11391 CGK8045143606739__RESIGN\n",
      "80 : 11534 CGK8045143608166__2X KIRIM RUMAH KOSONG\n",
      "81 : 11671 CGK8045143609539__KOSONG TDK DIHUNI\n",
      "82 : 11834 CGK8045219400046__RUMAH KOSONG TDK DIHUNI\n",
      "83 : 11999 CGK8045238001255__RUMAH KOSONG, INFO SATPAM CH SDG KELUAR KOTA\n",
      "84 : 12160 CGK8045238002866__RUMAH KOSONG\n",
      "85 : 12578 CGK8045492402766__RUMAH KOSONG KOTOR TIDAK TERAWAT DAN SEPERTINYA TIDAK DIHUNI\n",
      "86 : 13118 CGK8045545600039__RUMAH KOSONG INFO TETANGGA\n",
      "87 : 13120 CGK8045545600055__RUMAH KOSONG ATAU YBS SUDH PINDH DRI LOKASI INI\n",
      "88 : 13157 CGK8045545600424__RUMAH KOSONG TDK D HUNI\n",
      "89 : 13166 CGK8045545600511__CHNYA SUDAH RESIGN INFO DARI STAFFNYA\n",
      "90 : 13459 CGK8045561402779__CH RESIGN DARI BANK INFO SATPAM\n",
      "91 : 13531 CGK8045561403491__SDH PINDAH RUMAH ADH KOSONG TDK DIHUNI\n",
      "92 : 13668 CGK8045633600200__RUMAH KOSONG TDK DI HUNI/DI JUAL\n",
      "93 : 13669 CGK8045633600211__RUMAH KOSONG TDK DI HUNI/DI JUAL\n",
      "94 : 13710 CGK8045652100324__RESIGN INFO HANIF STAPAM\n",
      "95 : 13843 CGK8045652101655__RUMAH KOSONG DIHUNI\n",
      "96 : 13886 CGK8045652102084__RUMAH KOSONG\n"
     ]
    }
   ],
   "source": [
    "# pro = df[df['Status'] != 'DELIVERED']\n",
    "\n",
    "\n",
    "# pro['comp'] = pro['awb'] + '__' + pro['TLC Tujuan'] + '__' + pro['Status'] +'__'+pro['Keterangan']\n",
    "# iterate value\n",
    "\n",
    "retoday = pd.read_excel('ret.xlsx')\n",
    "cek = retoday['awb'].astype(str).to_list()\n",
    "\n",
    "\n",
    "# cek = pro['awb'].astype(str).to_list()\n",
    "\n",
    "store = []\n",
    "awb_list = []\n",
    "tlc = []\n",
    "count =1\n",
    "t = type('1234567890')\n",
    "for i,value in enumerate(cek):\n",
    "#     if (' ALAMAT KE 2 ' in value or ' 2 ' in value or 'KEDUA' in value or ' KE 2 ' in value or 'MINTA' in value):\n",
    "    if ( in value:\n",
    "        \n",
    "        # slicing value awb\n",
    "        awb_list.append((value[0:16]))\n",
    "        # slicing value keterangan\n",
    "        store.append((i, (value[22:len(value)])))\n",
    "#         slicing TLC Tujuan\n",
    "        tlc.append((value[18:22]))\n",
    "#         print value\n",
    "        print(count, ':', i, (value[22:len(value)]))\n",
    "        \n",
    "        count+=1\n",
    "\n",
    "                          "
   ]
  },
  {
   "cell_type": "code",
   "execution_count": null,
   "metadata": {},
   "outputs": [],
   "source": [
    "# d = {'col1': [1, 2], 'col2': [3, 4]}\n",
    "\n",
    "# df = pd.DataFrame(data=d)\n",
    "d = {'awb': awb_list, 'tlc': tlc, 'Result':store}\n",
    "testdf = pd.DataFrame(data=d)\n",
    "testdf.to_excel('testdfX alt 2.xlsx')"
   ]
  },
  {
   "cell_type": "markdown",
   "metadata": {},
   "source": [
    "https://stackoverflow.com/questions/44590646/iterating-through-a-dataframe-to-create-pdf-documents"
   ]
  },
  {
   "cell_type": "markdown",
   "metadata": {},
   "source": [
    "## PROJECT BARU DETECT ALAMAT =============="
   ]
  },
  {
   "cell_type": "code",
   "execution_count": 37,
   "metadata": {
    "collapsed": true
   },
   "outputs": [
    {
     "ename": "NameError",
     "evalue": "name 'length' is not defined",
     "output_type": "error",
     "traceback": [
      "\u001b[1;31m---------------------------------------------------------------------------\u001b[0m",
      "\u001b[1;31mNameError\u001b[0m                                 Traceback (most recent call last)",
      "\u001b[1;32m<ipython-input-37-d6295ffd15ed>\u001b[0m in \u001b[0;36m<module>\u001b[1;34m\u001b[0m\n\u001b[1;32m----> 1\u001b[1;33m \u001b[0mlength\u001b[0m\u001b[1;33m(\u001b[0m\u001b[1;34m'liam'\u001b[0m\u001b[1;33m)\u001b[0m\u001b[1;33m\u001b[0m\u001b[1;33m\u001b[0m\u001b[0m\n\u001b[0m",
      "\u001b[1;31mNameError\u001b[0m: name 'length' is not defined"
     ]
    }
   ],
   "source": []
  },
  {
   "cell_type": "markdown",
   "metadata": {},
   "source": [
    "## Cek Entry"
   ]
  },
  {
   "cell_type": "code",
   "execution_count": 5,
   "metadata": {
    "collapsed": true
   },
   "outputs": [
    {
     "data": {
      "text/html": [
       "<div>\n",
       "<style scoped>\n",
       "    .dataframe tbody tr th:only-of-type {\n",
       "        vertical-align: middle;\n",
       "    }\n",
       "\n",
       "    .dataframe tbody tr th {\n",
       "        vertical-align: top;\n",
       "    }\n",
       "\n",
       "    .dataframe thead tr th {\n",
       "        text-align: left;\n",
       "    }\n",
       "\n",
       "    .dataframe thead tr:last-of-type th {\n",
       "        text-align: right;\n",
       "    }\n",
       "</style>\n",
       "<table border=\"1\" class=\"dataframe\">\n",
       "  <thead>\n",
       "    <tr>\n",
       "      <th></th>\n",
       "      <th></th>\n",
       "      <th colspan=\"8\" halign=\"left\">awb</th>\n",
       "    </tr>\n",
       "    <tr>\n",
       "      <th></th>\n",
       "      <th>Proses Terakhir</th>\n",
       "      <th>DELIVERY</th>\n",
       "      <th>DELIVERY RETURN</th>\n",
       "      <th>INCOMING</th>\n",
       "      <th>INCOMING RETURN</th>\n",
       "      <th>MANIFEST OUTGOING</th>\n",
       "      <th>OUTGOING RETURN</th>\n",
       "      <th>POD</th>\n",
       "      <th>SHIPMENT LOST</th>\n",
       "    </tr>\n",
       "    <tr>\n",
       "      <th>Tanggal</th>\n",
       "      <th>Pelanggan</th>\n",
       "      <th></th>\n",
       "      <th></th>\n",
       "      <th></th>\n",
       "      <th></th>\n",
       "      <th></th>\n",
       "      <th></th>\n",
       "      <th></th>\n",
       "      <th></th>\n",
       "    </tr>\n",
       "  </thead>\n",
       "  <tbody>\n",
       "    <tr>\n",
       "      <th>2020-12-01</th>\n",
       "      <th>CGKN05163 - BANK MEGA KARTU KREDIT (MEGA FIRST)</th>\n",
       "      <td>NaN</td>\n",
       "      <td>25.0</td>\n",
       "      <td>NaN</td>\n",
       "      <td>4.0</td>\n",
       "      <td>NaN</td>\n",
       "      <td>352.0</td>\n",
       "      <td>201.0</td>\n",
       "      <td>NaN</td>\n",
       "    </tr>\n",
       "    <tr>\n",
       "      <th rowspan=\"2\" valign=\"top\">2020-12-02</th>\n",
       "      <th>CGK000504 - BANK MEGA KARTU KREDIT (ONLINE APLIKASI)</th>\n",
       "      <td>NaN</td>\n",
       "      <td>NaN</td>\n",
       "      <td>NaN</td>\n",
       "      <td>1.0</td>\n",
       "      <td>NaN</td>\n",
       "      <td>NaN</td>\n",
       "      <td>NaN</td>\n",
       "      <td>NaN</td>\n",
       "    </tr>\n",
       "    <tr>\n",
       "      <th>CGKN05163 - BANK MEGA KARTU KREDIT (MEGA FIRST)</th>\n",
       "      <td>1.0</td>\n",
       "      <td>44.0</td>\n",
       "      <td>NaN</td>\n",
       "      <td>3.0</td>\n",
       "      <td>NaN</td>\n",
       "      <td>187.0</td>\n",
       "      <td>106.0</td>\n",
       "      <td>NaN</td>\n",
       "    </tr>\n",
       "    <tr>\n",
       "      <th>2020-12-03</th>\n",
       "      <th>CGKN05163 - BANK MEGA KARTU KREDIT (MEGA FIRST)</th>\n",
       "      <td>1.0</td>\n",
       "      <td>14.0</td>\n",
       "      <td>NaN</td>\n",
       "      <td>3.0</td>\n",
       "      <td>NaN</td>\n",
       "      <td>151.0</td>\n",
       "      <td>115.0</td>\n",
       "      <td>NaN</td>\n",
       "    </tr>\n",
       "    <tr>\n",
       "      <th rowspan=\"2\" valign=\"top\">2020-12-04</th>\n",
       "      <th>CGK000504 - BANK MEGA KARTU KREDIT (ONLINE APLIKASI)</th>\n",
       "      <td>NaN</td>\n",
       "      <td>NaN</td>\n",
       "      <td>NaN</td>\n",
       "      <td>NaN</td>\n",
       "      <td>NaN</td>\n",
       "      <td>NaN</td>\n",
       "      <td>1.0</td>\n",
       "      <td>NaN</td>\n",
       "    </tr>\n",
       "    <tr>\n",
       "      <th>CGKN05163 - BANK MEGA KARTU KREDIT (MEGA FIRST)</th>\n",
       "      <td>NaN</td>\n",
       "      <td>11.0</td>\n",
       "      <td>NaN</td>\n",
       "      <td>3.0</td>\n",
       "      <td>NaN</td>\n",
       "      <td>204.0</td>\n",
       "      <td>131.0</td>\n",
       "      <td>NaN</td>\n",
       "    </tr>\n",
       "    <tr>\n",
       "      <th>2020-12-07</th>\n",
       "      <th>CGKN05163 - BANK MEGA KARTU KREDIT (MEGA FIRST)</th>\n",
       "      <td>NaN</td>\n",
       "      <td>17.0</td>\n",
       "      <td>NaN</td>\n",
       "      <td>4.0</td>\n",
       "      <td>NaN</td>\n",
       "      <td>203.0</td>\n",
       "      <td>154.0</td>\n",
       "      <td>NaN</td>\n",
       "    </tr>\n",
       "    <tr>\n",
       "      <th>2020-12-08</th>\n",
       "      <th>CGKN05163 - BANK MEGA KARTU KREDIT (MEGA FIRST)</th>\n",
       "      <td>2.0</td>\n",
       "      <td>24.0</td>\n",
       "      <td>1.0</td>\n",
       "      <td>16.0</td>\n",
       "      <td>2.0</td>\n",
       "      <td>371.0</td>\n",
       "      <td>240.0</td>\n",
       "      <td>NaN</td>\n",
       "    </tr>\n",
       "    <tr>\n",
       "      <th>2020-12-10</th>\n",
       "      <th>CGKN05163 - BANK MEGA KARTU KREDIT (MEGA FIRST)</th>\n",
       "      <td>3.0</td>\n",
       "      <td>41.0</td>\n",
       "      <td>1.0</td>\n",
       "      <td>21.0</td>\n",
       "      <td>3.0</td>\n",
       "      <td>640.0</td>\n",
       "      <td>390.0</td>\n",
       "      <td>3.0</td>\n",
       "    </tr>\n",
       "    <tr>\n",
       "      <th>2020-12-11</th>\n",
       "      <th>CGKN05163 - BANK MEGA KARTU KREDIT (MEGA FIRST)</th>\n",
       "      <td>12.0</td>\n",
       "      <td>19.0</td>\n",
       "      <td>1.0</td>\n",
       "      <td>126.0</td>\n",
       "      <td>3.0</td>\n",
       "      <td>1076.0</td>\n",
       "      <td>866.0</td>\n",
       "      <td>NaN</td>\n",
       "    </tr>\n",
       "    <tr>\n",
       "      <th rowspan=\"2\" valign=\"top\">2020-12-14</th>\n",
       "      <th>CGK000504 - BANK MEGA KARTU KREDIT (ONLINE APLIKASI)</th>\n",
       "      <td>NaN</td>\n",
       "      <td>NaN</td>\n",
       "      <td>NaN</td>\n",
       "      <td>NaN</td>\n",
       "      <td>NaN</td>\n",
       "      <td>NaN</td>\n",
       "      <td>1.0</td>\n",
       "      <td>NaN</td>\n",
       "    </tr>\n",
       "    <tr>\n",
       "      <th>CGKN05163 - BANK MEGA KARTU KREDIT (MEGA FIRST)</th>\n",
       "      <td>3.0</td>\n",
       "      <td>1.0</td>\n",
       "      <td>1.0</td>\n",
       "      <td>20.0</td>\n",
       "      <td>1.0</td>\n",
       "      <td>240.0</td>\n",
       "      <td>268.0</td>\n",
       "      <td>NaN</td>\n",
       "    </tr>\n",
       "    <tr>\n",
       "      <th rowspan=\"2\" valign=\"top\">2020-12-15</th>\n",
       "      <th>CGK000504 - BANK MEGA KARTU KREDIT (ONLINE APLIKASI)</th>\n",
       "      <td>NaN</td>\n",
       "      <td>NaN</td>\n",
       "      <td>NaN</td>\n",
       "      <td>NaN</td>\n",
       "      <td>NaN</td>\n",
       "      <td>NaN</td>\n",
       "      <td>2.0</td>\n",
       "      <td>NaN</td>\n",
       "    </tr>\n",
       "    <tr>\n",
       "      <th>CGKN05163 - BANK MEGA KARTU KREDIT (MEGA FIRST)</th>\n",
       "      <td>3.0</td>\n",
       "      <td>NaN</td>\n",
       "      <td>1.0</td>\n",
       "      <td>19.0</td>\n",
       "      <td>2.0</td>\n",
       "      <td>170.0</td>\n",
       "      <td>228.0</td>\n",
       "      <td>NaN</td>\n",
       "    </tr>\n",
       "    <tr>\n",
       "      <th>2020-12-16</th>\n",
       "      <th>CGKN05163 - BANK MEGA KARTU KREDIT (MEGA FIRST)</th>\n",
       "      <td>9.0</td>\n",
       "      <td>NaN</td>\n",
       "      <td>2.0</td>\n",
       "      <td>15.0</td>\n",
       "      <td>NaN</td>\n",
       "      <td>169.0</td>\n",
       "      <td>217.0</td>\n",
       "      <td>NaN</td>\n",
       "    </tr>\n",
       "    <tr>\n",
       "      <th rowspan=\"2\" valign=\"top\">2020-12-17</th>\n",
       "      <th>CGK000504 - BANK MEGA KARTU KREDIT (ONLINE APLIKASI)</th>\n",
       "      <td>NaN</td>\n",
       "      <td>NaN</td>\n",
       "      <td>NaN</td>\n",
       "      <td>NaN</td>\n",
       "      <td>NaN</td>\n",
       "      <td>1.0</td>\n",
       "      <td>NaN</td>\n",
       "      <td>NaN</td>\n",
       "    </tr>\n",
       "    <tr>\n",
       "      <th>CGKN05163 - BANK MEGA KARTU KREDIT (MEGA FIRST)</th>\n",
       "      <td>11.0</td>\n",
       "      <td>NaN</td>\n",
       "      <td>2.0</td>\n",
       "      <td>16.0</td>\n",
       "      <td>1.0</td>\n",
       "      <td>147.0</td>\n",
       "      <td>252.0</td>\n",
       "      <td>NaN</td>\n",
       "    </tr>\n",
       "    <tr>\n",
       "      <th>2020-12-18</th>\n",
       "      <th>CGKN05163 - BANK MEGA KARTU KREDIT (MEGA FIRST)</th>\n",
       "      <td>23.0</td>\n",
       "      <td>NaN</td>\n",
       "      <td>2.0</td>\n",
       "      <td>7.0</td>\n",
       "      <td>1.0</td>\n",
       "      <td>81.0</td>\n",
       "      <td>266.0</td>\n",
       "      <td>NaN</td>\n",
       "    </tr>\n",
       "    <tr>\n",
       "      <th rowspan=\"2\" valign=\"top\">2020-12-21</th>\n",
       "      <th>CGK000504 - BANK MEGA KARTU KREDIT (ONLINE APLIKASI)</th>\n",
       "      <td>1.0</td>\n",
       "      <td>NaN</td>\n",
       "      <td>NaN</td>\n",
       "      <td>NaN</td>\n",
       "      <td>NaN</td>\n",
       "      <td>NaN</td>\n",
       "      <td>2.0</td>\n",
       "      <td>NaN</td>\n",
       "    </tr>\n",
       "    <tr>\n",
       "      <th>CGKN05163 - BANK MEGA KARTU KREDIT (MEGA FIRST)</th>\n",
       "      <td>75.0</td>\n",
       "      <td>NaN</td>\n",
       "      <td>64.0</td>\n",
       "      <td>NaN</td>\n",
       "      <td>76.0</td>\n",
       "      <td>5.0</td>\n",
       "      <td>218.0</td>\n",
       "      <td>NaN</td>\n",
       "    </tr>\n",
       "    <tr>\n",
       "      <th rowspan=\"2\" valign=\"top\">2020-12-22</th>\n",
       "      <th>CGK000504 - BANK MEGA KARTU KREDIT (ONLINE APLIKASI)</th>\n",
       "      <td>NaN</td>\n",
       "      <td>NaN</td>\n",
       "      <td>1.0</td>\n",
       "      <td>NaN</td>\n",
       "      <td>NaN</td>\n",
       "      <td>NaN</td>\n",
       "      <td>NaN</td>\n",
       "      <td>NaN</td>\n",
       "    </tr>\n",
       "    <tr>\n",
       "      <th>CGKN05163 - BANK MEGA KARTU KREDIT (MEGA FIRST)</th>\n",
       "      <td>71.0</td>\n",
       "      <td>NaN</td>\n",
       "      <td>158.0</td>\n",
       "      <td>NaN</td>\n",
       "      <td>913.0</td>\n",
       "      <td>NaN</td>\n",
       "      <td>NaN</td>\n",
       "      <td>NaN</td>\n",
       "    </tr>\n",
       "  </tbody>\n",
       "</table>\n",
       "</div>"
      ],
      "text/plain": [
       "                                                                    awb  \\\n",
       "Proses Terakhir                                               DELIVERY    \n",
       "Tanggal    Pelanggan                                                      \n",
       "2020-12-01 CGKN05163 - BANK MEGA KARTU KREDIT (MEGA FIRST)          NaN   \n",
       "2020-12-02 CGK000504 - BANK MEGA KARTU KREDIT (ONLINE APLI...       NaN   \n",
       "           CGKN05163 - BANK MEGA KARTU KREDIT (MEGA FIRST)          1.0   \n",
       "2020-12-03 CGKN05163 - BANK MEGA KARTU KREDIT (MEGA FIRST)          1.0   \n",
       "2020-12-04 CGK000504 - BANK MEGA KARTU KREDIT (ONLINE APLI...       NaN   \n",
       "           CGKN05163 - BANK MEGA KARTU KREDIT (MEGA FIRST)          NaN   \n",
       "2020-12-07 CGKN05163 - BANK MEGA KARTU KREDIT (MEGA FIRST)          NaN   \n",
       "2020-12-08 CGKN05163 - BANK MEGA KARTU KREDIT (MEGA FIRST)          2.0   \n",
       "2020-12-10 CGKN05163 - BANK MEGA KARTU KREDIT (MEGA FIRST)          3.0   \n",
       "2020-12-11 CGKN05163 - BANK MEGA KARTU KREDIT (MEGA FIRST)         12.0   \n",
       "2020-12-14 CGK000504 - BANK MEGA KARTU KREDIT (ONLINE APLI...       NaN   \n",
       "           CGKN05163 - BANK MEGA KARTU KREDIT (MEGA FIRST)          3.0   \n",
       "2020-12-15 CGK000504 - BANK MEGA KARTU KREDIT (ONLINE APLI...       NaN   \n",
       "           CGKN05163 - BANK MEGA KARTU KREDIT (MEGA FIRST)          3.0   \n",
       "2020-12-16 CGKN05163 - BANK MEGA KARTU KREDIT (MEGA FIRST)          9.0   \n",
       "2020-12-17 CGK000504 - BANK MEGA KARTU KREDIT (ONLINE APLI...       NaN   \n",
       "           CGKN05163 - BANK MEGA KARTU KREDIT (MEGA FIRST)         11.0   \n",
       "2020-12-18 CGKN05163 - BANK MEGA KARTU KREDIT (MEGA FIRST)         23.0   \n",
       "2020-12-21 CGK000504 - BANK MEGA KARTU KREDIT (ONLINE APLI...       1.0   \n",
       "           CGKN05163 - BANK MEGA KARTU KREDIT (MEGA FIRST)         75.0   \n",
       "2020-12-22 CGK000504 - BANK MEGA KARTU KREDIT (ONLINE APLI...       NaN   \n",
       "           CGKN05163 - BANK MEGA KARTU KREDIT (MEGA FIRST)         71.0   \n",
       "\n",
       "                                                                               \\\n",
       "Proses Terakhir                                               DELIVERY RETURN   \n",
       "Tanggal    Pelanggan                                                            \n",
       "2020-12-01 CGKN05163 - BANK MEGA KARTU KREDIT (MEGA FIRST)               25.0   \n",
       "2020-12-02 CGK000504 - BANK MEGA KARTU KREDIT (ONLINE APLI...             NaN   \n",
       "           CGKN05163 - BANK MEGA KARTU KREDIT (MEGA FIRST)               44.0   \n",
       "2020-12-03 CGKN05163 - BANK MEGA KARTU KREDIT (MEGA FIRST)               14.0   \n",
       "2020-12-04 CGK000504 - BANK MEGA KARTU KREDIT (ONLINE APLI...             NaN   \n",
       "           CGKN05163 - BANK MEGA KARTU KREDIT (MEGA FIRST)               11.0   \n",
       "2020-12-07 CGKN05163 - BANK MEGA KARTU KREDIT (MEGA FIRST)               17.0   \n",
       "2020-12-08 CGKN05163 - BANK MEGA KARTU KREDIT (MEGA FIRST)               24.0   \n",
       "2020-12-10 CGKN05163 - BANK MEGA KARTU KREDIT (MEGA FIRST)               41.0   \n",
       "2020-12-11 CGKN05163 - BANK MEGA KARTU KREDIT (MEGA FIRST)               19.0   \n",
       "2020-12-14 CGK000504 - BANK MEGA KARTU KREDIT (ONLINE APLI...             NaN   \n",
       "           CGKN05163 - BANK MEGA KARTU KREDIT (MEGA FIRST)                1.0   \n",
       "2020-12-15 CGK000504 - BANK MEGA KARTU KREDIT (ONLINE APLI...             NaN   \n",
       "           CGKN05163 - BANK MEGA KARTU KREDIT (MEGA FIRST)                NaN   \n",
       "2020-12-16 CGKN05163 - BANK MEGA KARTU KREDIT (MEGA FIRST)                NaN   \n",
       "2020-12-17 CGK000504 - BANK MEGA KARTU KREDIT (ONLINE APLI...             NaN   \n",
       "           CGKN05163 - BANK MEGA KARTU KREDIT (MEGA FIRST)                NaN   \n",
       "2020-12-18 CGKN05163 - BANK MEGA KARTU KREDIT (MEGA FIRST)                NaN   \n",
       "2020-12-21 CGK000504 - BANK MEGA KARTU KREDIT (ONLINE APLI...             NaN   \n",
       "           CGKN05163 - BANK MEGA KARTU KREDIT (MEGA FIRST)                NaN   \n",
       "2020-12-22 CGK000504 - BANK MEGA KARTU KREDIT (ONLINE APLI...             NaN   \n",
       "           CGKN05163 - BANK MEGA KARTU KREDIT (MEGA FIRST)                NaN   \n",
       "\n",
       "                                                                        \\\n",
       "Proses Terakhir                                               INCOMING   \n",
       "Tanggal    Pelanggan                                                     \n",
       "2020-12-01 CGKN05163 - BANK MEGA KARTU KREDIT (MEGA FIRST)         NaN   \n",
       "2020-12-02 CGK000504 - BANK MEGA KARTU KREDIT (ONLINE APLI...      NaN   \n",
       "           CGKN05163 - BANK MEGA KARTU KREDIT (MEGA FIRST)         NaN   \n",
       "2020-12-03 CGKN05163 - BANK MEGA KARTU KREDIT (MEGA FIRST)         NaN   \n",
       "2020-12-04 CGK000504 - BANK MEGA KARTU KREDIT (ONLINE APLI...      NaN   \n",
       "           CGKN05163 - BANK MEGA KARTU KREDIT (MEGA FIRST)         NaN   \n",
       "2020-12-07 CGKN05163 - BANK MEGA KARTU KREDIT (MEGA FIRST)         NaN   \n",
       "2020-12-08 CGKN05163 - BANK MEGA KARTU KREDIT (MEGA FIRST)         1.0   \n",
       "2020-12-10 CGKN05163 - BANK MEGA KARTU KREDIT (MEGA FIRST)         1.0   \n",
       "2020-12-11 CGKN05163 - BANK MEGA KARTU KREDIT (MEGA FIRST)         1.0   \n",
       "2020-12-14 CGK000504 - BANK MEGA KARTU KREDIT (ONLINE APLI...      NaN   \n",
       "           CGKN05163 - BANK MEGA KARTU KREDIT (MEGA FIRST)         1.0   \n",
       "2020-12-15 CGK000504 - BANK MEGA KARTU KREDIT (ONLINE APLI...      NaN   \n",
       "           CGKN05163 - BANK MEGA KARTU KREDIT (MEGA FIRST)         1.0   \n",
       "2020-12-16 CGKN05163 - BANK MEGA KARTU KREDIT (MEGA FIRST)         2.0   \n",
       "2020-12-17 CGK000504 - BANK MEGA KARTU KREDIT (ONLINE APLI...      NaN   \n",
       "           CGKN05163 - BANK MEGA KARTU KREDIT (MEGA FIRST)         2.0   \n",
       "2020-12-18 CGKN05163 - BANK MEGA KARTU KREDIT (MEGA FIRST)         2.0   \n",
       "2020-12-21 CGK000504 - BANK MEGA KARTU KREDIT (ONLINE APLI...      NaN   \n",
       "           CGKN05163 - BANK MEGA KARTU KREDIT (MEGA FIRST)        64.0   \n",
       "2020-12-22 CGK000504 - BANK MEGA KARTU KREDIT (ONLINE APLI...      1.0   \n",
       "           CGKN05163 - BANK MEGA KARTU KREDIT (MEGA FIRST)       158.0   \n",
       "\n",
       "                                                                               \\\n",
       "Proses Terakhir                                               INCOMING RETURN   \n",
       "Tanggal    Pelanggan                                                            \n",
       "2020-12-01 CGKN05163 - BANK MEGA KARTU KREDIT (MEGA FIRST)                4.0   \n",
       "2020-12-02 CGK000504 - BANK MEGA KARTU KREDIT (ONLINE APLI...             1.0   \n",
       "           CGKN05163 - BANK MEGA KARTU KREDIT (MEGA FIRST)                3.0   \n",
       "2020-12-03 CGKN05163 - BANK MEGA KARTU KREDIT (MEGA FIRST)                3.0   \n",
       "2020-12-04 CGK000504 - BANK MEGA KARTU KREDIT (ONLINE APLI...             NaN   \n",
       "           CGKN05163 - BANK MEGA KARTU KREDIT (MEGA FIRST)                3.0   \n",
       "2020-12-07 CGKN05163 - BANK MEGA KARTU KREDIT (MEGA FIRST)                4.0   \n",
       "2020-12-08 CGKN05163 - BANK MEGA KARTU KREDIT (MEGA FIRST)               16.0   \n",
       "2020-12-10 CGKN05163 - BANK MEGA KARTU KREDIT (MEGA FIRST)               21.0   \n",
       "2020-12-11 CGKN05163 - BANK MEGA KARTU KREDIT (MEGA FIRST)              126.0   \n",
       "2020-12-14 CGK000504 - BANK MEGA KARTU KREDIT (ONLINE APLI...             NaN   \n",
       "           CGKN05163 - BANK MEGA KARTU KREDIT (MEGA FIRST)               20.0   \n",
       "2020-12-15 CGK000504 - BANK MEGA KARTU KREDIT (ONLINE APLI...             NaN   \n",
       "           CGKN05163 - BANK MEGA KARTU KREDIT (MEGA FIRST)               19.0   \n",
       "2020-12-16 CGKN05163 - BANK MEGA KARTU KREDIT (MEGA FIRST)               15.0   \n",
       "2020-12-17 CGK000504 - BANK MEGA KARTU KREDIT (ONLINE APLI...             NaN   \n",
       "           CGKN05163 - BANK MEGA KARTU KREDIT (MEGA FIRST)               16.0   \n",
       "2020-12-18 CGKN05163 - BANK MEGA KARTU KREDIT (MEGA FIRST)                7.0   \n",
       "2020-12-21 CGK000504 - BANK MEGA KARTU KREDIT (ONLINE APLI...             NaN   \n",
       "           CGKN05163 - BANK MEGA KARTU KREDIT (MEGA FIRST)                NaN   \n",
       "2020-12-22 CGK000504 - BANK MEGA KARTU KREDIT (ONLINE APLI...             NaN   \n",
       "           CGKN05163 - BANK MEGA KARTU KREDIT (MEGA FIRST)                NaN   \n",
       "\n",
       "                                                                                 \\\n",
       "Proses Terakhir                                               MANIFEST OUTGOING   \n",
       "Tanggal    Pelanggan                                                              \n",
       "2020-12-01 CGKN05163 - BANK MEGA KARTU KREDIT (MEGA FIRST)                  NaN   \n",
       "2020-12-02 CGK000504 - BANK MEGA KARTU KREDIT (ONLINE APLI...               NaN   \n",
       "           CGKN05163 - BANK MEGA KARTU KREDIT (MEGA FIRST)                  NaN   \n",
       "2020-12-03 CGKN05163 - BANK MEGA KARTU KREDIT (MEGA FIRST)                  NaN   \n",
       "2020-12-04 CGK000504 - BANK MEGA KARTU KREDIT (ONLINE APLI...               NaN   \n",
       "           CGKN05163 - BANK MEGA KARTU KREDIT (MEGA FIRST)                  NaN   \n",
       "2020-12-07 CGKN05163 - BANK MEGA KARTU KREDIT (MEGA FIRST)                  NaN   \n",
       "2020-12-08 CGKN05163 - BANK MEGA KARTU KREDIT (MEGA FIRST)                  2.0   \n",
       "2020-12-10 CGKN05163 - BANK MEGA KARTU KREDIT (MEGA FIRST)                  3.0   \n",
       "2020-12-11 CGKN05163 - BANK MEGA KARTU KREDIT (MEGA FIRST)                  3.0   \n",
       "2020-12-14 CGK000504 - BANK MEGA KARTU KREDIT (ONLINE APLI...               NaN   \n",
       "           CGKN05163 - BANK MEGA KARTU KREDIT (MEGA FIRST)                  1.0   \n",
       "2020-12-15 CGK000504 - BANK MEGA KARTU KREDIT (ONLINE APLI...               NaN   \n",
       "           CGKN05163 - BANK MEGA KARTU KREDIT (MEGA FIRST)                  2.0   \n",
       "2020-12-16 CGKN05163 - BANK MEGA KARTU KREDIT (MEGA FIRST)                  NaN   \n",
       "2020-12-17 CGK000504 - BANK MEGA KARTU KREDIT (ONLINE APLI...               NaN   \n",
       "           CGKN05163 - BANK MEGA KARTU KREDIT (MEGA FIRST)                  1.0   \n",
       "2020-12-18 CGKN05163 - BANK MEGA KARTU KREDIT (MEGA FIRST)                  1.0   \n",
       "2020-12-21 CGK000504 - BANK MEGA KARTU KREDIT (ONLINE APLI...               NaN   \n",
       "           CGKN05163 - BANK MEGA KARTU KREDIT (MEGA FIRST)                 76.0   \n",
       "2020-12-22 CGK000504 - BANK MEGA KARTU KREDIT (ONLINE APLI...               NaN   \n",
       "           CGKN05163 - BANK MEGA KARTU KREDIT (MEGA FIRST)                913.0   \n",
       "\n",
       "                                                                               \\\n",
       "Proses Terakhir                                               OUTGOING RETURN   \n",
       "Tanggal    Pelanggan                                                            \n",
       "2020-12-01 CGKN05163 - BANK MEGA KARTU KREDIT (MEGA FIRST)              352.0   \n",
       "2020-12-02 CGK000504 - BANK MEGA KARTU KREDIT (ONLINE APLI...             NaN   \n",
       "           CGKN05163 - BANK MEGA KARTU KREDIT (MEGA FIRST)              187.0   \n",
       "2020-12-03 CGKN05163 - BANK MEGA KARTU KREDIT (MEGA FIRST)              151.0   \n",
       "2020-12-04 CGK000504 - BANK MEGA KARTU KREDIT (ONLINE APLI...             NaN   \n",
       "           CGKN05163 - BANK MEGA KARTU KREDIT (MEGA FIRST)              204.0   \n",
       "2020-12-07 CGKN05163 - BANK MEGA KARTU KREDIT (MEGA FIRST)              203.0   \n",
       "2020-12-08 CGKN05163 - BANK MEGA KARTU KREDIT (MEGA FIRST)              371.0   \n",
       "2020-12-10 CGKN05163 - BANK MEGA KARTU KREDIT (MEGA FIRST)              640.0   \n",
       "2020-12-11 CGKN05163 - BANK MEGA KARTU KREDIT (MEGA FIRST)             1076.0   \n",
       "2020-12-14 CGK000504 - BANK MEGA KARTU KREDIT (ONLINE APLI...             NaN   \n",
       "           CGKN05163 - BANK MEGA KARTU KREDIT (MEGA FIRST)              240.0   \n",
       "2020-12-15 CGK000504 - BANK MEGA KARTU KREDIT (ONLINE APLI...             NaN   \n",
       "           CGKN05163 - BANK MEGA KARTU KREDIT (MEGA FIRST)              170.0   \n",
       "2020-12-16 CGKN05163 - BANK MEGA KARTU KREDIT (MEGA FIRST)              169.0   \n",
       "2020-12-17 CGK000504 - BANK MEGA KARTU KREDIT (ONLINE APLI...             1.0   \n",
       "           CGKN05163 - BANK MEGA KARTU KREDIT (MEGA FIRST)              147.0   \n",
       "2020-12-18 CGKN05163 - BANK MEGA KARTU KREDIT (MEGA FIRST)               81.0   \n",
       "2020-12-21 CGK000504 - BANK MEGA KARTU KREDIT (ONLINE APLI...             NaN   \n",
       "           CGKN05163 - BANK MEGA KARTU KREDIT (MEGA FIRST)                5.0   \n",
       "2020-12-22 CGK000504 - BANK MEGA KARTU KREDIT (ONLINE APLI...             NaN   \n",
       "           CGKN05163 - BANK MEGA KARTU KREDIT (MEGA FIRST)                NaN   \n",
       "\n",
       "                                                                      \\\n",
       "Proses Terakhir                                                  POD   \n",
       "Tanggal    Pelanggan                                                   \n",
       "2020-12-01 CGKN05163 - BANK MEGA KARTU KREDIT (MEGA FIRST)     201.0   \n",
       "2020-12-02 CGK000504 - BANK MEGA KARTU KREDIT (ONLINE APLI...    NaN   \n",
       "           CGKN05163 - BANK MEGA KARTU KREDIT (MEGA FIRST)     106.0   \n",
       "2020-12-03 CGKN05163 - BANK MEGA KARTU KREDIT (MEGA FIRST)     115.0   \n",
       "2020-12-04 CGK000504 - BANK MEGA KARTU KREDIT (ONLINE APLI...    1.0   \n",
       "           CGKN05163 - BANK MEGA KARTU KREDIT (MEGA FIRST)     131.0   \n",
       "2020-12-07 CGKN05163 - BANK MEGA KARTU KREDIT (MEGA FIRST)     154.0   \n",
       "2020-12-08 CGKN05163 - BANK MEGA KARTU KREDIT (MEGA FIRST)     240.0   \n",
       "2020-12-10 CGKN05163 - BANK MEGA KARTU KREDIT (MEGA FIRST)     390.0   \n",
       "2020-12-11 CGKN05163 - BANK MEGA KARTU KREDIT (MEGA FIRST)     866.0   \n",
       "2020-12-14 CGK000504 - BANK MEGA KARTU KREDIT (ONLINE APLI...    1.0   \n",
       "           CGKN05163 - BANK MEGA KARTU KREDIT (MEGA FIRST)     268.0   \n",
       "2020-12-15 CGK000504 - BANK MEGA KARTU KREDIT (ONLINE APLI...    2.0   \n",
       "           CGKN05163 - BANK MEGA KARTU KREDIT (MEGA FIRST)     228.0   \n",
       "2020-12-16 CGKN05163 - BANK MEGA KARTU KREDIT (MEGA FIRST)     217.0   \n",
       "2020-12-17 CGK000504 - BANK MEGA KARTU KREDIT (ONLINE APLI...    NaN   \n",
       "           CGKN05163 - BANK MEGA KARTU KREDIT (MEGA FIRST)     252.0   \n",
       "2020-12-18 CGKN05163 - BANK MEGA KARTU KREDIT (MEGA FIRST)     266.0   \n",
       "2020-12-21 CGK000504 - BANK MEGA KARTU KREDIT (ONLINE APLI...    2.0   \n",
       "           CGKN05163 - BANK MEGA KARTU KREDIT (MEGA FIRST)     218.0   \n",
       "2020-12-22 CGK000504 - BANK MEGA KARTU KREDIT (ONLINE APLI...    NaN   \n",
       "           CGKN05163 - BANK MEGA KARTU KREDIT (MEGA FIRST)       NaN   \n",
       "\n",
       "                                                                             \n",
       "Proses Terakhir                                               SHIPMENT LOST  \n",
       "Tanggal    Pelanggan                                                         \n",
       "2020-12-01 CGKN05163 - BANK MEGA KARTU KREDIT (MEGA FIRST)              NaN  \n",
       "2020-12-02 CGK000504 - BANK MEGA KARTU KREDIT (ONLINE APLI...           NaN  \n",
       "           CGKN05163 - BANK MEGA KARTU KREDIT (MEGA FIRST)              NaN  \n",
       "2020-12-03 CGKN05163 - BANK MEGA KARTU KREDIT (MEGA FIRST)              NaN  \n",
       "2020-12-04 CGK000504 - BANK MEGA KARTU KREDIT (ONLINE APLI...           NaN  \n",
       "           CGKN05163 - BANK MEGA KARTU KREDIT (MEGA FIRST)              NaN  \n",
       "2020-12-07 CGKN05163 - BANK MEGA KARTU KREDIT (MEGA FIRST)              NaN  \n",
       "2020-12-08 CGKN05163 - BANK MEGA KARTU KREDIT (MEGA FIRST)              NaN  \n",
       "2020-12-10 CGKN05163 - BANK MEGA KARTU KREDIT (MEGA FIRST)              3.0  \n",
       "2020-12-11 CGKN05163 - BANK MEGA KARTU KREDIT (MEGA FIRST)              NaN  \n",
       "2020-12-14 CGK000504 - BANK MEGA KARTU KREDIT (ONLINE APLI...           NaN  \n",
       "           CGKN05163 - BANK MEGA KARTU KREDIT (MEGA FIRST)              NaN  \n",
       "2020-12-15 CGK000504 - BANK MEGA KARTU KREDIT (ONLINE APLI...           NaN  \n",
       "           CGKN05163 - BANK MEGA KARTU KREDIT (MEGA FIRST)              NaN  \n",
       "2020-12-16 CGKN05163 - BANK MEGA KARTU KREDIT (MEGA FIRST)              NaN  \n",
       "2020-12-17 CGK000504 - BANK MEGA KARTU KREDIT (ONLINE APLI...           NaN  \n",
       "           CGKN05163 - BANK MEGA KARTU KREDIT (MEGA FIRST)              NaN  \n",
       "2020-12-18 CGKN05163 - BANK MEGA KARTU KREDIT (MEGA FIRST)              NaN  \n",
       "2020-12-21 CGK000504 - BANK MEGA KARTU KREDIT (ONLINE APLI...           NaN  \n",
       "           CGKN05163 - BANK MEGA KARTU KREDIT (MEGA FIRST)              NaN  \n",
       "2020-12-22 CGK000504 - BANK MEGA KARTU KREDIT (ONLINE APLI...           NaN  \n",
       "           CGKN05163 - BANK MEGA KARTU KREDIT (MEGA FIRST)              NaN  "
      ]
     },
     "execution_count": 5,
     "metadata": {},
     "output_type": "execute_result"
    }
   ],
   "source": [
    "df.groupby(['Tanggal', 'Pelanggan', 'Proses Terakhir'])[['awb']].count().unstack() #.to_excel('entry.xlsx')"
   ]
  },
  {
   "cell_type": "code",
   "execution_count": 13,
   "metadata": {},
   "outputs": [],
   "source": [
    "df[df['Proses Terakhir']=='ENTRI VERIFIED'].to_excel('awb entry.xlsx')"
   ]
  },
  {
   "cell_type": "markdown",
   "metadata": {},
   "source": [
    "## FILTER REGEX ALT2"
   ]
  },
  {
   "cell_type": "code",
   "execution_count": 37,
   "metadata": {},
   "outputs": [],
   "source": [
    "df['new'] = np.where(df['Keterangan Outgoing'].str.contains('[A][L][T]'), \"A2\",\"NORMAL\")"
   ]
  },
  {
   "cell_type": "code",
   "execution_count": 38,
   "metadata": {},
   "outputs": [
    {
     "data": {
      "text/plain": [
       "NORMAL    7848\n",
       "A2         131\n",
       "Name: new, dtype: int64"
      ]
     },
     "execution_count": 38,
     "metadata": {},
     "output_type": "execute_result"
    }
   ],
   "source": [
    "df['new'].value_counts()"
   ]
  },
  {
   "cell_type": "code",
   "execution_count": 39,
   "metadata": {},
   "outputs": [],
   "source": [
    "df[['new', 'awb', 'Keterangan Outgoing']].to_excel('xlxl.xlsx')"
   ]
  },
  {
   "cell_type": "code",
   "execution_count": null,
   "metadata": {},
   "outputs": [],
   "source": [
    "df[df['Proses Terakhir']=='INCOMING'].to_excel('cekincoming.xlsx')"
   ]
  },
  {
   "cell_type": "code",
   "execution_count": 28,
   "metadata": {},
   "outputs": [
    {
     "data": {
      "text/plain": [
       "<bound method NDFrame.head of 0             14784152660110\n",
       "1             05329633110110\n",
       "2             08519758720110\n",
       "3             03306126050110\n",
       "4             19139349810110\n",
       "                ...         \n",
       "4296    202001080000621I3603\n",
       "4297    202001090002400I0523\n",
       "4298    202001100000570I0828\n",
       "4299    202006100000001N0005\n",
       "4300    202001090002869I0711\n",
       "Name: No. Referensi, Length: 42008, dtype: object>"
      ]
     },
     "execution_count": 28,
     "metadata": {},
     "output_type": "execute_result"
    }
   ],
   "source": [
    "df['No. Referensi'].head"
   ]
  },
  {
   "cell_type": "code",
   "execution_count": null,
   "metadata": {},
   "outputs": [],
   "source": [
    "df = pd.merge(df, nos[['TLC Tujuan', 'Regional NOS']], on='TLC Tujuan', how='inner')\n"
   ]
  },
  {
   "cell_type": "code",
   "execution_count": null,
   "metadata": {},
   "outputs": [],
   "source": [
    "https://stackoverflow.com/questions/53645882/pandas-merging-101\n",
    "\n",
    "df = df.merge(nos[['TLC Tujuan', 'Regional NOS']], on='TLC Tujuan', how='inner')"
   ]
  },
  {
   "cell_type": "markdown",
   "metadata": {},
   "source": [
    "#  REPLACE VALUE BASED ON ANOTHER VALUE"
   ]
  },
  {
   "cell_type": "code",
   "execution_count": null,
   "metadata": {},
   "outputs": [],
   "source": [
    "df['Pelanggan'].unique()"
   ]
  },
  {
   "cell_type": "code",
   "execution_count": null,
   "metadata": {},
   "outputs": [],
   "source": [
    "df['Pelanggan'].value_counts().sum(axis=0)"
   ]
  },
  {
   "cell_type": "code",
   "execution_count": null,
   "metadata": {},
   "outputs": [],
   "source": [
    "df['Client_sap'].value_counts()"
   ]
  },
  {
   "cell_type": "markdown",
   "metadata": {},
   "source": [
    "# CEK MISRUT"
   ]
  },
  {
   "cell_type": "code",
   "execution_count": null,
   "metadata": {},
   "outputs": [],
   "source": [
    "misrut = pd.merge(fx[['awb', 'status', 'nama', 'noresi', 'tgl_pkp', 'ALAMAT 2']], df[['awb', 'Tlp1', 'No. Referensi', 'Tanggal', 'TLC Tujuan', 'Alamat Penerima', 'Penerima', 'Status POD', 'Proses Terakhir', 'Tgl. Proses Terakhir', 'Status', 'Keterangan']], \n",
    "              on = 'awb', how='inner')\n",
    "misrut = misrut[['awb', 'noresi', 'Tlp1', 'No. Referensi','TLC Tujuan', 'Tanggal', 'status', 'nama','Alamat Penerima', 'ALAMAT 2','Penerima', 'Status POD', 'Proses Terakhir','Tgl. Proses Terakhir', 'Status', 'Keterangan']]\n",
    "t = ['T', 'B']\n",
    "pa = ['INCOMING RETURN', 'INCOMING', 'POD', 'OUTGOING RETURN']\n",
    "st = ['MISSROUTE']\n",
    "miss = misrut[~misrut['status'].isin(t) &\n",
    "          misrut['Proses Terakhir'].isin(pa)&\n",
    "             misrut['Status'].isin(st)]\n",
    "# GANTI TGL TERBARU incomind diatas tgl kemaren\n",
    "miss.to_excel('Cekmisroute 2108.xlsx')"
   ]
  },
  {
   "cell_type": "markdown",
   "metadata": {},
   "source": [
    "# ALAMAT 2 INCOMING RETURN"
   ]
  },
  {
   "cell_type": "code",
   "execution_count": null,
   "metadata": {},
   "outputs": [],
   "source": [
    "tes = pd.merge(fx[['awb', 'status', 'nama', 'noresi', 'tgl_pkp','telepon3', 'ALAMAT 2']], df[['awb', 'Tlp1', 'Pelanggan', 'No. Referensi', 'Tanggal', 'TLC Tujuan', 'Alamat Penerima', 'Penerima', 'Status POD', 'Proses Terakhir', 'Keterangan Outgoing','Tgl. Proses Terakhir', 'Status', 'Keterangan']], \n",
    "              on = 'awb', how='inner')\n",
    "tes = tes[['awb', 'Pelanggan', 'noresi', 'Tlp1', 'No. Referensi','TLC Tujuan', 'Tanggal', 'status', 'nama','Alamat Penerima', 'ALAMAT 2','Penerima', 'Status POD', 'Proses Terakhir','Tgl. Proses Terakhir','Keterangan Outgoing', 'Status', 'Keterangan', 'telepon3']]\n",
    "t = ['T', 'B']\n",
    "pa = ['INCOMING RETURN', 'INCOMING', 'OUTGOING RETURN']\n",
    "tes_ = tes[~tes['status'].isin(t) &\n",
    "          tes['Proses Terakhir'].isin(pa)]\n",
    "# GANTI TGL TERBARU incomind diatas tgl kemaren\n",
    "\n",
    "# tes_=tes_[tes_['Tgl. Proses Terakhir'] > pd.Timestamp(2020,7,19)]\n",
    "\n",
    "with pd.ExcelWriter('PRE RETURN KK 1408_.xlsx') as writer:\n",
    "    for sort, data in tes_.groupby('Proses Terakhir'):\n",
    "        data.to_excel(writer, sheet_name=sort)"
   ]
  },
  {
   "cell_type": "code",
   "execution_count": null,
   "metadata": {},
   "outputs": [],
   "source": [
    "df['Pelanggan'].value_counts()"
   ]
  },
  {
   "cell_type": "markdown",
   "metadata": {},
   "source": [
    "# CEK INCOMING RETURN ALL"
   ]
  },
  {
   "cell_type": "code",
   "execution_count": 8,
   "metadata": {},
   "outputs": [
    {
     "data": {
      "text/plain": [
       "(16360, 19)"
      ]
     },
     "execution_count": 8,
     "metadata": {},
     "output_type": "execute_result"
    }
   ],
   "source": [
    "tes = pd.merge(fx[['awb', 'status', 'nama', 'noresi', 'tgl_pkp', 'telepon3','ALAMAT 2']], df[['awb','Client_sap','Bulan','Pelanggan', 'Tlp1', 'No. Referensi', 'Tanggal', 'TLC Tujuan', 'Alamat Penerima', 'Penerima', 'Status POD','Kurir', 'Proses Terakhir', 'Tgl. Proses Terakhir', 'Status', 'Keterangan']], \n",
    "              on = 'awb', how='inner')\n",
    "tes = tes[['awb','Bulan', 'noresi','Pelanggan', 'Tlp1', 'No. Referensi','TLC Tujuan', 'Tanggal', 'status', 'nama','Alamat Penerima', 'ALAMAT 2','Penerima', 'Status POD', 'Proses Terakhir','Tgl. Proses Terakhir', 'Status', 'Kurir', 'Keterangan']]\n",
    "t = ['B', 'T']\n",
    "#cl = ['CGK018645 - MITRA USAHA SARANA TRANSPORTASI PT (KK)',\n",
    "     #'CGK018645-MITRA USAHA SARANA TRANSPORTASI PT (KK)']\n",
    "# tes['Pelanggan'].isin(cl)\n",
    "pa = ['INCOMING RETURN'] # 'POD', 'INCOMING', 'DELIVERY RETURN'\n",
    "# tes['Proses Terakhir'].isin(pa)\n",
    "tes_ = tes[~tes['status'].isin(t)&\n",
    "          tes['Proses Terakhir'].isin(pa)]# GANTI TGL TERBARU incomind diatas tgl kemaren\n",
    "\n",
    "#es_=tes_[tes_['Tgl. Proses Terakhir'] > pd.Timestamp(2020,7,17)]\n",
    "\n",
    "tes_.to_excel('INCOMING RETURN 16 NOV AUG.xlsx')\n",
    "tes_.shape"
   ]
  },
  {
   "cell_type": "markdown",
   "metadata": {},
   "source": [
    "# Cek Outgoing Return"
   ]
  },
  {
   "cell_type": "code",
   "execution_count": 6,
   "metadata": {},
   "outputs": [],
   "source": [
    "out_ret = df[df['Proses Terakhir']== \"INCOMING\"][['awb', 'Service','Pelanggan','TLC Tujuan','Tanggal', 'Penerima','Status POD', 'Proses Terakhir', 'Tgl. Proses Terakhir', 'Proses Akhir']]\n",
    "\n",
    "# filter_ot = ['OU']\n",
    "\n",
    "out_ret.to_excel('INCOMING.xlsx')\n",
    "# out_ret.to_excel('manifest outgoing.xlsx')"
   ]
  },
  {
   "cell_type": "code",
   "execution_count": 7,
   "metadata": {},
   "outputs": [
    {
     "data": {
      "text/plain": [
       "(51, 10)"
      ]
     },
     "execution_count": 7,
     "metadata": {},
     "output_type": "execute_result"
    }
   ],
   "source": [
    "out_ret.shape"
   ]
  },
  {
   "cell_type": "code",
   "execution_count": 8,
   "metadata": {},
   "outputs": [
    {
     "data": {
      "text/plain": [
       "OUTGOING RETURN      6621\n",
       "POD                  4306\n",
       "DELIVERY RETURN       465\n",
       "INCOMING RETURN       225\n",
       "DELIVERY              135\n",
       "INCOMING               38\n",
       "MANIFEST OUTGOING      17\n",
       "SHIPMENT LOST           3\n",
       "Name: Proses Terakhir, dtype: int64"
      ]
     },
     "execution_count": 8,
     "metadata": {},
     "output_type": "execute_result"
    }
   ],
   "source": [
    "df['Proses Terakhir'].value_counts()"
   ]
  },
  {
   "cell_type": "markdown",
   "metadata": {},
   "source": [
    "# Generate Barcode"
   ]
  },
  {
   "cell_type": "markdown",
   "metadata": {},
   "source": [
    "## Source Barcode"
   ]
  },
  {
   "cell_type": "code",
   "execution_count": null,
   "metadata": {},
   "outputs": [],
   "source": [
    "cekx = pd.read_excel('ret.xlsx')\n",
    "\n",
    "# cekx = pd.merge(cekx, df[['awb', 'Tlp1', 'Tanggal', 'Penerima', 'Status', 'TLC Tujuan', 'No. Referensi', 'Keterangan', 'Alamat Penerima', 'Proses Terakhir', 'Tgl. Proses Terakhir']],\n",
    "#                  on = 'awb', how='left')\n",
    "# cekx.to_excel('retxx.xlsx')\n",
    "print(cekx.shape)\n",
    "cekx.head(2)\n",
    "\n",
    "# for barcode\n",
    "addawb = cekx['awb'].to_list()\n",
    "len(addawb)"
   ]
  },
  {
   "cell_type": "markdown",
   "metadata": {},
   "source": [
    "## Fix"
   ]
  },
  {
   "cell_type": "code",
   "execution_count": 21,
   "metadata": {
    "collapsed": true
   },
   "outputs": [
    {
     "ename": "NameError",
     "evalue": "name 'addawb' is not defined",
     "output_type": "error",
     "traceback": [
      "\u001b[1;31m---------------------------------------------------------------------------\u001b[0m",
      "\u001b[1;31mNameError\u001b[0m                                 Traceback (most recent call last)",
      "\u001b[1;32m<ipython-input-21-48f1bd0e0074>\u001b[0m in \u001b[0;36m<module>\u001b[1;34m\u001b[0m\n\u001b[0;32m      7\u001b[0m \u001b[0mc\u001b[0m \u001b[1;33m=\u001b[0m \u001b[0mcanvas\u001b[0m\u001b[1;33m.\u001b[0m\u001b[0mCanvas\u001b[0m\u001b[1;33m(\u001b[0m\u001b[1;34m\"barcode_example39_05Mei.pdf\"\u001b[0m\u001b[1;33m,\u001b[0m \u001b[0mpagesize\u001b[0m\u001b[1;33m=\u001b[0m\u001b[0mA4\u001b[0m\u001b[1;33m)\u001b[0m\u001b[1;33m\u001b[0m\u001b[1;33m\u001b[0m\u001b[0m\n\u001b[0;32m      8\u001b[0m \u001b[1;33m\u001b[0m\u001b[0m\n\u001b[1;32m----> 9\u001b[1;33m \u001b[0mcode_list\u001b[0m \u001b[1;33m=\u001b[0m \u001b[0mcopy\u001b[0m\u001b[1;33m.\u001b[0m\u001b[0mcopy\u001b[0m\u001b[1;33m(\u001b[0m\u001b[0maddawb\u001b[0m\u001b[1;33m)\u001b[0m\u001b[1;33m\u001b[0m\u001b[1;33m\u001b[0m\u001b[0m\n\u001b[0m\u001b[0;32m     10\u001b[0m \u001b[1;33m\u001b[0m\u001b[0m\n\u001b[0;32m     11\u001b[0m \u001b[1;33m\u001b[0m\u001b[0m\n",
      "\u001b[1;31mNameError\u001b[0m: name 'addawb' is not defined"
     ]
    }
   ],
   "source": [
    "import copy\n",
    "from reportlab.graphics.barcode import code39\n",
    "from reportlab.lib.pagesizes import A4\n",
    "from reportlab.lib.units import mm\n",
    "from reportlab.pdfgen import canvas\n",
    "\n",
    "c = canvas.Canvas(\"barcode_example39_05Mei.pdf\", pagesize=A4)\n",
    "\n",
    "code_list = copy.copy(addawb)\n",
    "\n",
    "\n",
    "x = -2 * mm\n",
    "y =  290 * mm #278,499 good jarak dengan space atas bawah\n",
    "x1 = 5 * mm #6.4 , \n",
    "x2 = 15 * mm #15\n",
    "\n",
    "\n",
    "for i, code in enumerate(code_list):\n",
    "    barcode = code39.Extended39(code, barWidth=0.19*mm, barHeight=5*mm, checksum=0)\n",
    "\n",
    "    if i % 2 == 0: # 2,\n",
    "        barcode.drawOn(c, x, y) # input data to pdf [barcode, kolom 1]\n",
    "        x1 = x + 5 * mm\n",
    "        c.drawString(x1, y - 3 * mm, code) #3.5 good, 5 #jarak no barcode dan barcode\n",
    "       \n",
    "        \n",
    "    else:\n",
    "        x1 = x + 70 * mm #100  # space tengah 70 pas\n",
    "        x2 = x1 + 70 * mm\n",
    "        barcode.drawOn(c, x1, y) # input data to pdf [barcode, kolom 2, kolom 3]\n",
    "        barcode.drawOn(c, x2, y)\n",
    "        y = y - 13 * mm #3, 5:14, 7:12, -10:+3 # Spasi antar row BAR\n",
    "        c.drawString(x1 + 5 * mm, y, code) #6.4 #jarak no barcode dan barcode\n",
    "        c.drawString(x2 + 15 * mm, y, code) #jarak no barcode dan barcode\n",
    "        y = y + 3 * mm #16 good,25 # Spasi antar Bar dan NO. Barcode\n",
    "\n",
    "\n",
    "#    if int(y) == 0:\n",
    "#        x = x + 50 * mm\n",
    "#        y = 285 * mm\n",
    "\n",
    "c.showPage()\n",
    "c.save()"
   ]
  },
  {
   "cell_type": "markdown",
   "metadata": {},
   "source": [
    "## Basic"
   ]
  },
  {
   "cell_type": "code",
   "execution_count": null,
   "metadata": {},
   "outputs": [],
   "source": [
    "import copy\n",
    "from reportlab.graphics.barcode import code39\n",
    "from reportlab.lib.pagesizes import A4\n",
    "from reportlab.lib.units import mm\n",
    "from reportlab.pdfgen import canvas\n",
    "\n",
    "c = canvas.Canvas(\"barcode_example39_tgr54.pdf\", pagesize=A4)\n",
    "\n",
    "code_list = copy.copy(addawb)\n",
    "\n",
    "\n",
    "x = -2 * mm\n",
    "y = 290 * mm #278, \n",
    "x1 = 6.4 * mm #6.4 , \n",
    "\n",
    "for i, code in enumerate(code_list):\n",
    "    barcode = code39.Extended39(code, barWidth=0.3*mm, barHeight=5*mm)\n",
    "\n",
    "    if i % 2 == 0: # 2,\n",
    "        barcode.drawOn(c, x, y)\n",
    "        x1 = x + 6.4 * mm\n",
    "        c.drawString(x1, y- 5 * mm, code)\n",
    "        \n",
    "    else:\n",
    "        x1 = x + 100 * mm\n",
    "        barcode.drawOn(c, x1, y)\n",
    "        y = y - 5 * mm\n",
    "        c.drawString(x1 + 6.4 * mm, y, code) #6.4, \n",
    "        y = y - 25 * mm\n",
    "\n",
    "\n",
    "#    if int(y) == 0:\n",
    "#        x = x + 50 * mm\n",
    "#        y = 285 * mm\n",
    "\n",
    "c.showPage()\n",
    "c.save()"
   ]
  },
  {
   "cell_type": "code",
   "execution_count": null,
   "metadata": {},
   "outputs": [],
   "source": []
  },
  {
   "cell_type": "markdown",
   "metadata": {},
   "source": [
    "# CEK STATUS"
   ]
  },
  {
   "cell_type": "code",
   "execution_count": null,
   "metadata": {},
   "outputs": [],
   "source": [
    "# colouring Function\n",
    "\n",
    "def colour(value):\n",
    "    if value"
   ]
  },
  {
   "cell_type": "code",
   "execution_count": null,
   "metadata": {},
   "outputs": [],
   "source": [
    "main = df.groupby(['Status', 'Pelanggan'])[['awb']].count().unstack()\n",
    "z = main.columns\n",
    "y = pd.Index([e[1] for e in z.to_list()])\n",
    "main.columns = y\n",
    "main.fillna(0, inplace=True)\n",
    "main.drop(index='DITERIMA OLEH', inplace=True)\n",
    "main.columns = ['MEGA APL', 'PANIN KU', 'PANIN NEW', 'MEGA KK']\n",
    "main\n"
   ]
  },
  {
   "cell_type": "code",
   "execution_count": null,
   "metadata": {},
   "outputs": [],
   "source": [
    "df[df['awb']=='CGK8034237604046'].T"
   ]
  },
  {
   "cell_type": "markdown",
   "metadata": {},
   "source": [
    "# NO TEL PANIN"
   ]
  },
  {
   "cell_type": "code",
   "execution_count": null,
   "metadata": {},
   "outputs": [],
   "source": [
    "\n",
    "    \n",
    "# POD CORESYS\n",
    "\n",
    "import os\n",
    "import glob\n",
    "\n",
    "path = r'J:\\CS PANIN\\NOMOR TELEPON\\NO TELP\\07'\n",
    "file = glob.glob(os.path.join(path,\"*.xls\"))\n",
    "\n",
    "for target in file:\n",
    "    tel_panin = pd.concat((pd.read_csv(f, error_bad_lines=False) for f in file))"
   ]
  },
  {
   "cell_type": "code",
   "execution_count": null,
   "metadata": {},
   "outputs": [],
   "source": [
    "x[x['status']=='null']"
   ]
  },
  {
   "cell_type": "markdown",
   "metadata": {
    "scrolled": true
   },
   "source": [
    "# TABRAK PRE RETURN KIRIM KE CLIENT"
   ]
  },
  {
   "cell_type": "code",
   "execution_count": 6,
   "metadata": {},
   "outputs": [
    {
     "name": "stdout",
     "output_type": "stream",
     "text": [
      "(141, 16)\n"
     ]
    },
    {
     "data": {
      "text/html": [
       "<div>\n",
       "<style scoped>\n",
       "    .dataframe tbody tr th:only-of-type {\n",
       "        vertical-align: middle;\n",
       "    }\n",
       "\n",
       "    .dataframe tbody tr th {\n",
       "        vertical-align: top;\n",
       "    }\n",
       "\n",
       "    .dataframe thead th {\n",
       "        text-align: right;\n",
       "    }\n",
       "</style>\n",
       "<table border=\"1\" class=\"dataframe\">\n",
       "  <thead>\n",
       "    <tr style=\"text-align: right;\">\n",
       "      <th></th>\n",
       "      <th>awb</th>\n",
       "      <th>Tujuan</th>\n",
       "      <th>Tanggal</th>\n",
       "      <th>fin acc</th>\n",
       "      <th>Instruksi Khusus</th>\n",
       "      <th>Penerima</th>\n",
       "      <th>TLC Tujuan</th>\n",
       "      <th>Status</th>\n",
       "      <th>Status dan Keterangan</th>\n",
       "      <th>Proses Terakhir</th>\n",
       "      <th>Status POD</th>\n",
       "      <th>No. Referensi</th>\n",
       "      <th>TLC Tujuan</th>\n",
       "      <th>Alamat Penerima</th>\n",
       "      <th>Kurir</th>\n",
       "      <th>Pelanggan</th>\n",
       "    </tr>\n",
       "  </thead>\n",
       "  <tbody>\n",
       "    <tr>\n",
       "      <th>0</th>\n",
       "      <td>CGK8056267212039</td>\n",
       "      <td>PALU</td>\n",
       "      <td>2021-05-10</td>\n",
       "      <td>009586227</td>\n",
       "      <td>REN</td>\n",
       "      <td>KARTINI MUSTAPA</td>\n",
       "      <td>PLW</td>\n",
       "      <td>ALAMAT TIDAK LENGKAP</td>\n",
       "      <td>ALAMAT TIDAK LENGKAP:      ALAMAT TIDAK LENGKAP</td>\n",
       "      <td>INCOMING RETURN</td>\n",
       "      <td>UNDELIVERED</td>\n",
       "      <td>95862272900405</td>\n",
       "      <td>PLW</td>\n",
       "      <td>WARUNG MAKAH ZHALDY JL RE MARTADINATA NO 1 _ _</td>\n",
       "      <td>PLWT101219230MOH RIJAL FAHRUDIN IBRAHIM</td>\n",
       "      <td>CGKN05163 - BANK MEGA KARTU KREDIT (MEGA FIRST)</td>\n",
       "    </tr>\n",
       "    <tr>\n",
       "      <th>1</th>\n",
       "      <td>CGK8057369200224</td>\n",
       "      <td>MAKASSAR</td>\n",
       "      <td>2021-05-28</td>\n",
       "      <td>001134376</td>\n",
       "      <td>CRS</td>\n",
       "      <td>JEFFRY HONGADI</td>\n",
       "      <td>UPG</td>\n",
       "      <td>PINDAH</td>\n",
       "      <td>PINDAH:      CH SULIT DITEMUI</td>\n",
       "      <td>INCOMING RETURN</td>\n",
       "      <td>UNDELIVERED</td>\n",
       "      <td>11343765232805</td>\n",
       "      <td>UPG</td>\n",
       "      <td>_ JL SUNGAI SADDANG BARU NO 40 RT 01/05 MARICA...</td>\n",
       "      <td>UPGT101196005SRI WAHYUDDIN R</td>\n",
       "      <td>CGKN05163 - BANK MEGA KARTU KREDIT (MEGA FIRST)</td>\n",
       "    </tr>\n",
       "  </tbody>\n",
       "</table>\n",
       "</div>"
      ],
      "text/plain": [
       "                awb     Tujuan    Tanggal    fin acc Instruksi Khusus  \\\n",
       "0  CGK8056267212039       PALU 2021-05-10  009586227              REN   \n",
       "1  CGK8057369200224  MAKASSAR  2021-05-28  001134376              CRS   \n",
       "\n",
       "          Penerima TLC Tujuan                Status  \\\n",
       "0  KARTINI MUSTAPA        PLW  ALAMAT TIDAK LENGKAP   \n",
       "1   JEFFRY HONGADI        UPG                PINDAH   \n",
       "\n",
       "                             Status dan Keterangan  Proses Terakhir  \\\n",
       "0  ALAMAT TIDAK LENGKAP:      ALAMAT TIDAK LENGKAP  INCOMING RETURN   \n",
       "1                    PINDAH:      CH SULIT DITEMUI  INCOMING RETURN   \n",
       "\n",
       "    Status POD   No. Referensi TLC Tujuan  \\\n",
       "0  UNDELIVERED  95862272900405        PLW   \n",
       "1  UNDELIVERED  11343765232805        UPG   \n",
       "\n",
       "                                     Alamat Penerima  \\\n",
       "0     WARUNG MAKAH ZHALDY JL RE MARTADINATA NO 1 _ _   \n",
       "1  _ JL SUNGAI SADDANG BARU NO 40 RT 01/05 MARICA...   \n",
       "\n",
       "                                     Kurir  \\\n",
       "0  PLWT101219230MOH RIJAL FAHRUDIN IBRAHIM   \n",
       "1             UPGT101196005SRI WAHYUDDIN R   \n",
       "\n",
       "                                         Pelanggan  \n",
       "0  CGKN05163 - BANK MEGA KARTU KREDIT (MEGA FIRST)  \n",
       "1  CGKN05163 - BANK MEGA KARTU KREDIT (MEGA FIRST)  "
      ]
     },
     "execution_count": 6,
     "metadata": {},
     "output_type": "execute_result"
    }
   ],
   "source": [
    "from datetime import datetime\n",
    "\n",
    "today = str(date.today())\n",
    "\n",
    "retoday = pd.read_excel('pre_ret.xlsx', dtype = {'Tlp1': str})\n",
    "\n",
    "# cekret = pd.merge(retoday, df[['Tlp1', 'awb', 'Tanggal', 'Instruksi Khusus', 'Penerima', 'Status','Status POD','No. Referensi', 'TLC Tujuan', 'Keterangan', 'Alamat Penerima', 'Proses Terakhir', 'Tgl. Proses Terakhir', 'Kurir', 'Pelanggan']],\n",
    "#                  on = 'Tlp1', how='left')\n",
    "\n",
    "cekret = pd.merge(retoday, df[[ 'awb', 'Tujuan', 'Tanggal', 'Tlp1', 'Instruksi Khusus', 'Penerima', 'Status','Status POD','No. Referensi', 'TLC Tujuan', 'Keterangan', 'Alamat Penerima', 'Proses Terakhir', 'Tgl. Proses Terakhir', 'Kurir', 'Pelanggan']],\n",
    "                 on = 'awb', how='left')\n",
    "\n",
    "cekret['Status dan Keterangan'] = cekret['Status'] + ':      ' + cekret['Keterangan'] \n",
    "\n",
    "cekret = cekret[[ 'awb', 'Tujuan', 'Tanggal', 'Tlp1', 'Instruksi Khusus', 'Penerima','TLC Tujuan','Status', 'Status dan Keterangan', 'Proses Terakhir','Status POD','No. Referensi', 'TLC Tujuan', 'Alamat Penerima', 'Kurir', 'Pelanggan']]\n",
    "cekret.rename(columns={'Tlp1':'fin acc'}, inplace=True)\n",
    "\n",
    "cekret.to_excel('pre_ret_output_' + today + '.xlsx')\n",
    "print(cekret.shape)\n",
    "cekret.head(2)\n",
    "# cekret"
   ]
  },
  {
   "cell_type": "markdown",
   "metadata": {},
   "source": [
    "## Message OS"
   ]
  },
  {
   "cell_type": "code",
   "execution_count": null,
   "metadata": {},
   "outputs": [],
   "source": [
    "Selamat Pagi Tim,\n",
    "\n",
    "Berikut Data OS Client Tarik PU tgl 1-20 May 2021: \n",
    "    CGK000504 - BANK MEGA KARTU KREDIT (ONLINE APLIKASI)\n",
    "    CGK018645 - MITRA USAHA SARANA TRANSPORTASI PT (KK)\n",
    "    CGKN04249 - PANIN ( KIRIM ULANG )\n",
    "    CGKN04622 - PANIN  ( KARTU KREDIT)\n",
    "    CGKN05163 - BANK MEGA KARTU KREDIT (MEGA FIRST)\n",
    "\n",
    "    \n",
    "Note: *Status Kartu tersebut belum ter-report Berhasil ataupun belum dikembalikan ke Client*\n",
    "\n",
    "Terimakasih"
   ]
  },
  {
   "cell_type": "code",
   "execution_count": null,
   "metadata": {},
   "outputs": [],
   "source": [
    "awb_ = df[['awb', 'Tlp1', 'No. Referensi', 'Alamat Penerima','Penerima', 'Tanggal','Tgl. Manifest Outgoing', 'Tgl. Incoming' ,'Tgl. Proses Terakhir', 'TLC Tujuan', 'Pelanggan', 'Status POD', 'Proses Terakhir', 'Status','Kurir', 'Pengiriman Ke', 'Keterangan']]\n"
   ]
  },
  {
   "cell_type": "code",
   "execution_count": null,
   "metadata": {},
   "outputs": [],
   "source": [
    "cekk = pd.merge(df[['awb', 'Kontak Penerima', 'No. Referensi', 'Penerima', 'Tanggal']], fx, on='awb', how='left')\n",
    "cekk[['awb', 'Kontak Penerima',  'no_doc','No. Referensi', 'Penerima', 'Tanggal',\n",
    "       'tgl_pkp', 'nama', 'no_kartu', 'bulan']].to_excel('cek_no_doc.xlsx')"
   ]
  },
  {
   "cell_type": "code",
   "execution_count": null,
   "metadata": {},
   "outputs": [],
   "source": [
    "fx[fx.duplicated('no_kartu')]"
   ]
  },
  {
   "cell_type": "code",
   "execution_count": null,
   "metadata": {},
   "outputs": [],
   "source": [
    "no_kar = df.sh"
   ]
  },
  {
   "cell_type": "code",
   "execution_count": null,
   "metadata": {},
   "outputs": [],
   "source": [
    "fx.shape"
   ]
  },
  {
   "cell_type": "markdown",
   "metadata": {},
   "source": [
    "# UBAH ALT INFO"
   ]
  },
  {
   "cell_type": "code",
   "execution_count": null,
   "metadata": {},
   "outputs": [],
   "source": [
    "import os\n",
    "\n",
    "# directory for data from mega\n",
    "path = r\"D:\\Ubah Alamat\"\n",
    "\n",
    "# Put spesific name of FILE!!!\n",
    "reqname = \"REQUEST RUBAH ALAMAT UPDATE 12102020 KURIR SAP.xls\"\n",
    "alter = pd.read_excel(os.path.join(path,reqname), dtype={'Tlp1':str, 'TGL PICK UP': str, 'TGL EMAIL KE KURIR':str}, encoding = 'utf-8')\n",
    "alter.columns\n",
    "\n",
    "# alter.rename(columns = {'NO FIN ACC': 'Tlp1'}, inplace=True)\n",
    "\n",
    "\n",
    "alter['ALAMAT BARU'] = alter['ALAMAT BARU'].str.replace(r'[\\s]+', ' ')\n",
    "# alter['TGL PICK UP'] = pd.to_datetime(alter['TGL PICK UP'])\n",
    "# alter['TGL EMAIL KE KURIR'] = pd.to_datetime(alter['TGL EMAIL KE KURIR'])\n",
    "\n",
    "# merge x coresys\n",
    "alt_df = pd.merge(alter, df[['Tlp1','Alamat Penerima', 'Penerima', 'awb', 'Tanggal','Status', 'Status POD', 'Proses Terakhir', 'Tgl. Proses Terakhir']],\n",
    "                 on = 'Tlp1', how='left')\n",
    "\n",
    "alt_df = alt_df[['Tlp1','awb', 'Alamat Penerima', 'ALAMAT LAMA', 'ALAMAT BARU' , 'NAMA CH', 'Penerima', 'TGL PICK UP',\n",
    "        'Tanggal', 'Status',\n",
    "       'Status POD', 'Proses Terakhir', 'Tgl. Proses Terakhir', 'TGL EMAIL KE KURIR']]\n",
    "\n",
    "# tabrak with FX\n",
    "alt_df_fx = pd.merge(alt_df, fx[['awb', 'status']],\n",
    "                    on = 'awb', how = 'left')\n",
    "\n",
    "alt_df_fx['Tlp1'] = alt_df_fx['Tlp1'].astype(str)\n",
    "\n",
    "# save to where?\n",
    "dir_to = r'D:\\Ubah Alamat Mega'\n",
    "\n",
    "#name file result\n",
    "fname = '12102020.xlsx'\n",
    "alt_df_fx.to_excel(os.path.join(dir_to, fname))"
   ]
  },
  {
   "cell_type": "code",
   "execution_count": null,
   "metadata": {},
   "outputs": [],
   "source": [
    "df[df['awb']=='CGK8038119501846'][['awb', 'Tlp1', 'Penerima', 'Tanggal', 'No. Referensi']]"
   ]
  },
  {
   "cell_type": "code",
   "execution_count": null,
   "metadata": {},
   "outputs": [],
   "source": [
    "alt_df_fx"
   ]
  },
  {
   "cell_type": "code",
   "execution_count": null,
   "metadata": {},
   "outputs": [],
   "source": [
    "path = r'D:\\Ubah Alamat'\n",
    "file = glob.glob(os.path.join(path,\"*.xlsx\"))\n",
    "\n",
    "for target in file:\n",
    "    mega_cek = pd.concat((pd.read_excel(f) for f in file))\n",
    "\n",
    "    #name file result\n",
    "fname = 'all_082020.xlsx'\n",
    "alt_df_fx.to_excel(os.path.join(path, fname))"
   ]
  },
  {
   "cell_type": "code",
   "execution_count": null,
   "metadata": {},
   "outputs": [],
   "source": [
    "df[df['awb']=='CGK8038300705584']"
   ]
  },
  {
   "cell_type": "code",
   "execution_count": 32,
   "metadata": {
    "collapsed": true
   },
   "outputs": [
    {
     "data": {
      "text/plain": [
       "CGKN03064 - CIMB NIAGA  ( KARTU KREDIT)                                 13146\n",
       "CGK018645 - MITRA USAHA SARANA TRANSPORTASI PT (KK)                      6912\n",
       "TGR005066 - BANK PERMATA (KARTU KREDIT & KARTU DEBIT)                    6522\n",
       "CGKN04091 - BNI  ( KARTU KREDIT)                                         3652\n",
       "CGKN02395 - BANK MANDIRI ( KARTU KREDIT)                                 2061\n",
       "CGK007165 - BANK DANAMON INDONESIA (KARTU KREDIT)                        2018\n",
       "CGKN05163 - BANK MEGA KARTU KREDIT (MEGA FIRST)                          1681\n",
       "CGKN05094 - PT BCA (KK ISSUE)                                            1427\n",
       "CGKN00796 - MAYBANK  (KARTU KREDIT)                                      1179\n",
       "CGKN04622 - PANIN  ( KARTU KREDIT)                                        810\n",
       "CGKN00885 - MNC                                                           658\n",
       "CGK005338 - PT BANK BNI SYARIAH (KARTU KREDIT)                            652\n",
       "CGKN04249 - PANIN ( KIRIM ULANG )                                         360\n",
       "CGK012325 - BANK OCBC NISP TBK. PT (KARTU KREDIT)                         287\n",
       "CGK012326 - BANK OCBC NISP TBK. PT (KARTU ATM - ONLINE BANK)              228\n",
       "CGKN01964 - BANK CENTRAL ASIA                                             157\n",
       "CGKN02317 -  AEON CREDIT SERVICE IDN                                       78\n",
       "CGK015853 - MAYBANK INDONESIA (PENGANTARAN ATM KE NASABAH)                 62\n",
       "CGKN02317 - AEON CREDIT SERVICE INDONESIA ( KARTU KREDIT )                 62\n",
       "CGK012583 - STANDARD CHARTERD BANK (ATM)                                   24\n",
       "CGK001216 - BANK MAYAPADA INTERNATIONAL TBK (DIV. CCPL)                    13\n",
       "CGKN02231 - BANK SINARMAS TBK, PT                                           7\n",
       "CGK011820 - STANDARD CHARTERED BANK (KARTU KREDIT)                          3\n",
       "CGK000504 - BANK MEGA KARTU KREDIT (ONLINE APLIKASI)                        2\n",
       "CGK016133 - HOME CREDIT INDONESIA (KK - KYC)                                2\n",
       "CGKN01172 - BANK QNB INDONESIA (KARTU KREDIT)                               2\n",
       "CGK007163 - BANK DANAMON INDONESIA (KARTU ATM)                              1\n",
       "CGK012323 - BANK OCBC NISP TBK. PT (KARTU ATM & DOKUMEN-BULK)               1\n",
       "TGR007140 - BANK PERMATA (KARTU KREDIT & KARTU DEBIT CABNAG BULK/KG)        1\n",
       "Name: Pelanggan, dtype: int64"
      ]
     },
     "execution_count": 32,
     "metadata": {},
     "output_type": "execute_result"
    }
   ],
   "source": [
    "df['Pelanggan'].value_counts()"
   ]
  },
  {
   "cell_type": "code",
   "execution_count": 22,
   "metadata": {
    "scrolled": true
   },
   "outputs": [
    {
     "data": {
      "text/plain": [
       "0    41730492743110\n",
       "1    37850682082710\n",
       "2    67903501763110\n",
       "3    37879580563110\n",
       "4    12959390882710\n",
       "Name: No. Referensi, dtype: object"
      ]
     },
     "execution_count": 22,
     "metadata": {},
     "output_type": "execute_result"
    }
   ],
   "source": [
    "df['No. Referensi'].head()"
   ]
  },
  {
   "cell_type": "code",
   "execution_count": 23,
   "metadata": {},
   "outputs": [
    {
     "data": {
      "text/plain": [
       "Index(['awb', 'TLC Asal', 'No. Referensi', 'Pelanggan', 'Tanggal', 'Tujuan',\n",
       "       'TLC Tujuan', 'Tipe Transaksi', 'Service', 'Pengirim', 'Kontak',\n",
       "       'Penerima', 'Alamat Penerima', 'Tlp1', 'Tlp2', 'Kontak Penerima',\n",
       "       'Keterangan Barang', 'Nilai Barang', 'Instruksi Khusus', 'Berat',\n",
       "       'Koli', 'No Pickup', 'Cycle', 'Tgl. Proses Terakhir', 'Proses Terakhir',\n",
       "       'Status POD', 'Status', 'Diterima Oleh', 'Status Penerima',\n",
       "       'Tanggal Terima', 'Jam Terima', 'Keterangan', 'Kurir', 'Posisi Kurir',\n",
       "       'Jenis Kiriman', 'Tgl. Verifikasi', 'Tgl. Manifest Outgoing',\n",
       "       'Tgl. Incoming', 'No. Manifest Outgoing', 'No. Incoming',\n",
       "       'No. Delivery', 'Volumetric', 'Keterangan Outgoing', 'Pengiriman Ke',\n",
       "       'Waktu Verifikasi', 'Tgl. Delivery', 'Diterima Di Alamat', 'Kode Kota',\n",
       "       'Divisi', 'Kode Penerbangan', 'filter_cmi', 'filter_cmo', 'Client_sap',\n",
       "       'Today', 'Proses Akhir', 'Bulan', 'BulanInt'],\n",
       "      dtype='object')"
      ]
     },
     "execution_count": 23,
     "metadata": {},
     "output_type": "execute_result"
    }
   ],
   "source": [
    "df.columns"
   ]
  },
  {
   "cell_type": "code",
   "execution_count": 25,
   "metadata": {},
   "outputs": [
    {
     "data": {
      "text/plain": [
       "0    000908330\n",
       "1    000910976\n",
       "2    008869664\n",
       "3    000899773\n",
       "4    008936618\n",
       "Name: Tlp1, dtype: object"
      ]
     },
     "execution_count": 25,
     "metadata": {},
     "output_type": "execute_result"
    }
   ],
   "source": [
    "retoday['Tlp1'] = retoday['Tlp1'].astype('str')\n",
    "retoday['Tlp1'].head()"
   ]
  },
  {
   "cell_type": "markdown",
   "metadata": {},
   "source": [
    "# TABRAK RETURN HARI INI "
   ]
  },
  {
   "cell_type": "code",
   "execution_count": 5,
   "metadata": {
    "scrolled": true
   },
   "outputs": [
    {
     "name": "stdout",
     "output_type": "stream",
     "text": [
      "(37, 16)\n"
     ]
    },
    {
     "data": {
      "text/html": [
       "<div>\n",
       "<style scoped>\n",
       "    .dataframe tbody tr th:only-of-type {\n",
       "        vertical-align: middle;\n",
       "    }\n",
       "\n",
       "    .dataframe tbody tr th {\n",
       "        vertical-align: top;\n",
       "    }\n",
       "\n",
       "    .dataframe thead th {\n",
       "        text-align: right;\n",
       "    }\n",
       "</style>\n",
       "<table border=\"1\" class=\"dataframe\">\n",
       "  <thead>\n",
       "    <tr style=\"text-align: right;\">\n",
       "      <th></th>\n",
       "      <th>BARC_</th>\n",
       "      <th>Tanggal</th>\n",
       "      <th>Tlp1</th>\n",
       "      <th>Instruksi Khusus</th>\n",
       "      <th>Penerima</th>\n",
       "      <th>JONGOS</th>\n",
       "      <th>St_pod_Prs_Akhir</th>\n",
       "      <th>Status POD</th>\n",
       "      <th>No. Referensi</th>\n",
       "      <th>TLC Tujuan</th>\n",
       "      <th>TELEPON</th>\n",
       "      <th>Alamat Penerima</th>\n",
       "      <th>Proses Terakhir</th>\n",
       "      <th>Tgl. Proses Terakhir</th>\n",
       "      <th>Kurir</th>\n",
       "      <th>Pelanggan</th>\n",
       "    </tr>\n",
       "  </thead>\n",
       "  <tbody>\n",
       "    <tr>\n",
       "      <th>0</th>\n",
       "      <td>CGK8056267211100</td>\n",
       "      <td>2021-05-10</td>\n",
       "      <td>001311627</td>\n",
       "      <td>REN</td>\n",
       "      <td>INDRAYANI SANTOSO BAGIJO</td>\n",
       "      <td>PINDAH</td>\n",
       "      <td>UNDELIVERED:  INCOMING RETURN</td>\n",
       "      <td>UNDELIVERED</td>\n",
       "      <td>13116274240405</td>\n",
       "      <td>MLG</td>\n",
       "      <td>RUMAH KOSONG TIDAK DI HUNI</td>\n",
       "      <td>_ JL LOMPO BATANG 5 RT 004/001 KARANG BESUKI S...</td>\n",
       "      <td>INCOMING RETURN</td>\n",
       "      <td>2021-05-24 09:52:55</td>\n",
       "      <td>MLGM107173478ANANG KOMARDIANTO</td>\n",
       "      <td>CGKN05163 - BANK MEGA KARTU KREDIT (MEGA FIRST)</td>\n",
       "    </tr>\n",
       "    <tr>\n",
       "      <th>1</th>\n",
       "      <td>CGK8056243003239</td>\n",
       "      <td>2021-05-10</td>\n",
       "      <td>000784169</td>\n",
       "      <td>REN</td>\n",
       "      <td>INDIE AMAMI</td>\n",
       "      <td>PINDAH</td>\n",
       "      <td>UNDELIVERED:  INCOMING RETURN</td>\n",
       "      <td>UNDELIVERED</td>\n",
       "      <td>07841693500405</td>\n",
       "      <td>MLG</td>\n",
       "      <td>INFO DR TETANGGA</td>\n",
       "      <td>_ JL INDAH DIENG NO 22 RT 006 RW 001 KALI SONG...</td>\n",
       "      <td>INCOMING RETURN</td>\n",
       "      <td>2021-05-24 14:32:30</td>\n",
       "      <td>MLGM101184323ARIFIN</td>\n",
       "      <td>CGKN05163 - BANK MEGA KARTU KREDIT (MEGA FIRST)</td>\n",
       "    </tr>\n",
       "    <tr>\n",
       "      <th>2</th>\n",
       "      <td>CGK8056243003579</td>\n",
       "      <td>2021-05-10</td>\n",
       "      <td>001335550</td>\n",
       "      <td>REN</td>\n",
       "      <td>HASRA SAHAM</td>\n",
       "      <td>PINDAH</td>\n",
       "      <td>UNDELIVERED:  INCOMING RETURN</td>\n",
       "      <td>UNDELIVERED</td>\n",
       "      <td>13355501510405</td>\n",
       "      <td>UPG</td>\n",
       "      <td>CH SDH PINDAH ALAMAT</td>\n",
       "      <td>KANTOR CAMAT BARA JL DR SAM RATULANGI NO 15 . . .</td>\n",
       "      <td>INCOMING RETURN</td>\n",
       "      <td>2021-05-24 09:39:09</td>\n",
       "      <td>PLPT106196618ACHMAD</td>\n",
       "      <td>CGKN05163 - BANK MEGA KARTU KREDIT (MEGA FIRST)</td>\n",
       "    </tr>\n",
       "    <tr>\n",
       "      <th>3</th>\n",
       "      <td>CGK8056374213800</td>\n",
       "      <td>2021-05-11</td>\n",
       "      <td>001766294</td>\n",
       "      <td>REN</td>\n",
       "      <td>IWAN PRAMONO</td>\n",
       "      <td>NAMA TIDAK DIKENAL</td>\n",
       "      <td>UNDELIVERED:  INCOMING RETURN</td>\n",
       "      <td>UNDELIVERED</td>\n",
       "      <td>17662947140405</td>\n",
       "      <td>BDJ</td>\n",
       "      <td>DI TOLAK SEQURITY DAN TDK ADA NOTEL</td>\n",
       "      <td>BUKIT MAKMUR MANDIRI PT HAULING ADARO KM 73 . . .</td>\n",
       "      <td>INCOMING RETURN</td>\n",
       "      <td>2021-05-27 15:50:34</td>\n",
       "      <td>BDJT212209328ROLLY SETIAWAN</td>\n",
       "      <td>CGKN05163 - BANK MEGA KARTU KREDIT (MEGA FIRST)</td>\n",
       "    </tr>\n",
       "    <tr>\n",
       "      <th>4</th>\n",
       "      <td>CGK8055624305411</td>\n",
       "      <td>2021-05-03</td>\n",
       "      <td>014179042</td>\n",
       "      <td>NEW 90% BERHASIL</td>\n",
       "      <td>HENDRY ANG</td>\n",
       "      <td>PENERIMA RESIGN</td>\n",
       "      <td>UNDELIVERED:  INCOMING RETURN</td>\n",
       "      <td>UNDELIVERED</td>\n",
       "      <td>41790427163004</td>\n",
       "      <td>SRI</td>\n",
       "      <td>PENERIMA SUDAH RESIGN</td>\n",
       "      <td>ARTHA NIAGA CAKRABUANA JL BIAWAN NO 2C RT 010 _</td>\n",
       "      <td>INCOMING RETURN</td>\n",
       "      <td>2021-05-27 13:41:00</td>\n",
       "      <td>SRIM103184666SYAHRUDIN</td>\n",
       "      <td>CGKN05163 - BANK MEGA KARTU KREDIT (MEGA FIRST)</td>\n",
       "    </tr>\n",
       "    <tr>\n",
       "      <th>5</th>\n",
       "      <td>CGK8056089803300</td>\n",
       "      <td>2021-05-07</td>\n",
       "      <td>001323648</td>\n",
       "      <td>REN</td>\n",
       "      <td>IKA AULIA MAWADDAH</td>\n",
       "      <td>NAMA TIDAK DIKENAL</td>\n",
       "      <td>UNDELIVERED:  INCOMING RETURN</td>\n",
       "      <td>UNDELIVERED</td>\n",
       "      <td>13236487310405</td>\n",
       "      <td>BDJ</td>\n",
       "      <td>NAMA TIDAK DI KNL ORG SEKITAR</td>\n",
       "      <td>RADIO SUARA MANDIRI PT JORONG BUILDING LANTAI ...</td>\n",
       "      <td>INCOMING RETURN</td>\n",
       "      <td>2021-05-24 11:21:02</td>\n",
       "      <td>BDJM111201698SAHDILLAH</td>\n",
       "      <td>CGKN05163 - BANK MEGA KARTU KREDIT (MEGA FIRST)</td>\n",
       "    </tr>\n",
       "  </tbody>\n",
       "</table>\n",
       "</div>"
      ],
      "text/plain": [
       "              BARC_    Tanggal       Tlp1  Instruksi Khusus  \\\n",
       "0  CGK8056267211100 2021-05-10  001311627               REN   \n",
       "1  CGK8056243003239 2021-05-10  000784169               REN   \n",
       "2  CGK8056243003579 2021-05-10  001335550               REN   \n",
       "3  CGK8056374213800 2021-05-11  001766294               REN   \n",
       "4  CGK8055624305411 2021-05-03  014179042  NEW 90% BERHASIL   \n",
       "5  CGK8056089803300 2021-05-07  001323648               REN   \n",
       "\n",
       "                   Penerima              JONGOS  \\\n",
       "0  INDRAYANI SANTOSO BAGIJO              PINDAH   \n",
       "1               INDIE AMAMI              PINDAH   \n",
       "2               HASRA SAHAM              PINDAH   \n",
       "3              IWAN PRAMONO  NAMA TIDAK DIKENAL   \n",
       "4                HENDRY ANG     PENERIMA RESIGN   \n",
       "5        IKA AULIA MAWADDAH  NAMA TIDAK DIKENAL   \n",
       "\n",
       "                St_pod_Prs_Akhir   Status POD   No. Referensi TLC Tujuan  \\\n",
       "0  UNDELIVERED:  INCOMING RETURN  UNDELIVERED  13116274240405        MLG   \n",
       "1  UNDELIVERED:  INCOMING RETURN  UNDELIVERED  07841693500405        MLG   \n",
       "2  UNDELIVERED:  INCOMING RETURN  UNDELIVERED  13355501510405        UPG   \n",
       "3  UNDELIVERED:  INCOMING RETURN  UNDELIVERED  17662947140405        BDJ   \n",
       "4  UNDELIVERED:  INCOMING RETURN  UNDELIVERED  41790427163004        SRI   \n",
       "5  UNDELIVERED:  INCOMING RETURN  UNDELIVERED  13236487310405        BDJ   \n",
       "\n",
       "                               TELEPON  \\\n",
       "0           RUMAH KOSONG TIDAK DI HUNI   \n",
       "1                     INFO DR TETANGGA   \n",
       "2                 CH SDH PINDAH ALAMAT   \n",
       "3  DI TOLAK SEQURITY DAN TDK ADA NOTEL   \n",
       "4                PENERIMA SUDAH RESIGN   \n",
       "5        NAMA TIDAK DI KNL ORG SEKITAR   \n",
       "\n",
       "                                     Alamat Penerima  Proses Terakhir  \\\n",
       "0  _ JL LOMPO BATANG 5 RT 004/001 KARANG BESUKI S...  INCOMING RETURN   \n",
       "1  _ JL INDAH DIENG NO 22 RT 006 RW 001 KALI SONG...  INCOMING RETURN   \n",
       "2  KANTOR CAMAT BARA JL DR SAM RATULANGI NO 15 . . .  INCOMING RETURN   \n",
       "3  BUKIT MAKMUR MANDIRI PT HAULING ADARO KM 73 . . .  INCOMING RETURN   \n",
       "4    ARTHA NIAGA CAKRABUANA JL BIAWAN NO 2C RT 010 _  INCOMING RETURN   \n",
       "5  RADIO SUARA MANDIRI PT JORONG BUILDING LANTAI ...  INCOMING RETURN   \n",
       "\n",
       "  Tgl. Proses Terakhir                           Kurir  \\\n",
       "0  2021-05-24 09:52:55  MLGM107173478ANANG KOMARDIANTO   \n",
       "1  2021-05-24 14:32:30             MLGM101184323ARIFIN   \n",
       "2  2021-05-24 09:39:09             PLPT106196618ACHMAD   \n",
       "3  2021-05-27 15:50:34     BDJT212209328ROLLY SETIAWAN   \n",
       "4  2021-05-27 13:41:00          SRIM103184666SYAHRUDIN   \n",
       "5  2021-05-24 11:21:02          BDJM111201698SAHDILLAH   \n",
       "\n",
       "                                         Pelanggan  \n",
       "0  CGKN05163 - BANK MEGA KARTU KREDIT (MEGA FIRST)  \n",
       "1  CGKN05163 - BANK MEGA KARTU KREDIT (MEGA FIRST)  \n",
       "2  CGKN05163 - BANK MEGA KARTU KREDIT (MEGA FIRST)  \n",
       "3  CGKN05163 - BANK MEGA KARTU KREDIT (MEGA FIRST)  \n",
       "4  CGKN05163 - BANK MEGA KARTU KREDIT (MEGA FIRST)  \n",
       "5  CGKN05163 - BANK MEGA KARTU KREDIT (MEGA FIRST)  "
      ]
     },
     "execution_count": 5,
     "metadata": {},
     "output_type": "execute_result"
    }
   ],
   "source": [
    "from datetime import datetime\n",
    "today = pd.to_datetime('today').normalize()\n",
    "today = str(today)\n",
    "\n",
    "retoday = pd.read_excel('ret.xlsx', dtype = {'Tlp1': str})\n",
    "\n",
    "# cekret = pd.merge(retoday, df[['Tlp1', 'awb', 'Tanggal', 'Instruksi Khusus', 'Penerima', 'Status','Status POD','No. Referensi', 'TLC Tujuan', 'Keterangan', 'Alamat Penerima', 'Proses Terakhir', 'Tgl. Proses Terakhir', 'Kurir', 'Pelanggan']],\n",
    "#                  on = 'Tlp1', how='left')\n",
    "\n",
    "df['St_pod_Prs_Akhir'] = df['Status POD'] + ':  ' + df['Proses Terakhir'] \n",
    "\n",
    "cekret = pd.merge(retoday, df[[ 'awb', 'Tanggal', 'Tlp1', 'Instruksi Khusus', 'Penerima', 'Status', 'St_pod_Prs_Akhir','Status POD','No. Referensi', 'TLC Tujuan', 'Keterangan', 'Alamat Penerima', 'Proses Terakhir', 'Tgl. Proses Terakhir', 'Kurir', 'Pelanggan']],\n",
    "                 on = 'awb', how='left')\n",
    "\n",
    "\n",
    "cekret.rename(columns={'awb':'BARC_', 'Status': 'JONGOS', 'Keterangan':'TELEPON'}, inplace=True)\n",
    "\n",
    "cekret.to_excel('retxxx.xlsx')\n",
    "# cekret.to_excel('CEK INCOMING MAY.xlsx')\n",
    "print(cekret.shape)\n",
    "cekret.head(6)\n",
    "# cekret"
   ]
  },
  {
   "cell_type": "code",
   "execution_count": 24,
   "metadata": {},
   "outputs": [
    {
     "data": {
      "text/html": [
       "<div>\n",
       "<style scoped>\n",
       "    .dataframe tbody tr th:only-of-type {\n",
       "        vertical-align: middle;\n",
       "    }\n",
       "\n",
       "    .dataframe tbody tr th {\n",
       "        vertical-align: top;\n",
       "    }\n",
       "\n",
       "    .dataframe thead th {\n",
       "        text-align: right;\n",
       "    }\n",
       "</style>\n",
       "<table border=\"1\" class=\"dataframe\">\n",
       "  <thead>\n",
       "    <tr style=\"text-align: right;\">\n",
       "      <th></th>\n",
       "      <th>awb</th>\n",
       "    </tr>\n",
       "  </thead>\n",
       "  <tbody>\n",
       "  </tbody>\n",
       "</table>\n",
       "</div>"
      ],
      "text/plain": [
       "Empty DataFrame\n",
       "Columns: [awb]\n",
       "Index: []"
      ]
     },
     "execution_count": 24,
     "metadata": {},
     "output_type": "execute_result"
    }
   ],
   "source": [
    "retoday"
   ]
  },
  {
   "cell_type": "code",
   "execution_count": 8,
   "metadata": {
    "collapsed": true
   },
   "outputs": [
    {
     "data": {
      "text/plain": [
       "['CGK8047487106524',\n",
       " 'CGK8047467000246',\n",
       " 'CGK8048055706639',\n",
       " 'CGK8047487108179',\n",
       " 'CGK8047231502384',\n",
       " 'CGK8047487106246',\n",
       " 'CGK8047772700891',\n",
       " 'CGK8047487106091',\n",
       " 'CGK8047487104466',\n",
       " 'CGK8048055705655',\n",
       " 'CGK8046780110224',\n",
       " 'CGK8046780109300',\n",
       " 'CGK8047772700046',\n",
       " 'CGK8047487102584',\n",
       " 'CGK8047856700600',\n",
       " 'CGK8047487104439',\n",
       " 'CGK8047467000266',\n",
       " 'CGK8047772703000',\n",
       " 'CGK8047487105346',\n",
       " 'CGK8047487105255',\n",
       " 'CGK8047487104824',\n",
       " 'CGK8047588101279',\n",
       " 'CGK8047588100979',\n",
       " 'CGK8047487103300',\n",
       " 'CGK8047487103291',\n",
       " 'CGK8047487106566',\n",
       " 'CGK8047567100346',\n",
       " 'CGK8047487101566',\n",
       " 'CGK8047487101739',\n",
       " 'CGK8047130802439',\n",
       " 'CGK8047487102811',\n",
       " 'CGK8047033802011',\n",
       " 'CGK8047772703046',\n",
       " 'CGK8047688703539',\n",
       " 'CGK8047567100339',\n",
       " 'CGK8047567100279',\n",
       " 'CGK8047331100411',\n",
       " 'CGK8047856700239',\n",
       " 'CGK8047487102000',\n",
       " 'CGK8047666300266',\n",
       " 'CGK8047467000155',\n",
       " 'CGK8047666300124',\n",
       " 'CGK8047467000211',\n",
       " 'CGK8047231500079',\n",
       " 'CGK8047487100291',\n",
       " 'CGK8047467000239',\n",
       " 'CGK8047588100284',\n",
       " 'CGK8047311900084',\n",
       " 'CGK8048339603024',\n",
       " 'CGK8048257800084']"
      ]
     },
     "execution_count": 8,
     "metadata": {},
     "output_type": "execute_result"
    }
   ],
   "source": [
    "cekret['BARC_'].to_list()"
   ]
  },
  {
   "cell_type": "code",
   "execution_count": 28,
   "metadata": {},
   "outputs": [
    {
     "data": {
      "text/html": [
       "<div>\n",
       "<style scoped>\n",
       "    .dataframe tbody tr th:only-of-type {\n",
       "        vertical-align: middle;\n",
       "    }\n",
       "\n",
       "    .dataframe tbody tr th {\n",
       "        vertical-align: top;\n",
       "    }\n",
       "\n",
       "    .dataframe thead th {\n",
       "        text-align: right;\n",
       "    }\n",
       "</style>\n",
       "<table border=\"1\" class=\"dataframe\">\n",
       "  <thead>\n",
       "    <tr style=\"text-align: right;\">\n",
       "      <th></th>\n",
       "      <th></th>\n",
       "      <th></th>\n",
       "      <th>awb</th>\n",
       "    </tr>\n",
       "    <tr>\n",
       "      <th>TLC Tujuan</th>\n",
       "      <th>Status POD</th>\n",
       "      <th>Status</th>\n",
       "      <th></th>\n",
       "    </tr>\n",
       "  </thead>\n",
       "  <tbody>\n",
       "    <tr>\n",
       "      <th>BDJ</th>\n",
       "      <th>UNDELIVERED</th>\n",
       "      <th>RUMAH KOSONG DIHUNI</th>\n",
       "      <td>1</td>\n",
       "    </tr>\n",
       "    <tr>\n",
       "      <th>BTG</th>\n",
       "      <th>UNDELIVERED</th>\n",
       "      <th>ANTAR ULANG</th>\n",
       "      <td>1</td>\n",
       "    </tr>\n",
       "    <tr>\n",
       "      <th rowspan=\"2\" valign=\"top\">BTH</th>\n",
       "      <th rowspan=\"2\" valign=\"top\">UNDELIVERED</th>\n",
       "      <th>DITOLAK</th>\n",
       "      <td>1</td>\n",
       "    </tr>\n",
       "    <tr>\n",
       "      <th>SULIT DITEMUI</th>\n",
       "      <td>1</td>\n",
       "    </tr>\n",
       "    <tr>\n",
       "      <th>CBN</th>\n",
       "      <th>UNDELIVERED</th>\n",
       "      <th>ANTAR ULANG</th>\n",
       "      <td>1</td>\n",
       "    </tr>\n",
       "    <tr>\n",
       "      <th>CLN</th>\n",
       "      <th>UNDELIVERED</th>\n",
       "      <th>RUMAH KOSONG DIHUNI</th>\n",
       "      <td>1</td>\n",
       "    </tr>\n",
       "    <tr>\n",
       "      <th>DJB</th>\n",
       "      <th>UNDELIVERED</th>\n",
       "      <th>PINDAH</th>\n",
       "      <td>1</td>\n",
       "    </tr>\n",
       "    <tr>\n",
       "      <th>DPS</th>\n",
       "      <th>UNDELIVERED</th>\n",
       "      <th>SULIT DITEMUI</th>\n",
       "      <td>1</td>\n",
       "    </tr>\n",
       "    <tr>\n",
       "      <th>GRS</th>\n",
       "      <th>UNDELIVERED</th>\n",
       "      <th>ANTAR ULANG</th>\n",
       "      <td>1</td>\n",
       "    </tr>\n",
       "    <tr>\n",
       "      <th>JKB</th>\n",
       "      <th>UNDELIVERED</th>\n",
       "      <th>SULIT DITEMUI</th>\n",
       "      <td>1</td>\n",
       "    </tr>\n",
       "    <tr>\n",
       "      <th>KDR</th>\n",
       "      <th>UNDELIVERED</th>\n",
       "      <th>ANTAR ULANG</th>\n",
       "      <td>1</td>\n",
       "    </tr>\n",
       "    <tr>\n",
       "      <th>KNO</th>\n",
       "      <th>UNDELIVERED</th>\n",
       "      <th>SULIT DITEMUI</th>\n",
       "      <td>2</td>\n",
       "    </tr>\n",
       "    <tr>\n",
       "      <th>KRW</th>\n",
       "      <th>UNDELIVERED</th>\n",
       "      <th>DITOLAK</th>\n",
       "      <td>1</td>\n",
       "    </tr>\n",
       "    <tr>\n",
       "      <th rowspan=\"2\" valign=\"top\">MLG</th>\n",
       "      <th rowspan=\"2\" valign=\"top\">UNDELIVERED</th>\n",
       "      <th>ALAMAT TIDAK DIKETAHUI</th>\n",
       "      <td>1</td>\n",
       "    </tr>\n",
       "    <tr>\n",
       "      <th>SULIT DITEMUI</th>\n",
       "      <td>2</td>\n",
       "    </tr>\n",
       "    <tr>\n",
       "      <th>PKU</th>\n",
       "      <th>UNDELIVERED</th>\n",
       "      <th>ANTAR ULANG</th>\n",
       "      <td>2</td>\n",
       "    </tr>\n",
       "    <tr>\n",
       "      <th>PLW</th>\n",
       "      <th>UNDELIVERED</th>\n",
       "      <th>NAMA TIDAK DIKENAL</th>\n",
       "      <td>1</td>\n",
       "    </tr>\n",
       "    <tr>\n",
       "      <th>PWO</th>\n",
       "      <th>UNDELIVERED</th>\n",
       "      <th>ALAMAT TIDAK DIKETAHUI</th>\n",
       "      <td>1</td>\n",
       "    </tr>\n",
       "    <tr>\n",
       "      <th>SMI</th>\n",
       "      <th>UNDELIVERED</th>\n",
       "      <th>ANTAR ULANG</th>\n",
       "      <td>1</td>\n",
       "    </tr>\n",
       "    <tr>\n",
       "      <th>SOC</th>\n",
       "      <th>UNDELIVERED</th>\n",
       "      <th>ANTAR ULANG</th>\n",
       "      <td>1</td>\n",
       "    </tr>\n",
       "    <tr>\n",
       "      <th rowspan=\"5\" valign=\"top\">SUB</th>\n",
       "      <th rowspan=\"5\" valign=\"top\">UNDELIVERED</th>\n",
       "      <th>ANTAR ULANG</th>\n",
       "      <td>3</td>\n",
       "    </tr>\n",
       "    <tr>\n",
       "      <th>DITOLAK</th>\n",
       "      <td>1</td>\n",
       "    </tr>\n",
       "    <tr>\n",
       "      <th>MISSROUTE</th>\n",
       "      <td>1</td>\n",
       "    </tr>\n",
       "    <tr>\n",
       "      <th>RUMAH KOSONG DIHUNI</th>\n",
       "      <td>1</td>\n",
       "    </tr>\n",
       "    <tr>\n",
       "      <th>SULIT DITEMUI</th>\n",
       "      <td>4</td>\n",
       "    </tr>\n",
       "    <tr>\n",
       "      <th>TGR</th>\n",
       "      <th>UNDELIVERED</th>\n",
       "      <th>SULIT DITEMUI</th>\n",
       "      <td>1</td>\n",
       "    </tr>\n",
       "    <tr>\n",
       "      <th>TKG</th>\n",
       "      <th>UNDELIVERED</th>\n",
       "      <th>RUMAH KOSONG TIDAK DIHUNI</th>\n",
       "      <td>1</td>\n",
       "    </tr>\n",
       "    <tr>\n",
       "      <th>UPG</th>\n",
       "      <th>UNDELIVERED</th>\n",
       "      <th>ANTAR ULANG</th>\n",
       "      <td>1</td>\n",
       "    </tr>\n",
       "  </tbody>\n",
       "</table>\n",
       "</div>"
      ],
      "text/plain": [
       "                                                  awb\n",
       "TLC Tujuan Status POD  Status                        \n",
       "BDJ        UNDELIVERED RUMAH KOSONG DIHUNI          1\n",
       "BTG        UNDELIVERED ANTAR ULANG                  1\n",
       "BTH        UNDELIVERED DITOLAK                      1\n",
       "                       SULIT DITEMUI                1\n",
       "CBN        UNDELIVERED ANTAR ULANG                  1\n",
       "CLN        UNDELIVERED RUMAH KOSONG DIHUNI          1\n",
       "DJB        UNDELIVERED PINDAH                       1\n",
       "DPS        UNDELIVERED SULIT DITEMUI                1\n",
       "GRS        UNDELIVERED ANTAR ULANG                  1\n",
       "JKB        UNDELIVERED SULIT DITEMUI                1\n",
       "KDR        UNDELIVERED ANTAR ULANG                  1\n",
       "KNO        UNDELIVERED SULIT DITEMUI                2\n",
       "KRW        UNDELIVERED DITOLAK                      1\n",
       "MLG        UNDELIVERED ALAMAT TIDAK DIKETAHUI       1\n",
       "                       SULIT DITEMUI                2\n",
       "PKU        UNDELIVERED ANTAR ULANG                  2\n",
       "PLW        UNDELIVERED NAMA TIDAK DIKENAL           1\n",
       "PWO        UNDELIVERED ALAMAT TIDAK DIKETAHUI       1\n",
       "SMI        UNDELIVERED ANTAR ULANG                  1\n",
       "SOC        UNDELIVERED ANTAR ULANG                  1\n",
       "SUB        UNDELIVERED ANTAR ULANG                  3\n",
       "                       DITOLAK                      1\n",
       "                       MISSROUTE                    1\n",
       "                       RUMAH KOSONG DIHUNI          1\n",
       "                       SULIT DITEMUI                4\n",
       "TGR        UNDELIVERED SULIT DITEMUI                1\n",
       "TKG        UNDELIVERED RUMAH KOSONG TIDAK DIHUNI    1\n",
       "UPG        UNDELIVERED ANTAR ULANG                  1"
      ]
     },
     "execution_count": 28,
     "metadata": {},
     "output_type": "execute_result"
    }
   ],
   "source": [
    "cekret[cekret['Status POD'] == 'UNDELIVERED'].groupby(['TLC Tujuan', 'Status POD', 'Status'])[['awb']].count()"
   ]
  },
  {
   "cell_type": "code",
   "execution_count": null,
   "metadata": {},
   "outputs": [],
   "source": []
  },
  {
   "cell_type": "code",
   "execution_count": null,
   "metadata": {},
   "outputs": [],
   "source": [
    "cek = df[(df['Tanggal']== pd.Timestamp(2020,9,14))]\n",
    "cek.to_excel('14 MORE.xlsx')\n"
   ]
  },
  {
   "cell_type": "code",
   "execution_count": null,
   "metadata": {},
   "outputs": [],
   "source": [
    "df['Tanggal'].value_counts()"
   ]
  },
  {
   "cell_type": "code",
   "execution_count": null,
   "metadata": {},
   "outputs": [],
   "source": [
    "things = ['apples', 'baboons', 'cribs', 'dulcimers']\n",
    "\n",
    "for i in things:\n",
    "    print('nice %s' % i)"
   ]
  },
  {
   "cell_type": "markdown",
   "metadata": {},
   "source": [
    "# INDIKASI RET"
   ]
  },
  {
   "cell_type": "code",
   "execution_count": 14,
   "metadata": {
    "scrolled": true
   },
   "outputs": [
    {
     "name": "stdout",
     "output_type": "stream",
     "text": [
      "(134, 9)\n"
     ]
    },
    {
     "data": {
      "text/html": [
       "<div>\n",
       "<style scoped>\n",
       "    .dataframe tbody tr th:only-of-type {\n",
       "        vertical-align: middle;\n",
       "    }\n",
       "\n",
       "    .dataframe tbody tr th {\n",
       "        vertical-align: top;\n",
       "    }\n",
       "\n",
       "    .dataframe thead th {\n",
       "        text-align: right;\n",
       "    }\n",
       "</style>\n",
       "<table border=\"1\" class=\"dataframe\">\n",
       "  <thead>\n",
       "    <tr style=\"text-align: right;\">\n",
       "      <th></th>\n",
       "      <th>No. Referensi</th>\n",
       "      <th>awb</th>\n",
       "      <th>Tanggal</th>\n",
       "      <th>Bulan</th>\n",
       "      <th>TLC Tujuan</th>\n",
       "      <th>Penerima</th>\n",
       "      <th>Status</th>\n",
       "      <th>Keterangan</th>\n",
       "      <th>status</th>\n",
       "    </tr>\n",
       "  </thead>\n",
       "  <tbody>\n",
       "    <tr>\n",
       "      <th>0</th>\n",
       "      <td>202001080000575I3603</td>\n",
       "      <td>CGK8041439700139</td>\n",
       "      <td>2020-11-02</td>\n",
       "      <td>November</td>\n",
       "      <td>SUB</td>\n",
       "      <td>FERLY (SFC2N1)</td>\n",
       "      <td>PINDAH</td>\n",
       "      <td>GUDANG BUKAN PT TUNAS HARAPAN JAYA</td>\n",
       "      <td>null</td>\n",
       "    </tr>\n",
       "    <tr>\n",
       "      <th>1</th>\n",
       "      <td>202001080000648I3603</td>\n",
       "      <td>CGK8041439700324</td>\n",
       "      <td>2020-11-02</td>\n",
       "      <td>November</td>\n",
       "      <td>KNO</td>\n",
       "      <td>RUSLIATI RUSLI (KKSSFC2N1)</td>\n",
       "      <td>SULIT DITEMUI</td>\n",
       "      <td>ALAMAT TIDAK LENGKAP TIDAK ADA NOMOR RUMAH</td>\n",
       "      <td>null</td>\n",
       "    </tr>\n",
       "    <tr>\n",
       "      <th>2</th>\n",
       "      <td>202001080000703I3604</td>\n",
       "      <td>CGK8041439700479</td>\n",
       "      <td>2020-11-02</td>\n",
       "      <td>November</td>\n",
       "      <td>KNO</td>\n",
       "      <td>TJIK JIAN SUGUANTO (KKSSFC2N1)</td>\n",
       "      <td>NAMA TIDAK DIKENAL</td>\n",
       "      <td>SECURITY TIDAK TAU NAMA CH</td>\n",
       "      <td>null</td>\n",
       "    </tr>\n",
       "  </tbody>\n",
       "</table>\n",
       "</div>"
      ],
      "text/plain": [
       "          No. Referensi               awb    Tanggal     Bulan TLC Tujuan  \\\n",
       "0  202001080000575I3603  CGK8041439700139 2020-11-02  November        SUB   \n",
       "1  202001080000648I3603  CGK8041439700324 2020-11-02  November        KNO   \n",
       "2  202001080000703I3604  CGK8041439700479 2020-11-02  November        KNO   \n",
       "\n",
       "                         Penerima              Status  \\\n",
       "0                  FERLY (SFC2N1)              PINDAH   \n",
       "1      RUSLIATI RUSLI (KKSSFC2N1)       SULIT DITEMUI   \n",
       "2  TJIK JIAN SUGUANTO (KKSSFC2N1)  NAMA TIDAK DIKENAL   \n",
       "\n",
       "                                   Keterangan status  \n",
       "0          GUDANG BUKAN PT TUNAS HARAPAN JAYA   null  \n",
       "1  ALAMAT TIDAK LENGKAP TIDAK ADA NOMOR RUMAH   null  \n",
       "2                  SECURITY TIDAK TAU NAMA CH   null  "
      ]
     },
     "execution_count": 14,
     "metadata": {},
     "output_type": "execute_result"
    }
   ],
   "source": [
    "retoday = pd.read_excel('ret.xlsx')\n",
    "cekret = pd.merge(retoday, df[['No. Referensi', 'awb','Tanggal','Bulan', 'TLC Tujuan', 'Penerima', 'Status', 'Keterangan']],\n",
    "                 on = 'awb', how='left')\n",
    "\n",
    "\n",
    "tes = pd.merge(fx[['awb', 'status', 'nama', 'noresi', 'tgl_pkp', 'telepon3','ALAMAT 2']], cekret[['No. Referensi', 'awb','Tanggal','Bulan','TLC Tujuan', 'Penerima', 'Status', 'Keterangan']], \n",
    "              on = 'awb', how='inner')\n",
    "tes = tes[['No. Referensi', 'awb','Tanggal','Bulan','TLC Tujuan', 'Penerima', 'Status', 'Keterangan','status']]\n",
    "tes.to_excel(' KU November.xlsx')\n",
    "print(tes.shape)\n",
    "tes.head(3)"
   ]
  },
  {
   "cell_type": "code",
   "execution_count": null,
   "metadata": {},
   "outputs": [],
   "source": [
    "df[df['awb']=='CGK8038095800166']['Penerima']"
   ]
  },
  {
   "cell_type": "code",
   "execution_count": null,
   "metadata": {},
   "outputs": [],
   "source": [
    "cekret.shape"
   ]
  },
  {
   "cell_type": "code",
   "execution_count": null,
   "metadata": {},
   "outputs": [],
   "source": [
    "# tabrak fox pro\n",
    "\n",
    "cekretfx = pd.merge(cekret, fx[['awb', 'status', 'tgl_trm']],\n",
    "                 on = 'awb', how='left')\n",
    "cekretfx.to_excel('retxx.xlsx')"
   ]
  },
  {
   "cell_type": "code",
   "execution_count": null,
   "metadata": {},
   "outputs": [],
   "source": [
    "retoday = pd.read_excel('ret.xls')\n",
    "cekret = pd.merge(fx[['awb', 'status']], retoday[['awb']],\n",
    "                 on = 'awb', how='right')\n",
    "cekret.to_excel('RET.xlsx')"
   ]
  },
  {
   "cell_type": "code",
   "execution_count": null,
   "metadata": {},
   "outputs": [],
   "source": [
    "+==================================================="
   ]
  },
  {
   "cell_type": "code",
   "execution_count": null,
   "metadata": {},
   "outputs": [],
   "source": [
    "df_juni = df[(df['Tanggal']>=pd.Timestamp(2020,6,2)) & (df['Tanggal']<=pd.Timestamp(2020,6,30))]\n",
    "df_juni.shape"
   ]
  },
  {
   "cell_type": "code",
   "execution_count": null,
   "metadata": {},
   "outputs": [],
   "source": [
    "df_juli = df[df['Tanggal']>pd.Timestamp(2020,6,30)]\n",
    "df_juli.shape"
   ]
  },
  {
   "cell_type": "code",
   "execution_count": null,
   "metadata": {},
   "outputs": [],
   "source": [
    "path=r'C:\\pyl\\compile_juni_juli.xlsx'"
   ]
  },
  {
   "cell_type": "code",
   "execution_count": null,
   "metadata": {
    "scrolled": true
   },
   "outputs": [],
   "source": [
    "path=r'C:\\pyl\\compile_juni_juli.xlsx'\n",
    "writer = pd.ExcelWriter(path, engine= 'xlsxwriter')\n",
    "\n",
    "df_juli.to_excel(writer, sheet_name='juli')\n",
    "df_juni.to_excel(writer, sheet_name='juni')\n",
    "writer.save()\n",
    "writer.close()"
   ]
  },
  {
   "cell_type": "code",
   "execution_count": null,
   "metadata": {},
   "outputs": [],
   "source": [
    "==========================================================\n",
    "==========================================================\n"
   ]
  },
  {
   "cell_type": "code",
   "execution_count": null,
   "metadata": {},
   "outputs": [],
   "source": [
    "def client0(cek):\n",
    "    return cek.split(\" \")[-3]\n",
    "\n",
    "x = df['Pelanggan'].apply(lambda x: client0(x))\n",
    "x.unique()"
   ]
  },
  {
   "cell_type": "code",
   "execution_count": null,
   "metadata": {},
   "outputs": [],
   "source": [
    "x = df[['awb', 'Pelanggan', 'Status POD']]\n",
    "\n",
    "with pd.ExcelWriter('tes.xlsx') as writer:\n",
    "    for client, data in x.groupby('Pelanggan'):\n",
    "        data.to_excel(writer, sheet_name=client)"
   ]
  },
  {
   "cell_type": "code",
   "execution_count": null,
   "metadata": {},
   "outputs": [],
   "source": [
    "==========================================================\n",
    "=========================================================="
   ]
  },
  {
   "cell_type": "code",
   "execution_count": null,
   "metadata": {},
   "outputs": [],
   "source": []
  },
  {
   "cell_type": "markdown",
   "metadata": {},
   "source": [
    "# CEK INCOMING gantung==========="
   ]
  },
  {
   "cell_type": "code",
   "execution_count": null,
   "metadata": {},
   "outputs": [],
   "source": [
    "df.columns.to_list()"
   ]
  },
  {
   "cell_type": "code",
   "execution_count": 8,
   "metadata": {
    "collapsed": true
   },
   "outputs": [
    {
     "data": {
      "text/html": [
       "<div>\n",
       "<style scoped>\n",
       "    .dataframe tbody tr th:only-of-type {\n",
       "        vertical-align: middle;\n",
       "    }\n",
       "\n",
       "    .dataframe tbody tr th {\n",
       "        vertical-align: top;\n",
       "    }\n",
       "\n",
       "    .dataframe thead th {\n",
       "        text-align: right;\n",
       "    }\n",
       "</style>\n",
       "<table border=\"1\" class=\"dataframe\">\n",
       "  <thead>\n",
       "    <tr style=\"text-align: right;\">\n",
       "      <th></th>\n",
       "      <th></th>\n",
       "      <th></th>\n",
       "      <th>awb</th>\n",
       "    </tr>\n",
       "    <tr>\n",
       "      <th>Pelanggan</th>\n",
       "      <th>No. Incoming</th>\n",
       "      <th>Tgl. Proses Terakhir</th>\n",
       "      <th></th>\n",
       "    </tr>\n",
       "  </thead>\n",
       "  <tbody>\n",
       "    <tr>\n",
       "      <th>BANK MEGA KARTU KREDIT (MEGA FIRST) - MEDAN</th>\n",
       "      <th>CMICGK0001570932</th>\n",
       "      <th>2021-02-03 16:46:26</th>\n",
       "      <td>1</td>\n",
       "    </tr>\n",
       "    <tr>\n",
       "      <th rowspan=\"3\" valign=\"top\">CGK000504 - BANK MEGA KARTU KREDIT (ONLINE APLIKASI)</th>\n",
       "      <th>CMICGK0001556352</th>\n",
       "      <th>2021-01-28 16:01:06</th>\n",
       "      <td>1</td>\n",
       "    </tr>\n",
       "    <tr>\n",
       "      <th>CMICGK0001567022</th>\n",
       "      <th>2021-02-02 15:14:35</th>\n",
       "      <td>1</td>\n",
       "    </tr>\n",
       "    <tr>\n",
       "      <th>CMICGK0001570789</th>\n",
       "      <th>2021-02-04 15:29:55</th>\n",
       "      <td>1</td>\n",
       "    </tr>\n",
       "    <tr>\n",
       "      <th rowspan=\"44\" valign=\"top\">CGKN05163 - BANK MEGA KARTU KREDIT (MEGA FIRST)</th>\n",
       "      <th>CMICGK0001463646</th>\n",
       "      <th>2020-12-14 10:19:54</th>\n",
       "      <td>1</td>\n",
       "    </tr>\n",
       "    <tr>\n",
       "      <th>CMICGK0001474356</th>\n",
       "      <th>2020-12-17 14:39:22</th>\n",
       "      <td>1</td>\n",
       "    </tr>\n",
       "    <tr>\n",
       "      <th>CMICGK0001474411</th>\n",
       "      <th>2020-12-17 14:39:22</th>\n",
       "      <td>1</td>\n",
       "    </tr>\n",
       "    <tr>\n",
       "      <th>CMICGK0001479144</th>\n",
       "      <th>2020-12-21 10:33:35</th>\n",
       "      <td>4</td>\n",
       "    </tr>\n",
       "    <tr>\n",
       "      <th>CMICGK0001484617</th>\n",
       "      <th>2020-12-22 14:51:00</th>\n",
       "      <td>1</td>\n",
       "    </tr>\n",
       "    <tr>\n",
       "      <th>CMICGK0001488843</th>\n",
       "      <th>2020-12-26 13:35:38</th>\n",
       "      <td>1</td>\n",
       "    </tr>\n",
       "    <tr>\n",
       "      <th>CMICGK0001498568</th>\n",
       "      <th>2020-12-30 18:20:17</th>\n",
       "      <td>4</td>\n",
       "    </tr>\n",
       "    <tr>\n",
       "      <th rowspan=\"2\" valign=\"top\">CMICGK0001500731</th>\n",
       "      <th>2020-12-31 14:57:01</th>\n",
       "      <td>1</td>\n",
       "    </tr>\n",
       "    <tr>\n",
       "      <th>2021-01-04 12:04:27</th>\n",
       "      <td>1</td>\n",
       "    </tr>\n",
       "    <tr>\n",
       "      <th>CMICGK0001502757</th>\n",
       "      <th>2021-01-04 12:04:27</th>\n",
       "      <td>1</td>\n",
       "    </tr>\n",
       "    <tr>\n",
       "      <th rowspan=\"2\" valign=\"top\">CMICGK0001509160</th>\n",
       "      <th>2021-01-06 13:53:02</th>\n",
       "      <td>1</td>\n",
       "    </tr>\n",
       "    <tr>\n",
       "      <th>2021-01-07 16:09:43</th>\n",
       "      <td>2</td>\n",
       "    </tr>\n",
       "    <tr>\n",
       "      <th>CMICGK0001513921</th>\n",
       "      <th>2021-01-12 14:39:59</th>\n",
       "      <td>1</td>\n",
       "    </tr>\n",
       "    <tr>\n",
       "      <th>CMICGK0001516263</th>\n",
       "      <th>2021-01-12 14:39:59</th>\n",
       "      <td>2</td>\n",
       "    </tr>\n",
       "    <tr>\n",
       "      <th>CMICGK0001516421</th>\n",
       "      <th>2021-01-11 10:27:59</th>\n",
       "      <td>1</td>\n",
       "    </tr>\n",
       "    <tr>\n",
       "      <th>CMICGK0001525982</th>\n",
       "      <th>2021-01-15 15:24:30</th>\n",
       "      <td>2</td>\n",
       "    </tr>\n",
       "    <tr>\n",
       "      <th>CMICGK0001525983</th>\n",
       "      <th>2021-01-15 15:24:30</th>\n",
       "      <td>1</td>\n",
       "    </tr>\n",
       "    <tr>\n",
       "      <th>CMICGK0001538457</th>\n",
       "      <th>2021-01-20 16:15:38</th>\n",
       "      <td>1</td>\n",
       "    </tr>\n",
       "    <tr>\n",
       "      <th>CMICGK0001541048</th>\n",
       "      <th>2021-01-23 14:42:31</th>\n",
       "      <td>1</td>\n",
       "    </tr>\n",
       "    <tr>\n",
       "      <th rowspan=\"2\" valign=\"top\">CMICGK0001551646</th>\n",
       "      <th>2021-01-27 01:52:07</th>\n",
       "      <td>1</td>\n",
       "    </tr>\n",
       "    <tr>\n",
       "      <th>2021-01-27 16:15:30</th>\n",
       "      <td>1</td>\n",
       "    </tr>\n",
       "    <tr>\n",
       "      <th>CMICGK0001554040</th>\n",
       "      <th>2021-01-27 16:15:30</th>\n",
       "      <td>1</td>\n",
       "    </tr>\n",
       "    <tr>\n",
       "      <th>CMICGK0001556352</th>\n",
       "      <th>2021-01-28 16:01:06</th>\n",
       "      <td>1</td>\n",
       "    </tr>\n",
       "    <tr>\n",
       "      <th>CMICGK0001556508</th>\n",
       "      <th>2021-01-29 15:58:00</th>\n",
       "      <td>1</td>\n",
       "    </tr>\n",
       "    <tr>\n",
       "      <th>CMICGK0001559056</th>\n",
       "      <th>2021-02-02 15:14:35</th>\n",
       "      <td>1</td>\n",
       "    </tr>\n",
       "    <tr>\n",
       "      <th>CMICGK0001561402</th>\n",
       "      <th>2021-01-30 15:54:32</th>\n",
       "      <td>1</td>\n",
       "    </tr>\n",
       "    <tr>\n",
       "      <th>CMICGK0001566783</th>\n",
       "      <th>2021-02-02 15:14:35</th>\n",
       "      <td>1</td>\n",
       "    </tr>\n",
       "    <tr>\n",
       "      <th>CMICGK0001567022</th>\n",
       "      <th>2021-02-02 15:14:35</th>\n",
       "      <td>3</td>\n",
       "    </tr>\n",
       "    <tr>\n",
       "      <th>CMICGK0001570789</th>\n",
       "      <th>2021-02-04 15:29:55</th>\n",
       "      <td>2</td>\n",
       "    </tr>\n",
       "    <tr>\n",
       "      <th>CMICGK0001575523</th>\n",
       "      <th>2021-02-06 14:30:09</th>\n",
       "      <td>1</td>\n",
       "    </tr>\n",
       "    <tr>\n",
       "      <th>CMICGK0001580807</th>\n",
       "      <th>2021-02-09 16:37:03</th>\n",
       "      <td>1</td>\n",
       "    </tr>\n",
       "    <tr>\n",
       "      <th rowspan=\"2\" valign=\"top\">CMICGK0001587610</th>\n",
       "      <th>2021-02-13 15:15:48</th>\n",
       "      <td>2</td>\n",
       "    </tr>\n",
       "    <tr>\n",
       "      <th>2021-02-15 15:16:09</th>\n",
       "      <td>1</td>\n",
       "    </tr>\n",
       "    <tr>\n",
       "      <th>CMICGK0001587929</th>\n",
       "      <th>2021-02-15 09:15:03</th>\n",
       "      <td>1</td>\n",
       "    </tr>\n",
       "    <tr>\n",
       "      <th>CMICGK0001587977</th>\n",
       "      <th>2021-02-16 13:58:25</th>\n",
       "      <td>1</td>\n",
       "    </tr>\n",
       "    <tr>\n",
       "      <th>CMICGK0001593866</th>\n",
       "      <th>2021-02-16 01:58:39</th>\n",
       "      <td>1</td>\n",
       "    </tr>\n",
       "    <tr>\n",
       "      <th>CMICGK0001594175</th>\n",
       "      <th>2021-02-15 14:31:24</th>\n",
       "      <td>1</td>\n",
       "    </tr>\n",
       "    <tr>\n",
       "      <th>CMICGK0001594290</th>\n",
       "      <th>2021-02-16 01:58:38</th>\n",
       "      <td>1</td>\n",
       "    </tr>\n",
       "    <tr>\n",
       "      <th rowspan=\"2\" valign=\"top\">CMICGK0001594343</th>\n",
       "      <th>2021-02-16 01:58:38</th>\n",
       "      <td>1</td>\n",
       "    </tr>\n",
       "    <tr>\n",
       "      <th>2021-02-16 01:58:39</th>\n",
       "      <td>2</td>\n",
       "    </tr>\n",
       "    <tr>\n",
       "      <th>CMICGK0001594963</th>\n",
       "      <th>2021-02-16 03:01:19</th>\n",
       "      <td>1</td>\n",
       "    </tr>\n",
       "    <tr>\n",
       "      <th>CMICGK0001596076</th>\n",
       "      <th>2021-02-16 12:07:30</th>\n",
       "      <td>1</td>\n",
       "    </tr>\n",
       "    <tr>\n",
       "      <th>CMICGK0001596193</th>\n",
       "      <th>2021-02-16 13:41:37</th>\n",
       "      <td>1</td>\n",
       "    </tr>\n",
       "    <tr>\n",
       "      <th>CMICGK0001596223</th>\n",
       "      <th>2021-02-16 13:55:06</th>\n",
       "      <td>2</td>\n",
       "    </tr>\n",
       "  </tbody>\n",
       "</table>\n",
       "</div>"
      ],
      "text/plain": [
       "                                                                                          awb\n",
       "Pelanggan                                          No. Incoming     Tgl. Proses Terakhir     \n",
       "BANK MEGA KARTU KREDIT (MEGA FIRST) - MEDAN        CMICGK0001570932 2021-02-03 16:46:26     1\n",
       "CGK000504 - BANK MEGA KARTU KREDIT (ONLINE APLI... CMICGK0001556352 2021-01-28 16:01:06     1\n",
       "                                                   CMICGK0001567022 2021-02-02 15:14:35     1\n",
       "                                                   CMICGK0001570789 2021-02-04 15:29:55     1\n",
       "CGKN05163 - BANK MEGA KARTU KREDIT (MEGA FIRST)    CMICGK0001463646 2020-12-14 10:19:54     1\n",
       "                                                   CMICGK0001474356 2020-12-17 14:39:22     1\n",
       "                                                   CMICGK0001474411 2020-12-17 14:39:22     1\n",
       "                                                   CMICGK0001479144 2020-12-21 10:33:35     4\n",
       "                                                   CMICGK0001484617 2020-12-22 14:51:00     1\n",
       "                                                   CMICGK0001488843 2020-12-26 13:35:38     1\n",
       "                                                   CMICGK0001498568 2020-12-30 18:20:17     4\n",
       "                                                   CMICGK0001500731 2020-12-31 14:57:01     1\n",
       "                                                                    2021-01-04 12:04:27     1\n",
       "                                                   CMICGK0001502757 2021-01-04 12:04:27     1\n",
       "                                                   CMICGK0001509160 2021-01-06 13:53:02     1\n",
       "                                                                    2021-01-07 16:09:43     2\n",
       "                                                   CMICGK0001513921 2021-01-12 14:39:59     1\n",
       "                                                   CMICGK0001516263 2021-01-12 14:39:59     2\n",
       "                                                   CMICGK0001516421 2021-01-11 10:27:59     1\n",
       "                                                   CMICGK0001525982 2021-01-15 15:24:30     2\n",
       "                                                   CMICGK0001525983 2021-01-15 15:24:30     1\n",
       "                                                   CMICGK0001538457 2021-01-20 16:15:38     1\n",
       "                                                   CMICGK0001541048 2021-01-23 14:42:31     1\n",
       "                                                   CMICGK0001551646 2021-01-27 01:52:07     1\n",
       "                                                                    2021-01-27 16:15:30     1\n",
       "                                                   CMICGK0001554040 2021-01-27 16:15:30     1\n",
       "                                                   CMICGK0001556352 2021-01-28 16:01:06     1\n",
       "                                                   CMICGK0001556508 2021-01-29 15:58:00     1\n",
       "                                                   CMICGK0001559056 2021-02-02 15:14:35     1\n",
       "                                                   CMICGK0001561402 2021-01-30 15:54:32     1\n",
       "                                                   CMICGK0001566783 2021-02-02 15:14:35     1\n",
       "                                                   CMICGK0001567022 2021-02-02 15:14:35     3\n",
       "                                                   CMICGK0001570789 2021-02-04 15:29:55     2\n",
       "                                                   CMICGK0001575523 2021-02-06 14:30:09     1\n",
       "                                                   CMICGK0001580807 2021-02-09 16:37:03     1\n",
       "                                                   CMICGK0001587610 2021-02-13 15:15:48     2\n",
       "                                                                    2021-02-15 15:16:09     1\n",
       "                                                   CMICGK0001587929 2021-02-15 09:15:03     1\n",
       "                                                   CMICGK0001587977 2021-02-16 13:58:25     1\n",
       "                                                   CMICGK0001593866 2021-02-16 01:58:39     1\n",
       "                                                   CMICGK0001594175 2021-02-15 14:31:24     1\n",
       "                                                   CMICGK0001594290 2021-02-16 01:58:38     1\n",
       "                                                   CMICGK0001594343 2021-02-16 01:58:38     1\n",
       "                                                                    2021-02-16 01:58:39     2\n",
       "                                                   CMICGK0001594963 2021-02-16 03:01:19     1\n",
       "                                                   CMICGK0001596076 2021-02-16 12:07:30     1\n",
       "                                                   CMICGK0001596193 2021-02-16 13:41:37     1\n",
       "                                                   CMICGK0001596223 2021-02-16 13:55:06     2"
      ]
     },
     "execution_count": 8,
     "metadata": {},
     "output_type": "execute_result"
    }
   ],
   "source": [
    "# inco = ['INCOMING']\n",
    "# pa = ['INCOMING RETURN']\n",
    "cmi = ['CMICGK']\n",
    "# cmo = ['CMOCGK']\n",
    "\n",
    "\n",
    "inco_pusat = df[df['filter_cmi'].isin(cmi)]\n",
    "\n",
    "# df['Proses Terakhir'].isin(pa)\n",
    "#~df['filter_cmo'].isin(cmo)\n",
    "\n",
    "# filter CMICGK with regex\n",
    "\n",
    "\n",
    "# inco_pusat.to_excel('cek_incoming_gantung_filter.xlsx')\n",
    "\n",
    "inco_pusat[['awb','TLC Tujuan', 'Pelanggan', 'No. Referensi', \n",
    "           'Service', 'Instruksi Khusus', 'Proses Terakhir',\n",
    "       'Status POD', 'Status', 'Diterima Oleh', 'Status Penerima',\n",
    "       'Tanggal Terima', 'Tgl. Proses Terakhir', 'Jam Terima', 'Keterangan',  'Tgl. Manifest Outgoing',\n",
    "       'Tgl. Incoming', 'No. Manifest Outgoing', 'No. Incoming']].to_excel('cek_incoming_gantung_filterlass.xlsx')\n",
    "\n",
    "inco_pusat.groupby(['Pelanggan', 'No. Incoming', 'Tgl. Proses Terakhir'])[['awb']].count()\n"
   ]
  },
  {
   "cell_type": "code",
   "execution_count": null,
   "metadata": {},
   "outputs": [],
   "source": [
    "inco_pusat.colum"
   ]
  },
  {
   "cell_type": "markdown",
   "metadata": {},
   "source": [
    "# DATE TIME\n",
    "\n",
    "TO DATE\n",
    "\n",
    "*note : \\\n",
    "df['date'].dt.year    => to extract year\\\n",
    "df['date'].dt.month   => to month\\\n",
    "df['date'].dt.day \\\n",
    "\\\n",
    "from datetime import datetime\\\n",
    "df['date'].dt.strftime('%m') = month\\\n",
    "\\\n",
    "df_juni = df[(df['Tanggal']>=pd.Timestamp(2020,6,2)) & (df['Tanggal']<=pd.Timestamp(2020,6,30))]\n",
    "df_juni.shape\n",
    "\\\n",
    "https://www.programiz.com/python-programming/datetime/strftime"
   ]
  },
  {
   "cell_type": "code",
   "execution_count": 4,
   "metadata": {},
   "outputs": [],
   "source": [
    "df['Today'] = pd.to_datetime('now')\n",
    "df['Today'] = df['Today'].astype('datetime64[D]')\n",
    "df['Tanggal Terima'] =  df['Tanggal Terima'].astype('datetime64[D]')\n",
    "df['Tanggal'] = df['Tanggal'].astype('datetime64[D]')\n",
    "df['Tgl. Incoming'] = df['Tgl. Incoming'].astype('datetime64[D]')\n",
    "df['Tgl. Proses Terakhir'] = df['Tgl. Proses Terakhir'].astype('datetime64[ns]')\n",
    "df['Proses Akhir'] = df['Tgl. Proses Terakhir'].astype(str)\n",
    "df['Tgl. Manifest Outgoing'] = df['Tgl. Manifest Outgoing'].astype('datetime64[D]')\n",
    "df['Tgl. Delivery'] = df['Tgl. Delivery'].astype('datetime64[D]')\n",
    "df['Tanggal Terima'] = df['Tanggal Terima'].astype('datetime64[D]')\n",
    "df['Bulan'] = df['Tanggal'].dt.strftime('%B')\n",
    "df['BulanInt'] = df['Tanggal'].dt.strftime('%m')\n"
   ]
  },
  {
   "cell_type": "code",
   "execution_count": 5,
   "metadata": {},
   "outputs": [],
   "source": [
    "df[['awb', 'Kurir', 'Status', 'Status POD', 'Keterangan']].to_excel('cekkurir.xlsx')"
   ]
  },
  {
   "cell_type": "code",
   "execution_count": 7,
   "metadata": {},
   "outputs": [
    {
     "data": {
      "text/plain": [
       "2021-05-10    2250\n",
       "2021-05-11    1626\n",
       "2021-05-17     790\n",
       "2021-05-31     672\n",
       "2021-05-03     647\n",
       "2021-05-25     646\n",
       "2021-05-28     646\n",
       "2021-05-27     614\n",
       "2021-05-24     579\n",
       "2021-05-20     564\n",
       "2021-05-07     490\n",
       "2021-05-21     475\n",
       "2021-05-19     435\n",
       "2021-05-06     390\n",
       "2021-05-04     373\n",
       "2021-05-18     354\n",
       "2021-05-05     343\n",
       "Name: Tanggal, dtype: int64"
      ]
     },
     "execution_count": 7,
     "metadata": {},
     "output_type": "execute_result"
    }
   ],
   "source": [
    "df['Tanggal'].value_counts()"
   ]
  },
  {
   "cell_type": "code",
   "execution_count": 5,
   "metadata": {},
   "outputs": [
    {
     "data": {
      "text/plain": [
       "OUTGOING RETURN              13695\n",
       "POD                           7972\n",
       "SHIPMENT RETURN TO CLIENT      834\n",
       "INCOMING RETURN                762\n",
       "DELIVERY                       101\n",
       "INCOMING                        86\n",
       "MANIFEST OUTGOING               81\n",
       "SHIPMENT LOST                    1\n",
       "Name: Proses Terakhir, dtype: int64"
      ]
     },
     "execution_count": 5,
     "metadata": {},
     "output_type": "execute_result"
    }
   ],
   "source": [
    "df['Proses Terakhir'].value_counts()"
   ]
  },
  {
   "cell_type": "code",
   "execution_count": null,
   "metadata": {},
   "outputs": [],
   "source": [
    "\\\n",
    "df[(df['Tanggal']==pd.Timestamp(2020,6,2))]"
   ]
  },
  {
   "cell_type": "code",
   "execution_count": 5,
   "metadata": {},
   "outputs": [],
   "source": [
    "# MEGA Client_sap\n",
    "df.loc[df['Pelanggan']== 'CGKN05163 - BANK MEGA KARTU KREDIT (MEGA FIRST)', 'Client_sap'] = 'MEGA'\n",
    "df.loc[df['Pelanggan']== 'CGK000504 - BANK MEGA KARTU KREDIT (ONLINE APLIKASI)', 'Client_sap'] = 'MEGA'\n",
    "df.loc[df['Pelanggan']== 'MEGA18 - SEMARANG', 'Client_sap'] = 'MEGA'\n",
    "# Bukopin Client_sap\n",
    "df.loc[df['Pelanggan']== 'CGK018645-MITRA USAHA SARANA TRANSPORTASI PT (KK)'] = 'BUKOPIN'\n",
    "df.loc[df['Pelanggan']== 'CGK018645 - MITRA USAHA SARANA TRANSPORTASI PT (KK)'] = 'BUKOPIN'\n"
   ]
  },
  {
   "cell_type": "markdown",
   "metadata": {},
   "source": [
    "#  SLA"
   ]
  },
  {
   "cell_type": "code",
   "execution_count": 34,
   "metadata": {},
   "outputs": [],
   "source": [
    "df['SLA_TO_TODAY'] = df['Today'] - df['Tgl. Incoming']\n",
    "df['SLA_kk'] = df['Tanggal Terima'] - df['Tanggal']\n",
    "df['SLA_TO_PRSAKHIR'] = df['Tgl. Proses Terakhir'] - df['Tgl. Incoming']\n",
    "df['Durasi_antara'] = df['SLA_TO_TODAY'] - df['SLA_TO_PRSAKHIR']\n",
    "df['SLA_TO_TODAY'] = df['SLA_TO_TODAY']/np.timedelta64(1, 'D')\n",
    "df['SLA_TO_PRSAKHIR'] = df['SLA_TO_PRSAKHIR']/np.timedelta64(1, 'D')\n",
    "df['Durasi_antara'] = df['Durasi_antara']/np.timedelta64(1, 'D')\n",
    "\n",
    "df['SLA_kk'] = df['SLA_kk']/np.timedelta64(1, 'D')"
   ]
  },
  {
   "cell_type": "code",
   "execution_count": 35,
   "metadata": {},
   "outputs": [],
   "source": [
    "df['SLAAA'] = np.where(df['SLA_kk'] > 7, '>= 8', df['SLA_kk'])"
   ]
  },
  {
   "cell_type": "code",
   "execution_count": 58,
   "metadata": {},
   "outputs": [],
   "source": [
    "df.loc[df['SLA_kk']== 0, 'SLA_RANGE'] = '0'\n",
    "#df.loc[df['SLA']>3.0, 'SLA_RANGE'] = '>3'\n",
    "# df.loc[df['SLA_kk']<=3.0, 'SLA_RANGE'] = '<=3'\n",
    "df.loc[df['SLA']>5.0, 'SLA_RANGE'] = '>5'\n",
    "# df.loc[df['SLA_kk']<=5.0, 'SLA_RANGE'] = '<=5'\n",
    "#df.loc[df['SLA']<=10.0, 'SLA_RANGE'] = '<=10'\n",
    "df.loc[df['SLA_kk'] <=10.0, 'SLA_RANGE'] = '<=10'\n",
    "\n",
    "df.loc[df['SLA_kk']>10.0, 'SLA_RANGE'] = '>10'\n",
    "\n"
   ]
  },
  {
   "cell_type": "markdown",
   "metadata": {},
   "source": [
    "## SLA PRESENTASI"
   ]
  },
  {
   "cell_type": "code",
   "execution_count": 60,
   "metadata": {
    "collapsed": true
   },
   "outputs": [
    {
     "data": {
      "text/html": [
       "<div>\n",
       "<style scoped>\n",
       "    .dataframe tbody tr th:only-of-type {\n",
       "        vertical-align: middle;\n",
       "    }\n",
       "\n",
       "    .dataframe tbody tr th {\n",
       "        vertical-align: top;\n",
       "    }\n",
       "\n",
       "    .dataframe thead tr th {\n",
       "        text-align: left;\n",
       "    }\n",
       "\n",
       "    .dataframe thead tr:last-of-type th {\n",
       "        text-align: right;\n",
       "    }\n",
       "</style>\n",
       "<table border=\"1\" class=\"dataframe\">\n",
       "  <thead>\n",
       "    <tr>\n",
       "      <th></th>\n",
       "      <th></th>\n",
       "      <th></th>\n",
       "      <th colspan=\"2\" halign=\"left\">awb</th>\n",
       "    </tr>\n",
       "    <tr>\n",
       "      <th></th>\n",
       "      <th></th>\n",
       "      <th>SLA_RANGE</th>\n",
       "      <th>&lt;=10</th>\n",
       "      <th>&gt;10</th>\n",
       "    </tr>\n",
       "    <tr>\n",
       "      <th>Status POD</th>\n",
       "      <th>BulanInt</th>\n",
       "      <th>Tanggal</th>\n",
       "      <th></th>\n",
       "      <th></th>\n",
       "    </tr>\n",
       "  </thead>\n",
       "  <tbody>\n",
       "    <tr>\n",
       "      <th rowspan=\"5\" valign=\"top\">DELIVERED</th>\n",
       "      <th rowspan=\"5\" valign=\"top\">01</th>\n",
       "      <th>2020-01-02</th>\n",
       "      <td>629.0</td>\n",
       "      <td>51.0</td>\n",
       "    </tr>\n",
       "    <tr>\n",
       "      <th>2020-01-03</th>\n",
       "      <td>629.0</td>\n",
       "      <td>33.0</td>\n",
       "    </tr>\n",
       "    <tr>\n",
       "      <th>2020-01-06</th>\n",
       "      <td>768.0</td>\n",
       "      <td>23.0</td>\n",
       "    </tr>\n",
       "    <tr>\n",
       "      <th>2020-01-07</th>\n",
       "      <td>1553.0</td>\n",
       "      <td>40.0</td>\n",
       "    </tr>\n",
       "    <tr>\n",
       "      <th>2020-01-08</th>\n",
       "      <td>1202.0</td>\n",
       "      <td>40.0</td>\n",
       "    </tr>\n",
       "    <tr>\n",
       "      <th>...</th>\n",
       "      <th>...</th>\n",
       "      <th>...</th>\n",
       "      <td>...</td>\n",
       "      <td>...</td>\n",
       "    </tr>\n",
       "    <tr>\n",
       "      <th rowspan=\"5\" valign=\"top\">UNDELIVERED</th>\n",
       "      <th rowspan=\"5\" valign=\"top\">09</th>\n",
       "      <th>2020-09-24</th>\n",
       "      <td>43.0</td>\n",
       "      <td>11.0</td>\n",
       "    </tr>\n",
       "    <tr>\n",
       "      <th>2020-09-25</th>\n",
       "      <td>17.0</td>\n",
       "      <td>6.0</td>\n",
       "    </tr>\n",
       "    <tr>\n",
       "      <th>2020-09-28</th>\n",
       "      <td>24.0</td>\n",
       "      <td>6.0</td>\n",
       "    </tr>\n",
       "    <tr>\n",
       "      <th>2020-09-29</th>\n",
       "      <td>36.0</td>\n",
       "      <td>1.0</td>\n",
       "    </tr>\n",
       "    <tr>\n",
       "      <th>2020-09-30</th>\n",
       "      <td>15.0</td>\n",
       "      <td>NaN</td>\n",
       "    </tr>\n",
       "  </tbody>\n",
       "</table>\n",
       "<p>366 rows × 2 columns</p>\n",
       "</div>"
      ],
      "text/plain": [
       "                                    awb      \n",
       "SLA_RANGE                          <=10   >10\n",
       "Status POD  BulanInt Tanggal                 \n",
       "DELIVERED   01       2020-01-02   629.0  51.0\n",
       "                     2020-01-03   629.0  33.0\n",
       "                     2020-01-06   768.0  23.0\n",
       "                     2020-01-07  1553.0  40.0\n",
       "                     2020-01-08  1202.0  40.0\n",
       "...                                 ...   ...\n",
       "UNDELIVERED 09       2020-09-24    43.0  11.0\n",
       "                     2020-09-25    17.0   6.0\n",
       "                     2020-09-28    24.0   6.0\n",
       "                     2020-09-29    36.0   1.0\n",
       "                     2020-09-30    15.0   NaN\n",
       "\n",
       "[366 rows x 2 columns]"
      ]
     },
     "execution_count": 60,
     "metadata": {},
     "output_type": "execute_result"
    }
   ],
   "source": [
    "corfx.groupby(['Status POD','BulanInt', 'Tanggal','SLA_RANGE'])[['awb']].count().unstack()#.to_excel('SLA_group_perTGL.xlsx')"
   ]
  },
  {
   "cell_type": "code",
   "execution_count": 23,
   "metadata": {},
   "outputs": [],
   "source": []
  },
  {
   "cell_type": "code",
   "execution_count": null,
   "metadata": {},
   "outputs": [],
   "source": [
    "# dfx = df[(df['Tanggal']>= '2020-06-01') & (df['Tanggal']<= '2020-06-30')]\n",
    "import copy\n",
    "dfx = copy.copy(df)\n",
    "#laspro = ['INCOMING RETURN']\n",
    "stpd = ['DELIVERED']\n",
    "rsn = ['DITERIMA OLEH','ANTAR ULANG', 'BARANG DIAMBIL', 'MISSROUTE', 'NO Status']\n",
    "tes = dfx[~(dfx['Status'].isin(rsn))&\n",
    "        (~dfx['Status POD'].isin(stpd))]\n",
    "tes = tes[['awb', 'Penerima', 'Tanggal','Tgl. Manifest Outgoing', 'Tgl. Incoming' , 'TLC Tujuan', 'Pelanggan', 'Status POD', 'Proses Terakhir', 'Status','Kurir','Pengiriman Ke', 'Keterangan', 'SLA_TO_PRSAKHIR', 'Durasi_antara', 'SLA_TO_TODAY']]\n",
    "tes.shape"
   ]
  },
  {
   "cell_type": "code",
   "execution_count": null,
   "metadata": {},
   "outputs": [],
   "source": [
    "with pd.ExcelWriter('Data Return MEGA 1-30 Juni.xlsx') as ret:\n",
    "    for stat, data in tes.groupby('TLC Tujuan'):\n",
    "        data.to_excel(ret, sheet_name = stat)\n"
   ]
  },
  {
   "cell_type": "code",
   "execution_count": null,
   "metadata": {},
   "outputs": [],
   "source": [
    "# =====================================\n",
    "# =====================================\n",
    "# ====================================="
   ]
  },
  {
   "cell_type": "code",
   "execution_count": null,
   "metadata": {},
   "outputs": [],
   "source": [
    "#FILTER TANGGAL\n",
    "\n",
    "# x = df[(df['Tanggal']>=pd.Timestamp(2020,6,2)) & (df['Tanggal']<=pd.Timestamp(2020,6,30))]\n",
    "# x['Tanggal'].unique()\n",
    "\n",
    "dfx = df[(df['Tanggal']>=pd.Timestamp(2020,6,2))& (df['Tanggal']<=pd.Timestamp(2020,6,30))]\n",
    "dfx.shape"
   ]
  },
  {
   "cell_type": "code",
   "execution_count": null,
   "metadata": {},
   "outputs": [],
   "source": [
    "#CROSS CHECKING\n",
    "dfx_crs = dfx[dfx['CYCLE'] == 'CRS']\n",
    "dfx_crs['Instruksi Khusus'].value_counts()"
   ]
  },
  {
   "cell_type": "code",
   "execution_count": null,
   "metadata": {},
   "outputs": [],
   "source": [
    "dfx = dfx\n",
    "\n",
    "def perform_dlvrd(dfx):\n",
    "    x = dfx.groupby(['TLC Tujuan','Status POD'])[['awb']].count().unstack()\n",
    "    z = x.columns\n",
    "    y = pd.Index([e[1] for e in z.to_list()])\n",
    "    x.columns = y\n",
    "    x = x.reset_index()\n",
    "    x.fillna(0, inplace=True)\n",
    "    return (x)\n",
    "perform_dlvrd = perform_dlvrd(dfx)"
   ]
  },
  {
   "cell_type": "code",
   "execution_count": null,
   "metadata": {},
   "outputs": [],
   "source": [
    "perform_dlvrd\n"
   ]
  },
  {
   "cell_type": "markdown",
   "metadata": {},
   "source": [
    "\n",
    "PROBLEM IS IN PART OF ===>>> \n",
    "perform_dlvrd.at['total', 'Pelanggan']='Total'"
   ]
  },
  {
   "cell_type": "code",
   "execution_count": null,
   "metadata": {},
   "outputs": [],
   "source": [
    "perform_dlvrd.loc['total'] = perform_dlvrd.sum(axis = 0)\n",
    "# tot = perform_dlvrd['DELIVERED']+ perform_dlvrd['UNDELIVERED'] + perform_dlvrd['ON PROSES']\n",
    "\n",
    "tot = perform_dlvrd['DELIVERED']+ perform_dlvrd['UNDELIVERED']\n",
    "\n",
    "perform_dlvrd['TOTAL'] = tot #baru\n",
    "perform_dlvrd['%DELIV'] = perform_dlvrd['DELIVERED']/tot*100\n",
    "# perform_dlvrd['%OnProses'] = perform_dlvrd['ON PROSES']/tot*100\n",
    "perform_dlvrd['%UNDELIV'] = perform_dlvrd['UNDELIVERED']/tot*100\n",
    "perform_dlvrd.at['total', 'Pelanggan']='Total'\n",
    "perform_dlvrd.at['total', 'TLC Tujuan']=''\n",
    "\n",
    "\n",
    "# perform_dlvrd = perform_dlvrd[['TLC Tujuan', 'DELIVERED', '%DELIV','UNDELIVERED','%UNDELIV', 'ON PROSES','%OnProses', 'TOTAL']]\n",
    "perform_dlvrd = np.round(perform_dlvrd,decimals=1)\n",
    "perform_dlvrd = perform_dlvrd[['TLC Tujuan', 'DELIVERED', '%DELIV','UNDELIVERED','%UNDELIV', 'TOTAL']]\n",
    "\n",
    "\n",
    "\n",
    "perform_dlvrd= perform_dlvrd.sort_values(['%DELIV','DELIVERED'], ascending=False)\n",
    "#perform_dlvrd.to_excel('KK MEGA, BUKOPIN, SINARMAS, QNB, DANAMON.xlsx')\n",
    "# to_excel('Performance all cabang KK.xlsx')\n",
    "# perform_dlvrd = perform_dlvrd.set_index('TLC Tujuan')\n",
    "# perform_dlvrd = np.round(perform_dlvrd, decimals=1)\n",
    "perform_dlvrd"
   ]
  },
  {
   "cell_type": "code",
   "execution_count": null,
   "metadata": {},
   "outputs": [],
   "source": [
    "perform_dlvrd = perform_dlvrd.drop('total', axis=0)\n",
    "perform_dlvrd"
   ]
  },
  {
   "cell_type": "code",
   "execution_count": null,
   "metadata": {},
   "outputs": [],
   "source": [
    "perform_dlvrd.to_excel('performa Juni 2020.xlsx')"
   ]
  },
  {
   "cell_type": "code",
   "execution_count": null,
   "metadata": {},
   "outputs": [],
   "source": [
    "# =====================================\n",
    "# =====================================\n",
    "# ====================================="
   ]
  },
  {
   "cell_type": "markdown",
   "metadata": {},
   "source": [
    "# PANTAU TABULASI RETURN"
   ]
  },
  {
   "cell_type": "code",
   "execution_count": null,
   "metadata": {},
   "outputs": [],
   "source": [
    "df_tabret = pd.crosstab(tes['TLC Tujuan'], tes['Status'], margins=True)\n",
    "df_tabret.to_excel('Alasan Return KK MEGA 1-30 Juni.xlsx')"
   ]
  },
  {
   "cell_type": "markdown",
   "metadata": {},
   "source": [
    "# STORED FOR RETURN"
   ]
  },
  {
   "cell_type": "code",
   "execution_count": null,
   "metadata": {},
   "outputs": [],
   "source": [
    "# df_ret = df[(df['Tanggal']>= '2020-06-23') & (df['Tanggal']<= '2020-07-04')]\n",
    "df_ret = copy.copy(df)"
   ]
  },
  {
   "cell_type": "code",
   "execution_count": null,
   "metadata": {},
   "outputs": [],
   "source": [
    "df_ret['Pelanggan'].unique()"
   ]
  },
  {
   "cell_type": "markdown",
   "metadata": {},
   "source": [
    "# ========================="
   ]
  },
  {
   "cell_type": "markdown",
   "metadata": {},
   "source": [
    "# FX"
   ]
  },
  {
   "cell_type": "code",
   "execution_count": 2,
   "metadata": {},
   "outputs": [],
   "source": [
    "#FOXPRO\n",
    "\n",
    "import os\n",
    "import glob\n",
    "\n",
    "path = r'C:\\Users\\kartu\\Downloads\\fx'\n",
    "# path = r'D:\\DATA FOXPRO MEGA 2020'\n",
    "file = glob.glob(os.path.join(path,\"*.csv\"))\n",
    "\n",
    "for target in file:\n",
    "    fx = pd.concat((pd.read_csv(f, encoding='cp1252', error_bad_lines=False) for f in file))\n",
    "fx.rename(columns={'barc_': 'awb'}, inplace=True)\n",
    "fx['awb'] = fx['awb'].astype(str)\n",
    "fx['status'].fillna('null', inplace=True)\n",
    "# fx['tgl_pkp']=fx['tgl_pkp'].astype(str)\n",
    "fx['tgl_pkp'] = fx['tgl_pkp'].astype('datetime64[D]')\n",
    "# month to number\n",
    "# fx['bulan'] = fx['tgl_pkp'].dt.month\n",
    "fx['ALAMAT 2'] = fx['company2']+' '+fx['kota20']+' '+fx['kota21'] + ' '+fx['kota22']\n",
    "\n"
   ]
  },
  {
   "cell_type": "markdown",
   "metadata": {},
   "source": [
    "## Tabrak DATA"
   ]
  },
  {
   "cell_type": "code",
   "execution_count": 9,
   "metadata": {},
   "outputs": [
    {
     "name": "stdout",
     "output_type": "stream",
     "text": [
      "(15, 4)\n"
     ]
    },
    {
     "data": {
      "text/html": [
       "<div>\n",
       "<style scoped>\n",
       "    .dataframe tbody tr th:only-of-type {\n",
       "        vertical-align: middle;\n",
       "    }\n",
       "\n",
       "    .dataframe tbody tr th {\n",
       "        vertical-align: top;\n",
       "    }\n",
       "\n",
       "    .dataframe thead th {\n",
       "        text-align: right;\n",
       "    }\n",
       "</style>\n",
       "<table border=\"1\" class=\"dataframe\">\n",
       "  <thead>\n",
       "    <tr style=\"text-align: right;\">\n",
       "      <th></th>\n",
       "      <th>awb</th>\n",
       "      <th>nama</th>\n",
       "      <th>status</th>\n",
       "      <th>tgl_trm</th>\n",
       "    </tr>\n",
       "  </thead>\n",
       "  <tbody>\n",
       "    <tr>\n",
       "      <th>0</th>\n",
       "      <td>CGK8046925500184</td>\n",
       "      <td>ANDI ISMAWATY MASTULEN</td>\n",
       "      <td>null</td>\n",
       "      <td>/  /</td>\n",
       "    </tr>\n",
       "    <tr>\n",
       "      <th>1</th>\n",
       "      <td>CGK8046925500179</td>\n",
       "      <td>SYAFRUDDIN /ANDI ISMAWATY</td>\n",
       "      <td>null</td>\n",
       "      <td>/  /</td>\n",
       "    </tr>\n",
       "  </tbody>\n",
       "</table>\n",
       "</div>"
      ],
      "text/plain": [
       "                awb                       nama status tgl_trm\n",
       "0  CGK8046925500184     ANDI ISMAWATY MASTULEN   null    /  /\n",
       "1  CGK8046925500179  SYAFRUDDIN /ANDI ISMAWATY   null    /  /"
      ]
     },
     "execution_count": 9,
     "metadata": {},
     "output_type": "execute_result"
    }
   ],
   "source": [
    "from datetime import datetime\n",
    "today = pd.to_datetime('today').normalize()\n",
    "today = str(today)\n",
    "\n",
    "retoday = pd.read_excel('ret.xlsx', dtype = {'Tlp1': str})\n",
    "\n",
    "# cekret = pd.merge(retoday, df[['Tlp1', 'awb', 'Tanggal', 'Instruksi Khusus', 'Penerima', 'Status','Status POD','No. Referensi', 'TLC Tujuan', 'Keterangan', 'Alamat Penerima', 'Proses Terakhir', 'Tgl. Proses Terakhir', 'Kurir', 'Pelanggan']],\n",
    "#                  on = 'Tlp1', how='left')\n",
    "\n",
    "cekret = pd.merge(retoday, fx[['awb', 'nama', 'status', 'tgl_trm']],\n",
    "                 on = 'awb', how='left')\n",
    "\n",
    "\n",
    "\n",
    "cekret.to_excel('retxxx.xlsx')\n",
    "print(cekret.shape)\n",
    "cekret.head(2)\n",
    "# cekret"
   ]
  },
  {
   "cell_type": "code",
   "execution_count": 4,
   "metadata": {},
   "outputs": [
    {
     "data": {
      "text/plain": [
       "Index(['cd_png', 'awb', 'tgl_pkp', 'telepon3', 'status', 'jongos', 'tgl_trm',\n",
       "       'nama', 'alm', 'report3', 'company2', 'kota20', 'kota21', 'kota22',\n",
       "       'kota32', 'noresi', 'ALAMAT 2'],\n",
       "      dtype='object')"
      ]
     },
     "execution_count": 4,
     "metadata": {},
     "output_type": "execute_result"
    }
   ],
   "source": [
    "fx.columns"
   ]
  },
  {
   "cell_type": "code",
   "execution_count": 9,
   "metadata": {},
   "outputs": [],
   "source": [
    "fxc = fx[['awb','status']]\n",
    "fxc[fxc['status'] == 'null'].to_excel('fxc.xlsx')"
   ]
  },
  {
   "cell_type": "code",
   "execution_count": 5,
   "metadata": {
    "scrolled": true
   },
   "outputs": [
    {
     "data": {
      "text/plain": [
       "B       14723\n",
       "T         837\n",
       "null       51\n",
       "Name: status, dtype: int64"
      ]
     },
     "execution_count": 5,
     "metadata": {},
     "output_type": "execute_result"
    }
   ],
   "source": [
    "fx['status'].value_counts()"
   ]
  },
  {
   "cell_type": "code",
   "execution_count": 16,
   "metadata": {},
   "outputs": [
    {
     "data": {
      "text/plain": [
       "(209380, 55)"
      ]
     },
     "execution_count": 16,
     "metadata": {},
     "output_type": "execute_result"
    }
   ],
   "source": [
    "corfx.shape"
   ]
  },
  {
   "cell_type": "code",
   "execution_count": 13,
   "metadata": {},
   "outputs": [
    {
     "data": {
      "text/html": [
       "<div>\n",
       "<style scoped>\n",
       "    .dataframe tbody tr th:only-of-type {\n",
       "        vertical-align: middle;\n",
       "    }\n",
       "\n",
       "    .dataframe tbody tr th {\n",
       "        vertical-align: top;\n",
       "    }\n",
       "\n",
       "    .dataframe thead th {\n",
       "        text-align: right;\n",
       "    }\n",
       "</style>\n",
       "<table border=\"1\" class=\"dataframe\">\n",
       "  <thead>\n",
       "    <tr style=\"text-align: right;\">\n",
       "      <th></th>\n",
       "      <th>cd_png</th>\n",
       "      <th>awb</th>\n",
       "      <th>tgl_pkp</th>\n",
       "      <th>telepon3</th>\n",
       "      <th>status</th>\n",
       "      <th>jongos</th>\n",
       "      <th>tgl_trm</th>\n",
       "      <th>nama</th>\n",
       "      <th>alm</th>\n",
       "      <th>report3</th>\n",
       "      <th>company2</th>\n",
       "      <th>kota20</th>\n",
       "      <th>kota21</th>\n",
       "      <th>kota22</th>\n",
       "      <th>kota32</th>\n",
       "      <th>noresi</th>\n",
       "      <th>ALAMAT 2</th>\n",
       "    </tr>\n",
       "  </thead>\n",
       "  <tbody>\n",
       "    <tr>\n",
       "      <th>9876</th>\n",
       "      <td>MGK</td>\n",
       "      <td>CGK8042544800146</td>\n",
       "      <td>2020-11-17</td>\n",
       "      <td>085705085552\\05116747519\\\\05116747519\\</td>\n",
       "      <td>3</td>\n",
       "      <td>NaN</td>\n",
       "      <td>22/11/2020</td>\n",
       "      <td>DWI ESIH ARIYANTI JOHANNIS</td>\n",
       "      <td>_\\KOMP AMD PERMAI BLOK ALALAK UTARA\\B-III NO 6...</td>\n",
       "      <td>REGULAR</td>\n",
       "      <td>BAG ADMIN JL A YANI KM 21.9 NO 13</td>\n",
       "      <td>RT 000 RW 000</td>\n",
       "      <td>NaN</td>\n",
       "      <td>LANDASAN ULIN TENGAH - LIANG ANGGANG BANJARBARU</td>\n",
       "      <td>BDJ</td>\n",
       "      <td>BANJARMASIN</td>\n",
       "      <td>NaN</td>\n",
       "    </tr>\n",
       "  </tbody>\n",
       "</table>\n",
       "</div>"
      ],
      "text/plain": [
       "     cd_png               awb    tgl_pkp  \\\n",
       "9876    MGK  CGK8042544800146 2020-11-17   \n",
       "\n",
       "                                    telepon3 status jongos     tgl_trm  \\\n",
       "9876  085705085552\\05116747519\\\\05116747519\\      3    NaN  22/11/2020   \n",
       "\n",
       "                            nama  \\\n",
       "9876  DWI ESIH ARIYANTI JOHANNIS   \n",
       "\n",
       "                                                    alm  report3  \\\n",
       "9876  _\\KOMP AMD PERMAI BLOK ALALAK UTARA\\B-III NO 6...  REGULAR   \n",
       "\n",
       "                               company2         kota20 kota21  \\\n",
       "9876  BAG ADMIN JL A YANI KM 21.9 NO 13  RT 000 RW 000    NaN   \n",
       "\n",
       "                                               kota22 kota32       noresi  \\\n",
       "9876  LANDASAN ULIN TENGAH - LIANG ANGGANG BANJARBARU    BDJ  BANJARMASIN   \n",
       "\n",
       "     ALAMAT 2  \n",
       "9876      NaN  "
      ]
     },
     "execution_count": 13,
     "metadata": {},
     "output_type": "execute_result"
    }
   ],
   "source": [
    "fx[fx['status']=='3']"
   ]
  },
  {
   "cell_type": "code",
   "execution_count": 19,
   "metadata": {},
   "outputs": [
    {
     "data": {
      "text/plain": [
       "B       14723\n",
       "T         799\n",
       "null       88\n",
       "3           1\n",
       "Name: status, dtype: int64"
      ]
     },
     "execution_count": 19,
     "metadata": {},
     "output_type": "execute_result"
    }
   ],
   "source": [
    "fx['status'].value_counts()\n",
    "\n"
   ]
  },
  {
   "cell_type": "code",
   "execution_count": 19,
   "metadata": {},
   "outputs": [],
   "source": [
    "fx[fx['status']=='null'][['awb']].to_excel('cekos_mega.xlsx')"
   ]
  },
  {
   "cell_type": "code",
   "execution_count": null,
   "metadata": {},
   "outputs": [],
   "source": [
    "corfx.shape\n"
   ]
  },
  {
   "cell_type": "markdown",
   "metadata": {},
   "source": [
    "## Persen Deliv"
   ]
  },
  {
   "cell_type": "code",
   "execution_count": null,
   "metadata": {},
   "outputs": [],
   "source": [
    "# Please change the determiner before execute\n",
    "\n",
    "determiner = input('please insert determiner') #TLC Tujuan\n",
    "def CRFX(dfx):\n",
    "    x = dfx.groupby([determiner, 'Status POD'])[['awb']].count().unstack()\n",
    "    z = x.columns\n",
    "    y = pd.Index([e[1] for e in z.to_list()])\n",
    "    x.columns = y\n",
    "    x = x.reset_index()\n",
    "    x.fillna(0, inplace=True)\n",
    "    return (x)\n",
    "perform_dfx = CRFX(dfx)\n",
    "print('done')"
   ]
  },
  {
   "cell_type": "code",
   "execution_count": null,
   "metadata": {},
   "outputs": [],
   "source": [
    "fx.shape"
   ]
  },
  {
   "cell_type": "code",
   "execution_count": null,
   "metadata": {},
   "outputs": [],
   "source": [
    "fx.loc[fx['cd_png']=='MPL', 'Clientfx'] = 'MEGA'\n",
    "fx.loc[fx['cd_png']=='MGK', 'Clientfx'] = 'MEGA'\n",
    "\n",
    "fx.loc[fx['cd_png']=='PNN', 'Clientfx'] = 'PANIN'\n",
    "fx.loc[fx['cd_png']=='PNT', 'Clientfx'] = 'PANIN'\n",
    "\n",
    "fx.loc[fx['cd_png']=='MUS', 'Clientfx'] = 'BUKOPIN'\n",
    "\n"
   ]
  },
  {
   "cell_type": "code",
   "execution_count": null,
   "metadata": {},
   "outputs": [],
   "source": [
    "fx[fx['awb']=='CGK8037206410955']"
   ]
  },
  {
   "cell_type": "markdown",
   "metadata": {},
   "source": [
    "## Cek Retur by FX"
   ]
  },
  {
   "cell_type": "code",
   "execution_count": null,
   "metadata": {},
   "outputs": [],
   "source": [
    "fxret = fx.groupby(['Clientfx', 'status'])['awb'].count().unstack()"
   ]
  },
  {
   "cell_type": "code",
   "execution_count": null,
   "metadata": {
    "scrolled": true
   },
   "outputs": [],
   "source": [
    "def cek_fx(fx):\n",
    "    # forming df\n",
    "    fxret = fx.groupby(['Clientfx', 'status'])['awb'].count().unstack()\n",
    "    \n",
    "    # sum horizontally\n",
    "    fxret['sum'] = fxret.sum(axis=1)\n",
    "    \n",
    "    # change int\n",
    "    \n",
    "    \n",
    "    return(fxret)\n",
    "\n",
    "result = cek_fx(fx)\n",
    "result"
   ]
  },
  {
   "cell_type": "markdown",
   "metadata": {},
   "source": [
    "## Get awb by Fx"
   ]
  },
  {
   "cell_type": "code",
   "execution_count": null,
   "metadata": {},
   "outputs": [],
   "source": [
    "fill_client = input('what client??? ')\n",
    "filt = [fill_client]\n",
    "st = ['B', 'T']\n",
    "\n",
    "mega_ret = fx[~fx['status'].isin(st)&\n",
    "             fx['Clientfx'].isin(filt)]\n",
    "mega_ret.shape"
   ]
  },
  {
   "cell_type": "code",
   "execution_count": null,
   "metadata": {
    "scrolled": true
   },
   "outputs": [],
   "source": [
    "cekOS = pd.merge(mega_ret[['awb', 'status']], df[['awb', 'TLC Tujuan', 'Tanggal', 'Status POD', 'Proses Terakhir', 'Tgl. Proses Terakhir']],\n",
    "                on = 'awb', how='left')\n",
    "cekOS.to_excel('cekOS.xlsx')"
   ]
  },
  {
   "cell_type": "code",
   "execution_count": null,
   "metadata": {},
   "outputs": [],
   "source": [
    "import os\n",
    "import glob\n",
    "\n",
    "path = r'C:\\Users\\kartu\\Downloads\\fx'\n",
    "file = glob.glob(os.path.join(path,\"*.csv\"))\n",
    "\n",
    "for target in file:\n",
    "    fz = pd.concat((pd.read_csv(f, encoding='cp1252', error_bad_lines=False) for f in file))"
   ]
  },
  {
   "cell_type": "code",
   "execution_count": null,
   "metadata": {},
   "outputs": [],
   "source": [
    "# fx['TGL_PKP'] = fx['TGL_PKP'].astype('datetime64[D]')\n",
    "fx[(fx['TGL_PKP']>= '2020-06-02') & (fx['TGL_PKP']<'2020-07-01')].shape"
   ]
  },
  {
   "cell_type": "code",
   "execution_count": null,
   "metadata": {},
   "outputs": [],
   "source": [
    "#tgl = ['2020-06-30', '2020-06-29', '2020-06-28', '2020-06-27','2020-07-01', '2020-07-02', '2020-07-03']\n",
    "laspro = ['INCOMING RETURN', 'DELIVERY RETURN']\n",
    "stpd = ['DELIVERED']\n",
    "rsn = ['DITERIMA OLEH', 'BARANG DIAMBIL', 'MISSROUTE']\n",
    "tes = df_ret[~(df_ret['Status'].isin(rsn))&\n",
    "        (~df_ret['Status POD'].isin(stpd))&\n",
    "        (~df_ret['Proses Terakhir'].isin(laspro))]\n",
    "tes = tes[['awb', 'Penerima','Alamat Penerima', 'Tanggal','Tgl. Manifest Outgoing', 'Tgl. Incoming' , 'TLC Tujuan', 'Pelanggan', 'Status POD', 'Proses Terakhir', 'Status','Kurir','Pengiriman Ke', 'Keterangan', 'SLA_TO_PRSAKHIR', 'Durasi_antara', 'SLA_TO_TODAY']]\n",
    "tes.shape"
   ]
  },
  {
   "cell_type": "code",
   "execution_count": null,
   "metadata": {},
   "outputs": [],
   "source": [
    "fx.head()"
   ]
  },
  {
   "cell_type": "code",
   "execution_count": null,
   "metadata": {},
   "outputs": [],
   "source": [
    "#cek status T\n",
    "\n",
    "eks[eks['status'] == 'T'].shape"
   ]
  },
  {
   "cell_type": "code",
   "execution_count": null,
   "metadata": {},
   "outputs": [],
   "source": [
    "x = pd.crosstab(eks['TLC Tujuan'], eks['Proses Terakhir'], margins=True)\n",
    "x.to_excel('PIVOT.xlsx')"
   ]
  },
  {
   "cell_type": "markdown",
   "metadata": {},
   "source": [
    "# TEMPLATE MESSAGE"
   ]
  },
  {
   "cell_type": "code",
   "execution_count": null,
   "metadata": {
    "scrolled": true
   },
   "outputs": [],
   "source": [
    "tes[(tes['Tanggal'] == '2020-03-02')]# & (tes['Tanggal'] <= '2020-03-15')]\n"
   ]
  },
  {
   "cell_type": "code",
   "execution_count": null,
   "metadata": {},
   "outputs": [],
   "source": [
    "with pd.ExcelWriter('CEK RETURN ALL CAB 1 Juli sort Status_RETURN.xlsx') as ret:\n",
    "    for stat, data in eks.groupby('Status'):\n",
    "        data.to_excel(ret, sheet_name = stat)\n",
    "        \n",
    "# with pd.ExcelWriter(\"data_by_client.xlsx\") as writer:\n",
    "#     for client, data in perform_dlvrd.groupby('Pelanggan'):\n",
    "#         data.to_excel(writer, sheet_name = client)"
   ]
  },
  {
   "cell_type": "code",
   "execution_count": null,
   "metadata": {},
   "outputs": [],
   "source": [
    "with pd.ExcelWriter('CEK RETURN  ALL CAB 23 Juli sort_TLC.xlsx') as ret:\n",
    "    for stat, data in eks.groupby('TLC Tujuan'):\n",
    "        data.to_excel(ret, sheet_name = stat)\n",
    "        \n",
    "# with pd.ExcelWriter(\"data_by_client.xlsx\") as writer:\n",
    "#     for client, data in perform_dlvrd.groupby('Pelanggan'):\n",
    "#         data.to_excel(writer, sheet_name = client)"
   ]
  },
  {
   "cell_type": "markdown",
   "metadata": {},
   "source": [
    "# TABULASI RETURN"
   ]
  },
  {
   "cell_type": "code",
   "execution_count": null,
   "metadata": {},
   "outputs": [],
   "source": [
    "x = pd.crosstab(eks['TLC Tujuan'], eks['Status'], margins=True)"
   ]
  },
  {
   "cell_type": "code",
   "execution_count": null,
   "metadata": {},
   "outputs": [],
   "source": [
    "x.to_excel('Pivot STATUS RETURN MEGA 09 Juli.xlsx')\n"
   ]
  },
  {
   "cell_type": "code",
   "execution_count": null,
   "metadata": {},
   "outputs": [],
   "source": [
    "x"
   ]
  },
  {
   "cell_type": "markdown",
   "metadata": {},
   "source": [
    "# TOP TLC ======================="
   ]
  },
  {
   "cell_type": "code",
   "execution_count": 40,
   "metadata": {},
   "outputs": [],
   "source": [
    "toptlc = corfx.groupby(['TLC Tujuan', 'BulanInt'])[['awb']].count().unstack()\n",
    "toptlc.fillna(0, inplace=True)\n",
    "toptlc.to_excel('toptlc.xlsx')"
   ]
  },
  {
   "cell_type": "markdown",
   "metadata": {},
   "source": [
    "# ++== MATPLOTLIB for Presentasi ===++\n",
    "\n",
    "FOX PRO DATA\n",
    "CORESYS DATA"
   ]
  },
  {
   "cell_type": "code",
   "execution_count": 19,
   "metadata": {},
   "outputs": [],
   "source": [
    "corfx = pd.merge(fx[['awb', 'status', 'tgl_trm']], df, on = 'awb', how='inner')"
   ]
  },
  {
   "cell_type": "code",
   "execution_count": 20,
   "metadata": {},
   "outputs": [
    {
     "data": {
      "text/plain": [
       "Index(['awb', 'status', 'tgl_trm', 'TLC Asal', 'No. Referensi', 'Pelanggan',\n",
       "       'Tanggal', 'Tujuan', 'TLC Tujuan', 'Tipe Transaksi', 'Service',\n",
       "       'Pengirim', 'Kontak', 'Penerima', 'Alamat Penerima', 'Tlp1', 'Tlp2',\n",
       "       'Kontak Penerima', 'Keterangan Barang', 'Nilai Barang',\n",
       "       'Instruksi Khusus', 'Berat', 'Koli', 'No Pickup', 'Cycle',\n",
       "       'Tgl. Proses Terakhir', 'Proses Terakhir', 'Status POD', 'Status',\n",
       "       'Diterima Oleh', 'Status Penerima', 'Tanggal Terima', 'Jam Terima',\n",
       "       'Keterangan', 'Kurir', 'Posisi Kurir', 'Jenis Kiriman',\n",
       "       'Tgl. Verifikasi', 'Tgl. Manifest Outgoing', 'Tgl. Incoming',\n",
       "       'No. Manifest Outgoing', 'No. Incoming', 'No. Delivery', 'Volumetric',\n",
       "       'Keterangan Outgoing', 'Pengiriman Ke', 'Waktu Verifikasi',\n",
       "       'Tgl. Delivery', 'Diterima Di Alamat', 'Kode Kota', 'Divisi',\n",
       "       'Kode Penerbangan', 'filter_cmi', 'filter_cmo', 'Client_sap', 'Today',\n",
       "       'Proses Akhir', 'Bulan', 'BulanInt'],\n",
       "      dtype='object')"
      ]
     },
     "execution_count": 20,
     "metadata": {},
     "output_type": "execute_result"
    }
   ],
   "source": [
    "corfx.columns"
   ]
  },
  {
   "cell_type": "code",
   "execution_count": 21,
   "metadata": {},
   "outputs": [
    {
     "data": {
      "text/html": [
       "<div>\n",
       "<style scoped>\n",
       "    .dataframe tbody tr th:only-of-type {\n",
       "        vertical-align: middle;\n",
       "    }\n",
       "\n",
       "    .dataframe tbody tr th {\n",
       "        vertical-align: top;\n",
       "    }\n",
       "\n",
       "    .dataframe thead th {\n",
       "        text-align: right;\n",
       "    }\n",
       "</style>\n",
       "<table border=\"1\" class=\"dataframe\">\n",
       "  <thead>\n",
       "    <tr style=\"text-align: right;\">\n",
       "      <th></th>\n",
       "      <th>awb</th>\n",
       "    </tr>\n",
       "    <tr>\n",
       "      <th>BulanInt</th>\n",
       "      <th></th>\n",
       "    </tr>\n",
       "  </thead>\n",
       "  <tbody>\n",
       "    <tr>\n",
       "      <th>01</th>\n",
       "      <td>20031</td>\n",
       "    </tr>\n",
       "    <tr>\n",
       "      <th>02</th>\n",
       "      <td>19518</td>\n",
       "    </tr>\n",
       "    <tr>\n",
       "      <th>03</th>\n",
       "      <td>23332</td>\n",
       "    </tr>\n",
       "    <tr>\n",
       "      <th>04</th>\n",
       "      <td>17278</td>\n",
       "    </tr>\n",
       "    <tr>\n",
       "      <th>05</th>\n",
       "      <td>12472</td>\n",
       "    </tr>\n",
       "    <tr>\n",
       "      <th>06</th>\n",
       "      <td>20108</td>\n",
       "    </tr>\n",
       "    <tr>\n",
       "      <th>07</th>\n",
       "      <td>31615</td>\n",
       "    </tr>\n",
       "    <tr>\n",
       "      <th>08</th>\n",
       "      <td>23063</td>\n",
       "    </tr>\n",
       "    <tr>\n",
       "      <th>09</th>\n",
       "      <td>25603</td>\n",
       "    </tr>\n",
       "    <tr>\n",
       "      <th>10</th>\n",
       "      <td>16360</td>\n",
       "    </tr>\n",
       "  </tbody>\n",
       "</table>\n",
       "</div>"
      ],
      "text/plain": [
       "            awb\n",
       "BulanInt       \n",
       "01        20031\n",
       "02        19518\n",
       "03        23332\n",
       "04        17278\n",
       "05        12472\n",
       "06        20108\n",
       "07        31615\n",
       "08        23063\n",
       "09        25603\n",
       "10        16360"
      ]
     },
     "execution_count": 21,
     "metadata": {},
     "output_type": "execute_result"
    }
   ],
   "source": [
    "# corfx['BulanInt'].value_counts()\n",
    "\n",
    "corfx.groupby(['BulanInt'])[['awb']].count()\n"
   ]
  },
  {
   "cell_type": "code",
   "execution_count": null,
   "metadata": {},
   "outputs": [],
   "source": [
    "corfx.replace"
   ]
  },
  {
   "cell_type": "code",
   "execution_count": 22,
   "metadata": {
    "scrolled": true
   },
   "outputs": [
    {
     "name": "stdout",
     "output_type": "stream",
     "text": [
      "please insert determinerBulanInt\n",
      "done\n",
      "done\n"
     ]
    }
   ],
   "source": [
    "# Please change the determiner before execute\n",
    "\n",
    "determiner = input('please insert determiner') #TLC Tujuan BulanInt\n",
    "def CRFX(corfx):\n",
    "    x = corfx.groupby([determiner, 'status'])[['awb']].count().unstack()\n",
    "    z = x.columns\n",
    "    y = pd.Index([e[1] for e in z.to_list()])\n",
    "    x.columns = y\n",
    "    x = x.reset_index()\n",
    "    x.fillna(0, inplace=True)\n",
    "    return (x)\n",
    "perform_dfx = CRFX(corfx)\n",
    "print('done')\n",
    "perform_dfx['BulanInt'] = perform_dfx['BulanInt'].astype(int)\n",
    "\n",
    "\n",
    "\n",
    "\n",
    "# pls change the determiner1 DELIVERED4 execute\n",
    "# Instruksi Khusus\n",
    "# TLC Tujuan\n",
    "\n",
    "def perform_cek(perform_dfx):\n",
    "\n",
    "#     determiner1 = input('Please insert determiner1: ')\n",
    "\n",
    "    perform_dfx.loc['total'] = perform_dfx.sum(axis = 0)\n",
    "    tot = perform_dfx['B']+ perform_dfx['T']\n",
    "    \n",
    "#     tot = perform_dfx['DELIVERED']+ perform_dfx['UNDELIVERED']\n",
    "\n",
    "    perform_dfx['TOTAL'] = tot #DELIVEREDaru\n",
    "    perform_dfx['%DELIV'] = perform_dfx['B']/tot*100\n",
    "\n",
    "    perform_dfx['%UNDELIV'] = perform_dfx['T']/tot*100\n",
    "#   \n",
    "    # perform_dfx.at['total', 'report3']='Total'\n",
    "#     perform_dfx.at['total', determiner1]='Total'\n",
    "\n",
    "    perform_dfx = np.round(perform_dfx, decimals=1)\n",
    "\n",
    "\n",
    "\n",
    "    perform_dfx = perform_dfx[['BulanInt','B','T','%DELIV', '%UNDELIV', 'TOTAL']]\n",
    "    # 'report3'\n",
    "#     perform_dfx = perform_dfx[[determiner1, 'DELIVERED', 'TARGET 91%', 'TARGET 92%','TARGET 95%', '%DELIV','T','%UNDELIV', 'TOTAL']]\n",
    "\n",
    "    \n",
    "    perform_dfx= perform_dfx.sort_values(['BulanInt'], ascending=True)\n",
    "    #perform_dfx.to_excel('KK MEGA, DELIVEREDUKOPIN, SINARMAS, QNDELIVERED, DANAMON.xlsx')\n",
    "    # to_excel('Performance all caDELIVEREDang KK.xlsx')\n",
    "    print('done')\n",
    "    return(perform_dfx)\n",
    "    \n",
    "\n",
    "perform_dfx_oke = perform_cek(perform_dfx)\n",
    "\n",
    "# perform_dfx_oke.drop(['total'], inplace=True)\n",
    "perform_dfx_oke['BulanInt'] = perform_dfx_oke['BulanInt'].astype(int)\n",
    "perform_dfx_oke['B'] = perform_dfx_oke['B'].astype(int)\n",
    "perform_dfx_oke['T'] = perform_dfx_oke['T'].astype(int)\n",
    "perform_dfx_oke['TOTAL'] = perform_dfx_oke['TOTAL'].astype(int)\n",
    "\n",
    "perform_dfx_oke['BulanInt'] = perform_dfx_oke['BulanInt'].astype(str)\n",
    "\n",
    "\n",
    "# set index for \"BulanInt\"\n",
    "\n",
    "perform_dfx_oke.set_index(\"BulanInt\", inplace=True)\n",
    "# perform_dfx_oke.rename(index = {'45': '0'}, inplace=True)\n",
    "perform_dfx_oke.columns = ['DELIVERED', 'UNDELIVERED', '%DELIV', '%UNDELIV', 'TOTAL']\n",
    "\n",
    "CEK_SUM = perform_dfx_oke[['DELIVERED', 'UNDELIVERED', 'TOTAL']]\n",
    "percentage = perform_dfx_oke[['%DELIV', '%UNDELIV']]\n",
    "\n"
   ]
  },
  {
   "cell_type": "code",
   "execution_count": 24,
   "metadata": {},
   "outputs": [
    {
     "data": {
      "text/html": [
       "<div>\n",
       "<style scoped>\n",
       "    .dataframe tbody tr th:only-of-type {\n",
       "        vertical-align: middle;\n",
       "    }\n",
       "\n",
       "    .dataframe tbody tr th {\n",
       "        vertical-align: top;\n",
       "    }\n",
       "\n",
       "    .dataframe thead th {\n",
       "        text-align: right;\n",
       "    }\n",
       "</style>\n",
       "<table border=\"1\" class=\"dataframe\">\n",
       "  <thead>\n",
       "    <tr style=\"text-align: right;\">\n",
       "      <th></th>\n",
       "      <th>DELIVERED</th>\n",
       "      <th>UNDELIVERED</th>\n",
       "      <th>%DELIV</th>\n",
       "      <th>%UNDELIV</th>\n",
       "      <th>TOTAL</th>\n",
       "    </tr>\n",
       "    <tr>\n",
       "      <th>BulanInt</th>\n",
       "      <th></th>\n",
       "      <th></th>\n",
       "      <th></th>\n",
       "      <th></th>\n",
       "      <th></th>\n",
       "    </tr>\n",
       "  </thead>\n",
       "  <tbody>\n",
       "    <tr>\n",
       "      <th>1</th>\n",
       "      <td>18592</td>\n",
       "      <td>1439</td>\n",
       "      <td>92.8</td>\n",
       "      <td>7.2</td>\n",
       "      <td>20031</td>\n",
       "    </tr>\n",
       "    <tr>\n",
       "      <th>2</th>\n",
       "      <td>17764</td>\n",
       "      <td>1754</td>\n",
       "      <td>91.0</td>\n",
       "      <td>9.0</td>\n",
       "      <td>19518</td>\n",
       "    </tr>\n",
       "    <tr>\n",
       "      <th>3</th>\n",
       "      <td>20102</td>\n",
       "      <td>3230</td>\n",
       "      <td>86.2</td>\n",
       "      <td>13.8</td>\n",
       "      <td>23332</td>\n",
       "    </tr>\n",
       "    <tr>\n",
       "      <th>4</th>\n",
       "      <td>15016</td>\n",
       "      <td>2262</td>\n",
       "      <td>86.9</td>\n",
       "      <td>13.1</td>\n",
       "      <td>17278</td>\n",
       "    </tr>\n",
       "    <tr>\n",
       "      <th>5</th>\n",
       "      <td>10907</td>\n",
       "      <td>1565</td>\n",
       "      <td>87.5</td>\n",
       "      <td>12.5</td>\n",
       "      <td>12472</td>\n",
       "    </tr>\n",
       "    <tr>\n",
       "      <th>6</th>\n",
       "      <td>19017</td>\n",
       "      <td>1091</td>\n",
       "      <td>94.6</td>\n",
       "      <td>5.4</td>\n",
       "      <td>20108</td>\n",
       "    </tr>\n",
       "    <tr>\n",
       "      <th>7</th>\n",
       "      <td>30153</td>\n",
       "      <td>1462</td>\n",
       "      <td>95.4</td>\n",
       "      <td>4.6</td>\n",
       "      <td>31615</td>\n",
       "    </tr>\n",
       "    <tr>\n",
       "      <th>8</th>\n",
       "      <td>21707</td>\n",
       "      <td>1356</td>\n",
       "      <td>94.1</td>\n",
       "      <td>5.9</td>\n",
       "      <td>23063</td>\n",
       "    </tr>\n",
       "    <tr>\n",
       "      <th>9</th>\n",
       "      <td>24571</td>\n",
       "      <td>1032</td>\n",
       "      <td>96.0</td>\n",
       "      <td>4.0</td>\n",
       "      <td>25603</td>\n",
       "    </tr>\n",
       "    <tr>\n",
       "      <th>10</th>\n",
       "      <td>15661</td>\n",
       "      <td>699</td>\n",
       "      <td>95.7</td>\n",
       "      <td>4.3</td>\n",
       "      <td>16360</td>\n",
       "    </tr>\n",
       "    <tr>\n",
       "      <th>55</th>\n",
       "      <td>193490</td>\n",
       "      <td>15890</td>\n",
       "      <td>92.4</td>\n",
       "      <td>7.6</td>\n",
       "      <td>209380</td>\n",
       "    </tr>\n",
       "  </tbody>\n",
       "</table>\n",
       "</div>"
      ],
      "text/plain": [
       "          DELIVERED  UNDELIVERED  %DELIV  %UNDELIV   TOTAL\n",
       "BulanInt                                                  \n",
       "1             18592         1439    92.8       7.2   20031\n",
       "2             17764         1754    91.0       9.0   19518\n",
       "3             20102         3230    86.2      13.8   23332\n",
       "4             15016         2262    86.9      13.1   17278\n",
       "5             10907         1565    87.5      12.5   12472\n",
       "6             19017         1091    94.6       5.4   20108\n",
       "7             30153         1462    95.4       4.6   31615\n",
       "8             21707         1356    94.1       5.9   23063\n",
       "9             24571         1032    96.0       4.0   25603\n",
       "10            15661          699    95.7       4.3   16360\n",
       "55           193490        15890    92.4       7.6  209380"
      ]
     },
     "execution_count": 24,
     "metadata": {},
     "output_type": "execute_result"
    }
   ],
   "source": [
    "perform_dfx_oke"
   ]
  },
  {
   "cell_type": "code",
   "execution_count": 25,
   "metadata": {
    "scrolled": true
   },
   "outputs": [
    {
     "data": {
      "text/html": [
       "<div>\n",
       "<style scoped>\n",
       "    .dataframe tbody tr th:only-of-type {\n",
       "        vertical-align: middle;\n",
       "    }\n",
       "\n",
       "    .dataframe tbody tr th {\n",
       "        vertical-align: top;\n",
       "    }\n",
       "\n",
       "    .dataframe thead th {\n",
       "        text-align: right;\n",
       "    }\n",
       "</style>\n",
       "<table border=\"1\" class=\"dataframe\">\n",
       "  <thead>\n",
       "    <tr style=\"text-align: right;\">\n",
       "      <th></th>\n",
       "      <th>DELIVERED</th>\n",
       "      <th>UNDELIVERED</th>\n",
       "      <th>TOTAL</th>\n",
       "      <th>%DELIV</th>\n",
       "      <th>%UNDELIV</th>\n",
       "    </tr>\n",
       "  </thead>\n",
       "  <tbody>\n",
       "    <tr>\n",
       "      <th>Total</th>\n",
       "      <td>193490</td>\n",
       "      <td>15890</td>\n",
       "      <td>209380</td>\n",
       "      <td>92.4</td>\n",
       "      <td>7.6</td>\n",
       "    </tr>\n",
       "  </tbody>\n",
       "</table>\n",
       "</div>"
      ],
      "text/plain": [
       "       DELIVERED  UNDELIVERED   TOTAL  %DELIV  %UNDELIV\n",
       "Total     193490        15890  209380    92.4       7.6"
      ]
     },
     "execution_count": 25,
     "metadata": {},
     "output_type": "execute_result"
    }
   ],
   "source": [
    "ALL = perform_dfx_oke.iloc[[10]] # number iloc should be adaptable\n",
    "ALL.index = ['Total']\n",
    "ALL = ALL[['DELIVERED', 'UNDELIVERED', 'TOTAL', '%DELIV', '%UNDELIV']]\n",
    "ALL"
   ]
  },
  {
   "cell_type": "code",
   "execution_count": 26,
   "metadata": {},
   "outputs": [
    {
     "data": {
      "text/html": [
       "<div>\n",
       "<style scoped>\n",
       "    .dataframe tbody tr th:only-of-type {\n",
       "        vertical-align: middle;\n",
       "    }\n",
       "\n",
       "    .dataframe tbody tr th {\n",
       "        vertical-align: top;\n",
       "    }\n",
       "\n",
       "    .dataframe thead th {\n",
       "        text-align: right;\n",
       "    }\n",
       "</style>\n",
       "<table border=\"1\" class=\"dataframe\">\n",
       "  <thead>\n",
       "    <tr style=\"text-align: right;\">\n",
       "      <th></th>\n",
       "      <th>DELIVERED</th>\n",
       "      <th>UNDELIVERED</th>\n",
       "      <th>TOTAL</th>\n",
       "    </tr>\n",
       "    <tr>\n",
       "      <th>BulanInt</th>\n",
       "      <th></th>\n",
       "      <th></th>\n",
       "      <th></th>\n",
       "    </tr>\n",
       "  </thead>\n",
       "  <tbody>\n",
       "    <tr>\n",
       "      <th>1</th>\n",
       "      <td>18592</td>\n",
       "      <td>1439</td>\n",
       "      <td>20031</td>\n",
       "    </tr>\n",
       "    <tr>\n",
       "      <th>2</th>\n",
       "      <td>17764</td>\n",
       "      <td>1754</td>\n",
       "      <td>19518</td>\n",
       "    </tr>\n",
       "    <tr>\n",
       "      <th>3</th>\n",
       "      <td>20102</td>\n",
       "      <td>3230</td>\n",
       "      <td>23332</td>\n",
       "    </tr>\n",
       "    <tr>\n",
       "      <th>4</th>\n",
       "      <td>15016</td>\n",
       "      <td>2262</td>\n",
       "      <td>17278</td>\n",
       "    </tr>\n",
       "    <tr>\n",
       "      <th>5</th>\n",
       "      <td>10907</td>\n",
       "      <td>1565</td>\n",
       "      <td>12472</td>\n",
       "    </tr>\n",
       "    <tr>\n",
       "      <th>6</th>\n",
       "      <td>19017</td>\n",
       "      <td>1091</td>\n",
       "      <td>20108</td>\n",
       "    </tr>\n",
       "    <tr>\n",
       "      <th>7</th>\n",
       "      <td>30153</td>\n",
       "      <td>1462</td>\n",
       "      <td>31615</td>\n",
       "    </tr>\n",
       "    <tr>\n",
       "      <th>8</th>\n",
       "      <td>21707</td>\n",
       "      <td>1356</td>\n",
       "      <td>23063</td>\n",
       "    </tr>\n",
       "    <tr>\n",
       "      <th>9</th>\n",
       "      <td>24571</td>\n",
       "      <td>1032</td>\n",
       "      <td>25603</td>\n",
       "    </tr>\n",
       "    <tr>\n",
       "      <th>10</th>\n",
       "      <td>15661</td>\n",
       "      <td>699</td>\n",
       "      <td>16360</td>\n",
       "    </tr>\n",
       "  </tbody>\n",
       "</table>\n",
       "</div>"
      ],
      "text/plain": [
       "          DELIVERED  UNDELIVERED  TOTAL\n",
       "BulanInt                               \n",
       "1             18592         1439  20031\n",
       "2             17764         1754  19518\n",
       "3             20102         3230  23332\n",
       "4             15016         2262  17278\n",
       "5             10907         1565  12472\n",
       "6             19017         1091  20108\n",
       "7             30153         1462  31615\n",
       "8             21707         1356  23063\n",
       "9             24571         1032  25603\n",
       "10            15661          699  16360"
      ]
     },
     "execution_count": 26,
     "metadata": {},
     "output_type": "execute_result"
    }
   ],
   "source": [
    "# delete Index 9\n",
    "CEK_SUM = CEK_SUM.drop([CEK_SUM.index[10]]) \n",
    "CEK_SUM"
   ]
  },
  {
   "cell_type": "code",
   "execution_count": 27,
   "metadata": {
    "scrolled": false
   },
   "outputs": [
    {
     "data": {
      "text/html": [
       "<div>\n",
       "<style scoped>\n",
       "    .dataframe tbody tr th:only-of-type {\n",
       "        vertical-align: middle;\n",
       "    }\n",
       "\n",
       "    .dataframe tbody tr th {\n",
       "        vertical-align: top;\n",
       "    }\n",
       "\n",
       "    .dataframe thead th {\n",
       "        text-align: right;\n",
       "    }\n",
       "</style>\n",
       "<table border=\"1\" class=\"dataframe\">\n",
       "  <thead>\n",
       "    <tr style=\"text-align: right;\">\n",
       "      <th></th>\n",
       "      <th>%DELIV</th>\n",
       "      <th>%UNDELIV</th>\n",
       "    </tr>\n",
       "    <tr>\n",
       "      <th>BulanInt</th>\n",
       "      <th></th>\n",
       "      <th></th>\n",
       "    </tr>\n",
       "  </thead>\n",
       "  <tbody>\n",
       "    <tr>\n",
       "      <th>1</th>\n",
       "      <td>92.8</td>\n",
       "      <td>7.2</td>\n",
       "    </tr>\n",
       "    <tr>\n",
       "      <th>2</th>\n",
       "      <td>91.0</td>\n",
       "      <td>9.0</td>\n",
       "    </tr>\n",
       "    <tr>\n",
       "      <th>3</th>\n",
       "      <td>86.2</td>\n",
       "      <td>13.8</td>\n",
       "    </tr>\n",
       "    <tr>\n",
       "      <th>4</th>\n",
       "      <td>86.9</td>\n",
       "      <td>13.1</td>\n",
       "    </tr>\n",
       "    <tr>\n",
       "      <th>5</th>\n",
       "      <td>87.5</td>\n",
       "      <td>12.5</td>\n",
       "    </tr>\n",
       "    <tr>\n",
       "      <th>6</th>\n",
       "      <td>94.6</td>\n",
       "      <td>5.4</td>\n",
       "    </tr>\n",
       "    <tr>\n",
       "      <th>7</th>\n",
       "      <td>95.4</td>\n",
       "      <td>4.6</td>\n",
       "    </tr>\n",
       "    <tr>\n",
       "      <th>8</th>\n",
       "      <td>94.1</td>\n",
       "      <td>5.9</td>\n",
       "    </tr>\n",
       "    <tr>\n",
       "      <th>9</th>\n",
       "      <td>96.0</td>\n",
       "      <td>4.0</td>\n",
       "    </tr>\n",
       "    <tr>\n",
       "      <th>10</th>\n",
       "      <td>95.7</td>\n",
       "      <td>4.3</td>\n",
       "    </tr>\n",
       "  </tbody>\n",
       "</table>\n",
       "</div>"
      ],
      "text/plain": [
       "          %DELIV  %UNDELIV\n",
       "BulanInt                  \n",
       "1           92.8       7.2\n",
       "2           91.0       9.0\n",
       "3           86.2      13.8\n",
       "4           86.9      13.1\n",
       "5           87.5      12.5\n",
       "6           94.6       5.4\n",
       "7           95.4       4.6\n",
       "8           94.1       5.9\n",
       "9           96.0       4.0\n",
       "10          95.7       4.3"
      ]
     },
     "execution_count": 27,
     "metadata": {},
     "output_type": "execute_result"
    }
   ],
   "source": [
    "percentage=percentage.drop([percentage.index[10]]) \n",
    "percentage"
   ]
  },
  {
   "cell_type": "code",
   "execution_count": 34,
   "metadata": {},
   "outputs": [
    {
     "data": {
      "image/png": "[encoded data removed]",
      "text/plain": [
       "<Figure size 1440x720 with 1 Axes>"
      ]
     },
     "metadata": {
      "needs_background": "light"
     },
     "output_type": "display_data"
    }
   ],
   "source": [
    "# ALL   CEK_SUM   percentage\n",
    "\n",
    "# fontsize\n",
    "plt.rcParams['font.sans-serif'] = \"Comic Sans MS\"\n",
    "# Then, \"ALWAYS use sans-serif fonts\"\n",
    "plt.rcParams['font.family'] = \"sans-serif\"\n",
    "\n",
    "\n",
    "# ganti dataframeeeee!!\n",
    "ax = CEK_SUM.plot(kind='bar', figsize=(20,10))\n",
    "for p in ax.patches: \n",
    "    ax.annotate(np.round(p.get_height(),decimals=2), \n",
    "                                 (p.get_x()+p.get_width()/2., p.get_height()), ha='center', \n",
    "                                 va='center', xytext=(9, 17), textcoords='offset points', \n",
    "                                fontsize = 22)\n",
    "\n",
    "ax.color=['r','b', 'g']\n",
    "ax.autoscale(enable=True, axis='both', tight=False)\n",
    "\n",
    "plt.suptitle('PERFORMANCE \\n JANUARI-OKTOBER 2020', fontsize=26)\n",
    "# ax.plot(figsize=(70,30))\n",
    "ax.grid()\n",
    "plt.xlabel('BULAN', fontsize=20)\n",
    "plt.ylabel('JUMLAH KARTU', fontsize=20)\n",
    "plt.xticks(rotation='horizontal', fontsize = 20)\n",
    "# plt.legend(loc='center right', fontsize = 'xx-large')\n",
    "\n",
    "# FOR CEK_SUM LEGEND\n",
    "plt.legend(loc='upper left', fontsize = 'xx-large')\n",
    "\n",
    "ax.text(1, -0.05, '===LKM===', transform=ax.transAxes,\n",
    "        fontsize=20, color='green', alpha=0.6,\n",
    "        ha='right', va='top', rotation='0')\n",
    " \n",
    "# 'top', 'bottom', 'center', 'baseline', 'center_baseline'\n",
    "\n",
    "# upper right\n",
    "# \tupper left\n",
    "# \tlower left\n",
    "# \tlower right\n",
    "# \tright\n",
    "# \tcenter left\n",
    "# \tcenter right\n",
    "# \tlower center\n",
    "# \tupper center\n",
    "# \tcenter\n",
    "# always put savefig BEFORE plt.show to enable the picture generator\n",
    "# medium\n",
    "# large\n",
    "# x-large\n",
    "# xx-large\n",
    "\n",
    "# plt.rcParams[\"font.cursive\"] = \"Textile\"\n",
    "\n",
    "plt.savefig(os.path.join('percentage font style CEK_SUM 25NOV.png'), dpi=400, format='png') # use format='svg' or 'pdf' for vectorial pictures\n",
    "\n",
    "plt.show()\n",
    "\n",
    "# cek font\n",
    "# http://jonathansoma.com/lede/data-studio/matplotlib/changing-fonts-in-matplotlib/\n",
    "# https://stackoverflow.com/questions/21321670/how-to-change-fonts-in-matplotlib-python"
   ]
  },
  {
   "cell_type": "code",
   "execution_count": null,
   "metadata": {},
   "outputs": [],
   "source": [
    "\n",
    "\n",
    "plt.show()"
   ]
  },
  {
   "cell_type": "markdown",
   "metadata": {},
   "source": [
    "## Percentage"
   ]
  },
  {
   "cell_type": "code",
   "execution_count": null,
   "metadata": {},
   "outputs": [],
   "source": []
  },
  {
   "cell_type": "code",
   "execution_count": null,
   "metadata": {},
   "outputs": [],
   "source": [
    "# ============================================================================================================"
   ]
  },
  {
   "cell_type": "markdown",
   "metadata": {},
   "source": [
    "## Differentiate Colour Bar chart"
   ]
  },
  {
   "cell_type": "code",
   "execution_count": null,
   "metadata": {},
   "outputs": [],
   "source": [
    "import matplotlib.patches as patches"
   ]
  },
  {
   "cell_type": "code",
   "execution_count": null,
   "metadata": {},
   "outputs": [],
   "source": [
    "perform_dlvrd['com'] = perform_dlvrd['%DELIV'].astype(str)+ '-' + perform_dlvrd['TLC Tujuan']\n",
    "perform_dlvrd['com']"
   ]
  },
  {
   "cell_type": "code",
   "execution_count": null,
   "metadata": {},
   "outputs": [],
   "source": [
    "# x = perform_dfx_oke.loc[:, ['B', 'T','%DELIV','%UNDELIV', 'TOTAL']]\n",
    "\n",
    "\n",
    "# x = x[x['TLC Tujuan']!='']\n",
    "# x = x.set_index('com')\n",
    "xlab = perform_dfx_oke['BulanInt']\n",
    "# ylab = x['%DELIV']\n",
    "ylab = perform_dfx_oke['TOTAL']"
   ]
  },
  {
   "cell_type": "code",
   "execution_count": null,
   "metadata": {},
   "outputs": [],
   "source": [
    "ylab"
   ]
  },
  {
   "cell_type": "code",
   "execution_count": null,
   "metadata": {},
   "outputs": [],
   "source": [
    "#fix modifikasi jgn diubah, jk mau ubah use tab baru!!!!!!\n",
    "#https://stackoverflow.com/questions/30228069/how-to-display-the-value-of-the-bar-on-each-bar-with-pyplot-barh\n",
    "\n",
    "import os\n",
    "import numpy as np\n",
    "import matplotlib.pyplot as plt\n",
    "\n",
    "fig = plt.figure(figsize = (30, 14))\n",
    "ax = fig.add_subplot()\n",
    "\n",
    "for x_, y_ in zip(xlab, ylab):\n",
    "    ax.barh(x_, y_, color=\"red\" if x_ < 20000.0 else 'green', alpha = 0.3)    \n",
    "    \n",
    "\n",
    "#fig, ax = plt.subplots()    \n",
    "width = 0.75 # the width of the bars \n",
    "ind = np.arange(len(xlab))  # the x locations for the groups\n",
    "ax.barh(ind, ylab, width, color=\"blue\")\n",
    "ax.figsize = (28, 14)\n",
    "ax.set_yticks(ind+width/2)\n",
    "#ax.set_yticks(ind)\n",
    "ax.set_yticklabels(ylab, minor=False)\n",
    "for i, v in enumerate(ylab):\n",
    "    ax.text(v, i, \" \"+str(v), color='k', va='center', fontweight='bold')\n",
    "\n",
    "plt.title('''PERSENTASE SUKSES MEGA\\n PERIODE 1-30''', fontsize=18)\n",
    "plt.xlabel('RANGE PERCENTAGE', fontsize=14)\n",
    "plt.ylabel('LIST OF TLC', fontsize=14)\n",
    "plt.grid()\n",
    "plt.show()\n",
    "# plt.savefig(os.path.join('test.png'), dpi=600, format='png', bbox_inches='tight') # use format='svg' or 'pdf' for vectorial pictures\n",
    "\n",
    "#plt.savefig('tes.jpg', dpi = 500)"
   ]
  },
  {
   "cell_type": "code",
   "execution_count": null,
   "metadata": {
    "scrolled": false
   },
   "outputs": [],
   "source": [
    "perform_dfx_oke[['B', 'T', '%DELIV', '%UNDELIV', 'TOTAL']].head()"
   ]
  },
  {
   "cell_type": "code",
   "execution_count": null,
   "metadata": {},
   "outputs": [],
   "source": []
  },
  {
   "cell_type": "markdown",
   "metadata": {},
   "source": [
    "## Put Annotation on chart"
   ]
  },
  {
   "cell_type": "code",
   "execution_count": null,
   "metadata": {},
   "outputs": [],
   "source": [
    "import matplotlib.pyplot as plt\n",
    "%matplotlib inline"
   ]
  },
  {
   "cell_type": "code",
   "execution_count": null,
   "metadata": {},
   "outputs": [],
   "source": [
    "ax = tes.loc[:, ['Jumlah', 'DELIVERED', 'UNDELIVERED']].plot(kind='bar',figsize=(13,6));\n",
    "for p in ax.patches: \n",
    "    ax.annotate(np.round(p.get_height(), decimals=2), \n",
    "                (p.get_x()+p.get_width()/2., p.get_height()),\n",
    "                ha='center', \n",
    "                va='center', \n",
    "                xytext=(2, 6), \n",
    "                textcoords='offset points');\n",
    "plt.ylabel('JUMLAH PICKUP', fontsize=12);\n",
    "plt.title('\\nSUMMARY DELIVERY MEGA 1-7 2020\\n', fontsize=15);\n",
    "plt.xticks(rotation='horizontal');\n",
    "plt.grid();\n",
    "\n"
   ]
  },
  {
   "cell_type": "markdown",
   "metadata": {},
   "source": [
    "# Auto Export"
   ]
  },
  {
   "cell_type": "markdown",
   "metadata": {},
   "source": [
    "## Export based on name"
   ]
  },
  {
   "cell_type": "code",
   "execution_count": null,
   "metadata": {},
   "outputs": [],
   "source": [
    "# https://stackoverflow.com/questions/42918790/python-how-to-save-csv-files-with-different-file-names\n",
    "\n",
    "jsb = df[df['TLC Tujuan']=='JSB'][['awb','TLC Tujuan', 'Status POD','Proses Terakhir']]\n",
    "jsa = df[df['TLC Tujuan']=='JSA'][['awb','TLC Tujuan', 'Status POD','Proses Terakhir']]\n",
    "jku = df[df['TLC Tujuan']=='JKU'][['awb','TLC Tujuan', 'Status POD','Proses Terakhir']]\n",
    "\n",
    "df_list = [jsb, jsa, jku]"
   ]
  },
  {
   "cell_type": "code",
   "execution_count": null,
   "metadata": {},
   "outputs": [],
   "source": [
    "\n",
    "df_list=[niaga, mega]\n",
    "\n",
    "for df in df_list:\n",
    "    os.chdir(r'C:\\Users\\LENOVO\\Documents\\PANTAU PERFORMA')\n",
    "    #get the id and recordDay values from each df\n",
    "    df_tlc=df['TLC Tujuan'].iloc[0]\n",
    "    #df_record_day=df['recordDay'].iloc[0]\n",
    "\n",
    "    #generate a unique file name based on the id and record\n",
    "    file_name=\"TLC\"+\"_\" +str(df_tlc)+\".xlsx\"\n",
    "\n",
    "    #create the CSV\n",
    "    \n",
    "    df.to_excel(file_name, index = False)\n"
   ]
  },
  {
   "cell_type": "code",
   "execution_count": null,
   "metadata": {},
   "outputs": [],
   "source": [
    "# https://stackoverflow.com/questions/33742588/pandas-split-dataframe-by-column-value\n",
    "\n",
    "df_list=[op]  #??? iter all TLC to divide into several df\n",
    "\n",
    "for df in df_list:\n",
    "    \n",
    "    #get the id and recordDay values from each df\n",
    "    df_tlc=op['TLC Tujuan'].value_counts().index.to_list()\n",
    "    #df_record_day=df['recordDay'].iloc[0]\n",
    "    for tlc in df_tlc:\n",
    "        file_name=\"TLC\"+\"_\" +str(tlc)+\".csv\"\n",
    "        df.to_csv(file_name, index = False)\n",
    "    #generate a unique file name based on the id and record\n",
    "    \n",
    "\n",
    "    #create the CSV\n",
    "    \n"
   ]
  },
  {
   "cell_type": "code",
   "execution_count": null,
   "metadata": {},
   "outputs": [],
   "source": [
    "def tes(df):\n",
    "    tes2 = df['TLC Tujuan'].unique()\n",
    "    for i in tes2:\n",
    "        tes1 = df.loc[df['TLC Tujuan']== i, 'tlcxx'] = i\n",
    "        return(tes1)\n",
    "tes()\n"
   ]
  },
  {
   "cell_type": "markdown",
   "metadata": {},
   "source": [
    "## Sum() Every Columns Per Sheets?"
   ]
  },
  {
   "cell_type": "code",
   "execution_count": null,
   "metadata": {},
   "outputs": [],
   "source": [
    "#SUM() EVERY COLUMNS PER SHEETS!!\n",
    "\n",
    "import pandas as pd\n",
    "\n",
    "sheets_dict = pd.read_excel('Book1.xlsx', sheetname=None)\n",
    "\n",
    "full_table = pd.DataFrame()\n",
    "for name, sheet in sheets_dict.items():\n",
    "    sheet['sheet'] = name\n",
    "    sheet = sheet.rename(columns=lambda x: x.split('\\n')[-1])\n",
    "    full_table = full_table.append(sheet)\n",
    "\n",
    "full_table.reset_index(inplace=True, drop=True)\n",
    "\n",
    "print full_table"
   ]
  },
  {
   "cell_type": "markdown",
   "metadata": {},
   "source": [
    "# "
   ]
  }
 ],
 "metadata": {
  "kernelspec": {
   "display_name": "Python 3",
   "language": "python",
   "name": "python3"
  },
  "language_info": {
   "codemirror_mode": {
    "name": "ipython",
    "version": 3
   },
   "file_extension": ".py",
   "mimetype": "text/x-python",
   "name": "python",
   "nbconvert_exporter": "python",
   "pygments_lexer": "ipython3",
   "version": "3.8.5"
  },
  "toc": {
   "base_numbering": 1,
   "nav_menu": {
    "height": "361px",
    "width": "291px"
   },
   "number_sections": true,
   "sideBar": true,
   "skip_h1_title": false,
   "title_cell": "Table of Contents",
   "title_sidebar": "Contents",
   "toc_cell": false,
   "toc_position": {
    "height": "388.867px",
    "left": "31px",
    "top": "415.133px",
    "width": "257.767px"
   },
   "toc_section_display": true,
   "toc_window_display": true
  }
 },
 "nbformat": 4,
 "nbformat_minor": 2
}
